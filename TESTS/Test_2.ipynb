{
  "nbformat": 4,
  "nbformat_minor": 0,
  "metadata": {
    "colab": {
      "provenance": [],
      "authorship_tag": "ABX9TyP212ZovhR67cZXmlikeTtp"
    },
    "kernelspec": {
      "name": "python3",
      "display_name": "Python 3"
    },
    "language_info": {
      "name": "python"
    }
  },
  "cells": [
    {
      "cell_type": "markdown",
      "source": [
        "1. Write a Python program using lambda to calculate the square of a number\n",
        "entered by the user."
      ],
      "metadata": {
        "id": "4gA95UliQIds"
      }
    },
    {
      "cell_type": "code",
      "execution_count": 3,
      "metadata": {
        "colab": {
          "base_uri": "https://localhost:8080/"
        },
        "id": "R70uHbPtQHi_",
        "outputId": "36a02ece-20fc-4baa-d61a-822008f6e060"
      },
      "outputs": [
        {
          "output_type": "stream",
          "name": "stdout",
          "text": [
            "enter a number:6\n",
            "36.0\n"
          ]
        }
      ],
      "source": [
        "sq=lambda x: x ** 2\n",
        "#we take a no as input and then use sq. Here, sq uses lambda function\n",
        "num=float(input('enter a number:'))\n",
        "res = sq(num)\n",
        "print(res)"
      ]
    },
    {
      "cell_type": "markdown",
      "source": [
        "2. Use map to double all the elements in the list: [1, 2, 3, 4, 5].\n"
      ],
      "metadata": {
        "id": "rKztUxN6RAj2"
      }
    },
    {
      "cell_type": "code",
      "source": [
        "lst=[1, 2, 3, 4, 5]\n",
        "doub = list(map(lambda x: x * 2, lst))\n",
        "#we use list, map, lambda functions to work on our list lst. It returns the double of all elements\n",
        "print(doub)"
      ],
      "metadata": {
        "colab": {
          "base_uri": "https://localhost:8080/"
        },
        "id": "wY7M7qo9REsu",
        "outputId": "0cb64783-ef7c-4835-fbb3-33f593a609ab"
      },
      "execution_count": 5,
      "outputs": [
        {
          "output_type": "stream",
          "name": "stdout",
          "text": [
            "[2, 4, 6, 8, 10]\n"
          ]
        }
      ]
    },
    {
      "cell_type": "markdown",
      "source": [
        "3. Use filter to extract all even numbers from the list: [10, 15, 20, 25, 30]"
      ],
      "metadata": {
        "id": "_4pYfktlRjZm"
      }
    },
    {
      "cell_type": "code",
      "source": [
        "lst=[10,15,20,25,30]\n",
        "even_lst=list(filter(lambda x: x % 2 == 0, lst))\n",
        "#we use lambda function for filtering out even nos. we know that for a number to be even, number%2==0\n",
        "print(even_lst)"
      ],
      "metadata": {
        "colab": {
          "base_uri": "https://localhost:8080/"
        },
        "id": "bHg_1KbRRj8j",
        "outputId": "6e99334c-f128-4ae7-d14c-4e1b3b72bf2b"
      },
      "execution_count": 6,
      "outputs": [
        {
          "output_type": "stream",
          "name": "stdout",
          "text": [
            "[10, 20, 30]\n"
          ]
        }
      ]
    },
    {
      "cell_type": "markdown",
      "source": [
        "4. Write a one-liner lambda function to check if a given number is a palindrome."
      ],
      "metadata": {
        "id": "HEkeARb3R69D"
      }
    },
    {
      "cell_type": "code",
      "source": [
        "res=lambda x:str(x)==str(x)[::-1]\n",
        "num=int(input('enter a number:'))\n",
        "# here, we start from the end and slice with a step size of 1... in the end, we compare the original and reversed values to check palindrome\n",
        "print(res(num))"
      ],
      "metadata": {
        "colab": {
          "base_uri": "https://localhost:8080/"
        },
        "id": "6sR1aRViR_Kr",
        "outputId": "2bda696e-29ad-459c-adb0-a00d2bbb9b9a"
      },
      "execution_count": 7,
      "outputs": [
        {
          "output_type": "stream",
          "name": "stdout",
          "text": [
            "enter a number:88\n",
            "True\n"
          ]
        }
      ]
    },
    {
      "cell_type": "markdown",
      "source": [
        "7. Create a class Person with attributes name and age. Add a method greet that\n",
        "prints a greeting with the name. Create an object of the class and call the greet\n",
        "method"
      ],
      "metadata": {
        "id": "g9QI02kTSNo7"
      }
    },
    {
      "cell_type": "code",
      "source": [
        "class Person:\n",
        "  #we create a class Person with the attributes name and age. Then we define a method greet on it\n",
        "    def __init__(self,name,age):\n",
        "        self.name=name\n",
        "        self.age=age\n",
        "    def greet(self):\n",
        "        print(f'hello {self.name}')"
      ],
      "metadata": {
        "id": "BBZZloZ9STZT"
      },
      "execution_count": 8,
      "outputs": []
    },
    {
      "cell_type": "markdown",
      "source": [
        "10.Write a program to print the first 10 natural numbers using a for loop."
      ],
      "metadata": {
        "id": "uyZ_4lbsSi-z"
      }
    },
    {
      "cell_type": "code",
      "source": [
        "for i in range(1,11):\n",
        "    print(i)\n",
        "    # the for loop prints all numbers from 1 to (11-1 ie 10)"
      ],
      "metadata": {
        "colab": {
          "base_uri": "https://localhost:8080/"
        },
        "id": "PZCZbTFISnM4",
        "outputId": "61c3b615-5ae4-4e30-e401-a8e1f62fb5ac"
      },
      "execution_count": 9,
      "outputs": [
        {
          "output_type": "stream",
          "name": "stdout",
          "text": [
            "1\n",
            "2\n",
            "3\n",
            "4\n",
            "5\n",
            "6\n",
            "7\n",
            "8\n",
            "9\n",
            "10\n"
          ]
        }
      ]
    },
    {
      "cell_type": "markdown",
      "source": [
        "12.Write a Python program to print the multiplication table of a given number using\n",
        "a while loop.\n"
      ],
      "metadata": {
        "id": "jHTWXSTaSwMh"
      }
    },
    {
      "cell_type": "code",
      "source": [
        "for i in range(1,11):\n",
        "  # here we use the for loop to print a table of 5\n",
        "    print(f'5*{i}={5*i}')"
      ],
      "metadata": {
        "colab": {
          "base_uri": "https://localhost:8080/"
        },
        "id": "2ZMrGcRLS7Qx",
        "outputId": "41196bac-81f2-4757-f2c5-011b6b739655"
      },
      "execution_count": 10,
      "outputs": [
        {
          "output_type": "stream",
          "name": "stdout",
          "text": [
            "5*1=5\n",
            "5*2=10\n",
            "5*3=15\n",
            "5*4=20\n",
            "5*5=25\n",
            "5*6=30\n",
            "5*7=35\n",
            "5*8=40\n",
            "5*9=45\n",
            "5*10=50\n"
          ]
        }
      ]
    },
    {
      "cell_type": "markdown",
      "source": [
        "15.Write a Python program to determine the grade of a student based on their\n",
        "marks:\n",
        "• Marks >= 90: Grade A\n",
        "• Marks >= 75: Grade B\n",
        "• Marks >= 50: Grade C\n",
        "• Otherwise: Grade F"
      ],
      "metadata": {
        "id": "PYT0AhU2S_17"
      }
    },
    {
      "cell_type": "code",
      "source": [
        "Marks=int(input('enter your marks:'))\n",
        "# we use if and elif to print grades  for various categories of marks\n",
        "if Marks >= 90:\n",
        "    print('Grade A')\n",
        "elif Marks >= 75:\n",
        "    print('Grade B')\n",
        "elif Marks >= 50:\n",
        "    print('Grade C')"
      ],
      "metadata": {
        "colab": {
          "base_uri": "https://localhost:8080/"
        },
        "id": "wp5qQ6m4TFOM",
        "outputId": "64aa65eb-5772-4b0b-f6a7-9569d0affb21"
      },
      "execution_count": 11,
      "outputs": [
        {
          "output_type": "stream",
          "name": "stdout",
          "text": [
            "enter your marks:87\n",
            "Grade B\n"
          ]
        }
      ]
    },
    {
      "cell_type": "markdown",
      "source": [
        "17.Write a function to find the maximum of three numbers entered by the user."
      ],
      "metadata": {
        "id": "STqc-C8tTLIC"
      }
    },
    {
      "cell_type": "code",
      "source": [
        "def maxi(a,b,c):\n",
        "  # we use if and elif to individually compare and return maximum of 3 numbers\n",
        "    if a>b and a>c:\n",
        "        return a\n",
        "    elif b>a and b>c:\n",
        "        return b\n",
        "    else:\n",
        "        return c"
      ],
      "metadata": {
        "id": "tKiwzyGITRIh"
      },
      "execution_count": 12,
      "outputs": []
    },
    {
      "cell_type": "markdown",
      "source": [
        "19.Write a Python program to reverse a string using a for loop"
      ],
      "metadata": {
        "id": "c9B6J1TKUU_a"
      }
    },
    {
      "cell_type": "code",
      "source": [
        "stri=input('enter a string:')\n",
        "rev=''\n",
        "for i in stri:\n",
        "  #we take a string as input and then keep concatenating to rev string which returns the reversed string\n",
        "    rev=i+rev\n",
        "print(rev)"
      ],
      "metadata": {
        "colab": {
          "base_uri": "https://localhost:8080/"
        },
        "id": "cqL5jXKPUV4z",
        "outputId": "ca5a1084-72b0-4516-c4b4-7276baf4c178"
      },
      "execution_count": 18,
      "outputs": [
        {
          "output_type": "stream",
          "name": "stdout",
          "text": [
            "enter a string:souparna\n",
            "anrapuos\n"
          ]
        }
      ]
    },
    {
      "cell_type": "markdown",
      "source": [
        "NumPy Questions\n",
        "\n",
        "1. Create a NumPy array of zeros with shape (3, 4)."
      ],
      "metadata": {
        "id": "vZ7HZwQ9UfIy"
      }
    },
    {
      "cell_type": "code",
      "source": [
        "import numpy as np\n",
        "# we create an array of zeros under numpy by specifying size as parameter\n",
        "z = np.zeros((3, 4))\n",
        "print(\"\")\n",
        "print(z)\n"
      ],
      "metadata": {
        "colab": {
          "base_uri": "https://localhost:8080/"
        },
        "id": "w0ITx8uoUor5",
        "outputId": "284f7f36-c36c-4b8a-c92c-f71eeedca0d4"
      },
      "execution_count": 19,
      "outputs": [
        {
          "output_type": "stream",
          "name": "stdout",
          "text": [
            "\n",
            "[[0. 0. 0. 0.]\n",
            " [0. 0. 0. 0.]\n",
            " [0. 0. 0. 0.]]\n"
          ]
        }
      ]
    },
    {
      "cell_type": "markdown",
      "source": [
        "Write a NumPy program to compute the square root of each element in the array\n",
        "[1, 4, 9, 16].\n"
      ],
      "metadata": {
        "id": "I5s1dekGU7Cc"
      }
    },
    {
      "cell_type": "code",
      "source": [
        "import numpy as np\n",
        "# we use sqrt function to find square root of each number\n",
        "arr=np.array([1,4,9,16])\n",
        "print(np.sqrt(arr))"
      ],
      "metadata": {
        "colab": {
          "base_uri": "https://localhost:8080/"
        },
        "id": "EQ-_U5s1VBbQ",
        "outputId": "105bc86d-8743-47c6-f8e8-cd3a5301bc56"
      },
      "execution_count": 20,
      "outputs": [
        {
          "output_type": "stream",
          "name": "stdout",
          "text": [
            "[1. 2. 3. 4.]\n"
          ]
        }
      ]
    },
    {
      "cell_type": "markdown",
      "source": [
        "7. Compute the sum of all elements in the array np.array([2, 3, 4, 5, 6])"
      ],
      "metadata": {
        "id": "iMEvtWJXVIAi"
      }
    },
    {
      "cell_type": "code",
      "source": [
        "import numpy as np\n",
        "arr=np.array([2,3,4,5,6])\n",
        "# we use np.sum() function to find the reqd summ\n",
        "print(np.sum(arr))"
      ],
      "metadata": {
        "colab": {
          "base_uri": "https://localhost:8080/"
        },
        "id": "I3Fizi0gVNd2",
        "outputId": "26529e5b-e031-43c5-ea77-f368117dd3f5"
      },
      "execution_count": 21,
      "outputs": [
        {
          "output_type": "stream",
          "name": "stdout",
          "text": [
            "20\n"
          ]
        }
      ]
    },
    {
      "cell_type": "markdown",
      "source": [
        "8. Find the minimum value in the array np.array([1, 5, 9, 3, 6]) using np.min().\n"
      ],
      "metadata": {
        "id": "OjVqFVjtVXeA"
      }
    },
    {
      "cell_type": "code",
      "source": [
        "import numpy as np\n",
        "# here we use np.min() to find the minimum\n",
        "arr=np.array([1,5,9,3,6])\n",
        "print(np.min(arr))"
      ],
      "metadata": {
        "colab": {
          "base_uri": "https://localhost:8080/"
        },
        "id": "etXQa1cpVbp9",
        "outputId": "f40a7ffc-3588-4360-bfa7-cbe56fbb5ac3"
      },
      "execution_count": 22,
      "outputs": [
        {
          "output_type": "stream",
          "name": "stdout",
          "text": [
            "1\n"
          ]
        }
      ]
    },
    {
      "cell_type": "markdown",
      "source": [
        "9. Find the maximum value in the array np.array([1, 5, 9, 3, 6]) using np.max()"
      ],
      "metadata": {
        "id": "lXSHOa_TVj7f"
      }
    },
    {
      "cell_type": "code",
      "source": [
        "import numpy as np\n",
        "# here we use np.max() to find the maximum\n",
        "arr=np.array([1,5,9,3,6])\n",
        "print(np.max(arr))"
      ],
      "metadata": {
        "colab": {
          "base_uri": "https://localhost:8080/"
        },
        "id": "2xQYmtItVoWA",
        "outputId": "461b67d8-a262-435a-b8dd-896b94bbbd2e"
      },
      "execution_count": 23,
      "outputs": [
        {
          "output_type": "stream",
          "name": "stdout",
          "text": [
            "9\n"
          ]
        }
      ]
    },
    {
      "cell_type": "markdown",
      "source": [
        "10.Use np.ceil() to round the elements of the array np.array([1.2, 2.5, 3.7, 4.9]) to\n",
        "the nearest greater integer.\n"
      ],
      "metadata": {
        "id": "J8RdD1Y6Vy7_"
      }
    },
    {
      "cell_type": "code",
      "source": [
        "import numpy as np\n",
        "# here we use np.ceil() to find the upper limit/ceil\n",
        "arr=np.array([1.2,2.5,3.7,4.9])\n",
        "print(np.ceil(arr))"
      ],
      "metadata": {
        "colab": {
          "base_uri": "https://localhost:8080/"
        },
        "id": "hoObKno9VzoU",
        "outputId": "64cdf440-593d-43fd-e3b1-6410d271ea3d"
      },
      "execution_count": 25,
      "outputs": [
        {
          "output_type": "stream",
          "name": "stdout",
          "text": [
            "[2. 3. 4. 5.]\n",
            "[2. 3. 4. 5.]\n"
          ]
        }
      ]
    },
    {
      "cell_type": "markdown",
      "source": [
        "Generate an array of 5 random integers between 10 and 50 using\n",
        "np.random.randint().\n"
      ],
      "metadata": {
        "id": "nQEPiIA2WAWm"
      }
    },
    {
      "cell_type": "code",
      "source": [
        "import numpy as np\n",
        "# here 10, 50 define the range, while 5 is for the number of elements reqd\n",
        "arr=np.random.randint(10,50,5)\n",
        "print(arr)"
      ],
      "metadata": {
        "colab": {
          "base_uri": "https://localhost:8080/"
        },
        "id": "JfsMoEjkWBWH",
        "outputId": "10b02ed1-6714-4984-ed5c-5d3e8c36628c"
      },
      "execution_count": 26,
      "outputs": [
        {
          "output_type": "stream",
          "name": "stdout",
          "text": [
            "[11 28 45 46 19]\n"
          ]
        }
      ]
    },
    {
      "cell_type": "markdown",
      "source": [
        "Generate a 3x3 matrix of random numbers from a normal distribution with mean\n",
        "0 and standard deviation 1 using np.random.randn().\n"
      ],
      "metadata": {
        "id": "S2WZihozWFG5"
      }
    },
    {
      "cell_type": "code",
      "source": [
        "import numpy as np\n",
        "# we create a 3*3 matrix whose mean=0 and std deviation is 1\n",
        "arr=np.random.randn(3,3)\n",
        "print(arr)"
      ],
      "metadata": {
        "colab": {
          "base_uri": "https://localhost:8080/"
        },
        "id": "CrxGSDKdWLTc",
        "outputId": "e13e3ff9-c941-468e-e72f-0e66a5623355"
      },
      "execution_count": 27,
      "outputs": [
        {
          "output_type": "stream",
          "name": "stdout",
          "text": [
            "[[ 0.05360869 -0.8859736   0.93915937]\n",
            " [ 0.45060728  1.90491695  0.86444578]\n",
            " [-0.91065062 -0.390145    0.72984788]]\n"
          ]
        }
      ]
    },
    {
      "cell_type": "markdown",
      "source": [
        "19.Reshape a 1D array [1, 2, 3, 4, 5, 6] into a 2x3 matrix using np.reshape()"
      ],
      "metadata": {
        "id": "iOh1UBD5WQUj"
      }
    },
    {
      "cell_type": "code",
      "source": [
        "import numpy as np\n",
        "# we have an array that we reshape to (2,3)\n",
        "arr=np.array([1,2,3,4,5,6])\n",
        "print(arr.reshape(2,3))\n"
      ],
      "metadata": {
        "id": "zwJuHEy7WWPS",
        "outputId": "ec90372e-446c-4a8d-88e1-41fcc98c1424",
        "colab": {
          "base_uri": "https://localhost:8080/"
        }
      },
      "execution_count": 28,
      "outputs": [
        {
          "output_type": "stream",
          "name": "stdout",
          "text": [
            "[[1 2 3]\n",
            " [4 5 6]]\n"
          ]
        }
      ]
    },
    {
      "cell_type": "markdown",
      "source": [
        "20.Slice the first two elements from the array np.array([10, 20, 30, 40, 50])."
      ],
      "metadata": {
        "id": "ETRfo95sWdRF"
      }
    },
    {
      "cell_type": "code",
      "source": [
        "import numpy as np\n",
        "arr=np.array([10,20,30,40,50])\n",
        "# we use [:index] to slice upto that index(exclusive)\n",
        "print(arr[:2])\n"
      ],
      "metadata": {
        "id": "yjvNPAj0Wgl5",
        "outputId": "e3607fcb-5f0a-431e-ee4c-8d8499da5aff",
        "colab": {
          "base_uri": "https://localhost:8080/"
        }
      },
      "execution_count": 30,
      "outputs": [
        {
          "output_type": "stream",
          "name": "stdout",
          "text": [
            "[10 20]\n"
          ]
        }
      ]
    }
  ]
}
