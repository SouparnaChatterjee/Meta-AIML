{
  "nbformat": 4,
  "nbformat_minor": 0,
  "metadata": {
    "colab": {
      "provenance": [],
      "authorship_tag": "ABX9TyPMaHgAJYel5JpsUekZlA9Q"
    },
    "kernelspec": {
      "name": "python3",
      "display_name": "Python 3"
    },
    "language_info": {
      "name": "python"
    }
  },
  "cells": [
    {
      "cell_type": "markdown",
      "source": [
        "1. to calculate area of circle of radius 7"
      ],
      "metadata": {
        "id": "kanEHw3PAIgB"
      }
    },
    {
      "cell_type": "code",
      "execution_count": 2,
      "metadata": {
        "colab": {
          "base_uri": "https://localhost:8080/"
        },
        "id": "y3VlROToAGXK",
        "outputId": "610d5b5e-947d-40fe-97e9-73ebab8c5376"
      },
      "outputs": [
        {
          "output_type": "execute_result",
          "data": {
            "text/plain": [
              "153.86"
            ]
          },
          "metadata": {},
          "execution_count": 2
        }
      ],
      "source": [
        "r=7\n",
        "area=3.14*7*7\n",
        "area"
      ]
    },
    {
      "cell_type": "markdown",
      "source": [
        "2. 2 * 3 + 4?\n"
      ],
      "metadata": {
        "id": "zZknYtVeAfXj"
      }
    },
    {
      "cell_type": "code",
      "source": [
        "ans=2*3+4\n",
        "ans\n",
        "print(ans)"
      ],
      "metadata": {
        "colab": {
          "base_uri": "https://localhost:8080/"
        },
        "id": "JNW0F03dAe0r",
        "outputId": "b8c2a361-558f-411f-b3f3-06c3e43a7cd4"
      },
      "execution_count": 3,
      "outputs": [
        {
          "output_type": "stream",
          "name": "stdout",
          "text": [
            "10\n"
          ]
        }
      ]
    },
    {
      "cell_type": "markdown",
      "source": [
        "3. (8 / 2) * (3 + 2)."
      ],
      "metadata": {
        "id": "t32IdQ5_AwAx"
      }
    },
    {
      "cell_type": "code",
      "source": [
        "ans=(8 / 2) * (3 + 2)\n",
        "ans"
      ],
      "metadata": {
        "colab": {
          "base_uri": "https://localhost:8080/"
        },
        "id": "IulT6MmJAsod",
        "outputId": "1efd9fe2-9835-4f1b-e87b-9bbefa04b4fd"
      },
      "execution_count": 4,
      "outputs": [
        {
          "output_type": "execute_result",
          "data": {
            "text/plain": [
              "20.0"
            ]
          },
          "metadata": {},
          "execution_count": 4
        }
      ]
    },
    {
      "cell_type": "markdown",
      "source": [
        "4. Write an expression to find the remainder when 15 is divided by 4."
      ],
      "metadata": {
        "id": "u_8_6h_ABAFY"
      }
    },
    {
      "cell_type": "code",
      "source": [
        "rem=15%4\n",
        "rem"
      ],
      "metadata": {
        "colab": {
          "base_uri": "https://localhost:8080/"
        },
        "id": "yqw4OqB5BFf9",
        "outputId": "00e5887d-4a60-46a0-f3c5-fc2c8533880c"
      },
      "execution_count": 5,
      "outputs": [
        {
          "output_type": "execute_result",
          "data": {
            "text/plain": [
              "3"
            ]
          },
          "metadata": {},
          "execution_count": 5
        }
      ]
    },
    {
      "cell_type": "markdown",
      "source": [
        "5. Write a Python expression to convert 100 Fahrenheit to Celsius using the formula: C = (F - 32) *\n",
        "5/9"
      ],
      "metadata": {
        "id": "a6C8f3jFBNB_"
      }
    },
    {
      "cell_type": "code",
      "source": [
        "F=100\n",
        "C = (F - 32) *5/9\n",
        "C"
      ],
      "metadata": {
        "colab": {
          "base_uri": "https://localhost:8080/"
        },
        "id": "JnVxrqtgBQWT",
        "outputId": "d9cfd684-d817-4005-acc5-54d28d4b8a28"
      },
      "execution_count": 6,
      "outputs": [
        {
          "output_type": "execute_result",
          "data": {
            "text/plain": [
              "37.77777777777778"
            ]
          },
          "metadata": {},
          "execution_count": 6
        }
      ]
    },
    {
      "cell_type": "markdown",
      "source": [
        "6. Evaluate the expression: 10 // 3 + 2 ** 3\n",
        "\n"
      ],
      "metadata": {
        "id": "xSYZ4jodBdxH"
      }
    },
    {
      "cell_type": "code",
      "source": [
        "ans=10 // 3 + 2 ** 3\n",
        "ans"
      ],
      "metadata": {
        "colab": {
          "base_uri": "https://localhost:8080/"
        },
        "id": "2K4RID5dBosO",
        "outputId": "9dfccaef-4a01-4ec3-b2aa-35168a02dbfc"
      },
      "execution_count": 7,
      "outputs": [
        {
          "output_type": "execute_result",
          "data": {
            "text/plain": [
              "11"
            ]
          },
          "metadata": {},
          "execution_count": 7
        }
      ]
    },
    {
      "cell_type": "markdown",
      "source": [
        "7. What does the expression 5 == 5 and 4 < 6 evaluate to?\n"
      ],
      "metadata": {
        "id": "CjgFa9nDBguQ"
      }
    },
    {
      "cell_type": "code",
      "source": [
        "5==5 and 4<6"
      ],
      "metadata": {
        "colab": {
          "base_uri": "https://localhost:8080/"
        },
        "id": "wvZbl8avB31V",
        "outputId": "7b679620-8bfe-4285-9e4e-15dbf93e9a39"
      },
      "execution_count": 8,
      "outputs": [
        {
          "output_type": "execute_result",
          "data": {
            "text/plain": [
              "True"
            ]
          },
          "metadata": {},
          "execution_count": 8
        }
      ]
    },
    {
      "cell_type": "markdown",
      "source": [
        "8. What is the output of not (4 > 5 or 3 == 3)?"
      ],
      "metadata": {
        "id": "_r3iSpH1CAFf"
      }
    },
    {
      "cell_type": "code",
      "source": [
        "not (4 > 5 or 3 == 3)"
      ],
      "metadata": {
        "colab": {
          "base_uri": "https://localhost:8080/"
        },
        "id": "fHa2a9CYCMPD",
        "outputId": "e8415597-db05-4f36-ad09-30c06fbb86b4"
      },
      "execution_count": 9,
      "outputs": [
        {
          "output_type": "execute_result",
          "data": {
            "text/plain": [
              "False"
            ]
          },
          "metadata": {},
          "execution_count": 9
        }
      ]
    },
    {
      "cell_type": "markdown",
      "source": [
        "9. Write an expression that checks if a number x is odd"
      ],
      "metadata": {
        "id": "s--2hbzECVx3"
      }
    },
    {
      "cell_type": "code",
      "source": [
        "x=5\n",
        "if x%2!=0:\n",
        "  print(\"this number is odd\")\n",
        "else:\n",
        "  print(\"no, this number is not odd\")"
      ],
      "metadata": {
        "colab": {
          "base_uri": "https://localhost:8080/"
        },
        "id": "qsTro4KECO_z",
        "outputId": "7da782be-aaa0-4fd4-c254-4e3d04053789"
      },
      "execution_count": 11,
      "outputs": [
        {
          "output_type": "stream",
          "name": "stdout",
          "text": [
            "this number is odd\n"
          ]
        }
      ]
    },
    {
      "cell_type": "markdown",
      "source": [
        "Data Types"
      ],
      "metadata": {
        "id": "dL1p3dAhCp2X"
      }
    },
    {
      "cell_type": "markdown",
      "source": [
        "10. What is the type of the value 5.0?"
      ],
      "metadata": {
        "id": "nWRdeztbCz3L"
      }
    },
    {
      "cell_type": "code",
      "source": [
        "type(5.0)"
      ],
      "metadata": {
        "colab": {
          "base_uri": "https://localhost:8080/"
        },
        "id": "4U_QH20dCy2t",
        "outputId": "cff5fe70-6553-4877-9569-0f611407ef8e"
      },
      "execution_count": 12,
      "outputs": [
        {
          "output_type": "execute_result",
          "data": {
            "text/plain": [
              "float"
            ]
          },
          "metadata": {},
          "execution_count": 12
        }
      ]
    },
    {
      "cell_type": "markdown",
      "source": [
        "11. How do you convert the integer 42 to a string?"
      ],
      "metadata": {
        "id": "GtOcObr0C73j"
      }
    },
    {
      "cell_type": "code",
      "source": [
        "s= str(42)\n",
        "type(s)"
      ],
      "metadata": {
        "colab": {
          "base_uri": "https://localhost:8080/"
        },
        "id": "4yVQWtjQCob6",
        "outputId": "1efc00ed-cb06-49da-e506-366ab6ad8312"
      },
      "execution_count": 14,
      "outputs": [
        {
          "output_type": "execute_result",
          "data": {
            "text/plain": [
              "str"
            ]
          },
          "metadata": {},
          "execution_count": 14
        }
      ]
    },
    {
      "cell_type": "markdown",
      "source": [
        "12. What will the expression str(3.14) + ' is pi' output?:"
      ],
      "metadata": {
        "id": "XXv0_H38DPEO"
      }
    },
    {
      "cell_type": "code",
      "source": [
        "print(str(3.14) +' is pi')"
      ],
      "metadata": {
        "colab": {
          "base_uri": "https://localhost:8080/"
        },
        "id": "SZ71eU0qDTRL",
        "outputId": "3efeb769-cdc0-4320-9a05-9954565d493f"
      },
      "execution_count": 16,
      "outputs": [
        {
          "output_type": "stream",
          "name": "stdout",
          "text": [
            "3.14 is pi\n"
          ]
        }
      ]
    },
    {
      "cell_type": "markdown",
      "source": [
        "13. What is the output type of the expression 4 + 3.5?"
      ],
      "metadata": {
        "id": "6lsV5E9ODiFx"
      }
    },
    {
      "cell_type": "code",
      "source": [
        "type(4+3.5)"
      ],
      "metadata": {
        "colab": {
          "base_uri": "https://localhost:8080/"
        },
        "id": "W3QQjKavDp-O",
        "outputId": "9841ed82-0328-4299-f2c7-3214e9d0b935"
      },
      "execution_count": 17,
      "outputs": [
        {
          "output_type": "execute_result",
          "data": {
            "text/plain": [
              "float"
            ]
          },
          "metadata": {},
          "execution_count": 17
        }
      ]
    },
    {
      "cell_type": "markdown",
      "source": [
        "14. Write a Python code to take an input from the user and convert it to an integer"
      ],
      "metadata": {
        "id": "x9zxtjCbDupx"
      }
    },
    {
      "cell_type": "code",
      "source": [
        "print('please enter input')\n",
        "x=input()\n",
        "print(int(x))"
      ],
      "metadata": {
        "colab": {
          "base_uri": "https://localhost:8080/"
        },
        "id": "UqDpRev8D0br",
        "outputId": "004d79cb-1b25-473e-acbf-d76fa639bf28"
      },
      "execution_count": 52,
      "outputs": [
        {
          "output_type": "stream",
          "name": "stdout",
          "text": [
            "please enter input\n",
            "8\n",
            "8\n"
          ]
        }
      ]
    },
    {
      "cell_type": "markdown",
      "source": [
        "15. How can you find the type of a variable in Python?\n",
        "\n",
        "Ans:- using the type() function"
      ],
      "metadata": {
        "id": "ujxtcZVkELzL"
      }
    },
    {
      "cell_type": "code",
      "source": [
        "x=input()\n",
        "print(type(x))"
      ],
      "metadata": {
        "colab": {
          "base_uri": "https://localhost:8080/"
        },
        "id": "7Q0QutWDDN2D",
        "outputId": "6a6430ab-4a1d-484d-c623-80e2885993a6"
      },
      "execution_count": 50,
      "outputs": [
        {
          "output_type": "stream",
          "name": "stdout",
          "text": [
            "'souparna'\n",
            "<class 'str'>\n"
          ]
        }
      ]
    },
    {
      "cell_type": "markdown",
      "source": [
        "16. Create a variable my_name and assign your name to it. Check if it is of type str"
      ],
      "metadata": {
        "id": "lT2wh4ooEpyC"
      }
    },
    {
      "cell_type": "code",
      "source": [
        "my_name='Souparna'\n",
        "type(my_name)"
      ],
      "metadata": {
        "colab": {
          "base_uri": "https://localhost:8080/"
        },
        "id": "_WSB69zVEycz",
        "outputId": "96f977db-fc4b-449c-b736-623635842140"
      },
      "execution_count": 21,
      "outputs": [
        {
          "output_type": "execute_result",
          "data": {
            "text/plain": [
              "str"
            ]
          },
          "metadata": {},
          "execution_count": 21
        }
      ]
    },
    {
      "cell_type": "markdown",
      "source": [
        "Data Structures - Lists, Tuples, Sets, and Dictionaries"
      ],
      "metadata": {
        "id": "e53vvjpZE-cZ"
      }
    },
    {
      "cell_type": "markdown",
      "source": [
        "17. How do you create an empty list in Python?"
      ],
      "metadata": {
        "id": "-hIpd2yfFLDZ"
      }
    },
    {
      "cell_type": "code",
      "source": [
        "lst=list()\n",
        "lst"
      ],
      "metadata": {
        "colab": {
          "base_uri": "https://localhost:8080/"
        },
        "id": "RZPHTPnTEoUx",
        "outputId": "e4d7e621-a75c-48f7-a680-6539d376b812"
      },
      "execution_count": 22,
      "outputs": [
        {
          "output_type": "execute_result",
          "data": {
            "text/plain": [
              "[]"
            ]
          },
          "metadata": {},
          "execution_count": 22
        }
      ]
    },
    {
      "cell_type": "markdown",
      "source": [
        "18. Write code to add an element 42 to the end of the list [1, 2, 3]"
      ],
      "metadata": {
        "id": "zHMJjDk8FTdM"
      }
    },
    {
      "cell_type": "code",
      "source": [
        "lst=[1,2,3]\n",
        "lst.append(42)\n",
        "lst"
      ],
      "metadata": {
        "colab": {
          "base_uri": "https://localhost:8080/"
        },
        "id": "L98E2sd-FSaq",
        "outputId": "fe2b159a-8ac0-4f6b-9a52-78c72bd15812"
      },
      "execution_count": 23,
      "outputs": [
        {
          "output_type": "execute_result",
          "data": {
            "text/plain": [
              "[1, 2, 3, 42]"
            ]
          },
          "metadata": {},
          "execution_count": 23
        }
      ]
    },
    {
      "cell_type": "markdown",
      "source": [
        "19. How do you access the third element in the list my_list = [10, 20, 30, 40]?"
      ],
      "metadata": {
        "id": "Viy-wtr9Fq_N"
      }
    },
    {
      "cell_type": "code",
      "source": [
        "my_list = [10, 20, 30, 40]\n",
        "print(my_list[2])"
      ],
      "metadata": {
        "colab": {
          "base_uri": "https://localhost:8080/"
        },
        "id": "xx7A8PAbFun_",
        "outputId": "8cb8e186-508f-446f-80a8-59971f59aa6c"
      },
      "execution_count": 24,
      "outputs": [
        {
          "output_type": "stream",
          "name": "stdout",
          "text": [
            "30\n"
          ]
        }
      ]
    },
    {
      "cell_type": "markdown",
      "source": [
        "20. What is the difference between a list and a tuple in Python?\n",
        "ans:- in list, we use [], while in tuple we use ().\n",
        "The append function works on lists but not on tuple"
      ],
      "metadata": {
        "id": "8zwZFXKqF3ej"
      }
    },
    {
      "cell_type": "markdown",
      "source": [
        "21. Write a Python code to create a set with the elements 1, 2, and 3"
      ],
      "metadata": {
        "id": "sNyRGZ5-GUKC"
      }
    },
    {
      "cell_type": "code",
      "source": [
        "set={1,2,3}\n",
        "set"
      ],
      "metadata": {
        "colab": {
          "base_uri": "https://localhost:8080/"
        },
        "id": "iAd6QtxWGZxF",
        "outputId": "2a78f4c4-9b80-41d4-f657-26a9d899d5b4"
      },
      "execution_count": 25,
      "outputs": [
        {
          "output_type": "execute_result",
          "data": {
            "text/plain": [
              "{1, 2, 3}"
            ]
          },
          "metadata": {},
          "execution_count": 25
        }
      ]
    },
    {
      "cell_type": "markdown",
      "source": [
        "22. How do you remove an element from a set in Python?"
      ],
      "metadata": {
        "id": "x_1qfYb1Gljx"
      }
    },
    {
      "cell_type": "code",
      "source": [
        "my_set = {1, 2, 3, 4}\n",
        "my_set.remove(3)\n",
        "print(my_set)"
      ],
      "metadata": {
        "colab": {
          "base_uri": "https://localhost:8080/"
        },
        "id": "n_phOGHIGqNh",
        "outputId": "954224bf-6eab-4531-998e-14a0680d9543"
      },
      "execution_count": 26,
      "outputs": [
        {
          "output_type": "stream",
          "name": "stdout",
          "text": [
            "{1, 2, 4}\n"
          ]
        }
      ]
    },
    {
      "cell_type": "markdown",
      "source": [
        "we can use the set_name.remove() function"
      ],
      "metadata": {
        "id": "EBJyhy8gG3l1"
      }
    },
    {
      "cell_type": "markdown",
      "source": [
        "23. Write code to retrieve the value of the key 'name' from the dictionary person = {'name': 'Alice',\n",
        "'age': 25}."
      ],
      "metadata": {
        "id": "CIFG1qpRG9g3"
      }
    },
    {
      "cell_type": "code",
      "source": [
        "new_dict={'name': 'Alice', 'age': 25}\n",
        "new_dict['name']"
      ],
      "metadata": {
        "colab": {
          "base_uri": "https://localhost:8080/",
          "height": 36
        },
        "id": "Dgj6uG3BHBCo",
        "outputId": "0817d49a-e2b6-456e-fa98-d11165942fcd"
      },
      "execution_count": 27,
      "outputs": [
        {
          "output_type": "execute_result",
          "data": {
            "text/plain": [
              "'Alice'"
            ],
            "application/vnd.google.colaboratory.intrinsic+json": {
              "type": "string"
            }
          },
          "metadata": {},
          "execution_count": 27
        }
      ]
    },
    {
      "cell_type": "markdown",
      "source": [
        "24. Create a dictionary with three key-value pairs and then remove one pair from it."
      ],
      "metadata": {
        "id": "qoBoK9BZHH-7"
      }
    },
    {
      "cell_type": "code",
      "source": [
        "my_dict={'name':'Souparna','age':'21', 'gender':'female'}\n",
        "my_dict.pop('gender')\n",
        "my_dict"
      ],
      "metadata": {
        "colab": {
          "base_uri": "https://localhost:8080/"
        },
        "id": "Qmu3W1rVG8vX",
        "outputId": "673f07c4-d944-4e73-cb6e-ad2ce24bc4ae"
      },
      "execution_count": 30,
      "outputs": [
        {
          "output_type": "execute_result",
          "data": {
            "text/plain": [
              "{'name': 'Souparna', 'age': '21'}"
            ]
          },
          "metadata": {},
          "execution_count": 30
        }
      ]
    },
    {
      "cell_type": "markdown",
      "source": [
        "25. Given my_tuple = (5, 10, 15), how can you access the element 10?"
      ],
      "metadata": {
        "id": "JPA4CYKwH0vt"
      }
    },
    {
      "cell_type": "code",
      "source": [
        "tup=(5,10,15)\n",
        "tup[1]"
      ],
      "metadata": {
        "id": "KGb4azYrH4NT"
      },
      "execution_count": null,
      "outputs": []
    },
    {
      "cell_type": "markdown",
      "source": [
        "Methods of Data Structures\n",
        "26. How do you find the length of a list numbers = [1, 2, 3, 4, 5]?"
      ],
      "metadata": {
        "id": "a9tpIfHnH9Ky"
      }
    },
    {
      "cell_type": "code",
      "source": [
        "lst=[1,2,3,4,5]\n",
        "len(lst)"
      ],
      "metadata": {
        "colab": {
          "base_uri": "https://localhost:8080/"
        },
        "id": "wqd-ycxUIE4F",
        "outputId": "506785e5-08a8-4572-ead4-a82807b5cecd"
      },
      "execution_count": 31,
      "outputs": [
        {
          "output_type": "execute_result",
          "data": {
            "text/plain": [
              "5"
            ]
          },
          "metadata": {},
          "execution_count": 31
        }
      ]
    },
    {
      "cell_type": "markdown",
      "source": [
        "27. What method would you use to add an element at a specific index in a list"
      ],
      "metadata": {
        "id": "8Adx23dJIK4s"
      }
    },
    {
      "cell_type": "code",
      "source": [
        "lst=[1,2,4]\n",
        "lst.insert(2,3)\n",
        "lst"
      ],
      "metadata": {
        "colab": {
          "base_uri": "https://localhost:8080/"
        },
        "id": "V84PFV9BH8UP",
        "outputId": "f9fc91fd-ac66-4ebd-fa91-de3e09c70cad"
      },
      "execution_count": 32,
      "outputs": [
        {
          "output_type": "execute_result",
          "data": {
            "text/plain": [
              "[1, 2, 3, 4]"
            ]
          },
          "metadata": {},
          "execution_count": 32
        }
      ]
    },
    {
      "cell_type": "markdown",
      "source": [
        "here, we use the list_name.insert() function where we first mention the index and then  the value"
      ],
      "metadata": {
        "id": "GNTsahbgIaKc"
      }
    },
    {
      "cell_type": "markdown",
      "source": [
        "28. Write a Python code to sort the list [4, 1, 3, 2] in ascending order."
      ],
      "metadata": {
        "id": "lcHWqkjSIhjB"
      }
    },
    {
      "cell_type": "code",
      "source": [
        "list=[4,1,3,2]\n",
        "list.sort()\n",
        "list"
      ],
      "metadata": {
        "colab": {
          "base_uri": "https://localhost:8080/"
        },
        "id": "EvsOZpshIlEo",
        "outputId": "1e27c374-c0f3-4b6c-dbdd-971d6c881992"
      },
      "execution_count": 33,
      "outputs": [
        {
          "output_type": "execute_result",
          "data": {
            "text/plain": [
              "[1, 2, 3, 4]"
            ]
          },
          "metadata": {},
          "execution_count": 33
        }
      ]
    },
    {
      "cell_type": "markdown",
      "source": [
        "29. How do you check if the number 5 is in the list [1, 2, 3, 4, 5]?"
      ],
      "metadata": {
        "id": "4GukEV5mIpyw"
      }
    },
    {
      "cell_type": "code",
      "source": [
        "lst=[1,2,3,4,5]\n",
        "if 5 in lst:\n",
        "  print('yes, 5 is in the list')\n",
        "else:\n",
        "  print('no, 5 is not in the list')"
      ],
      "metadata": {
        "id": "b1Q5Pi2XIvPK"
      },
      "execution_count": null,
      "outputs": []
    },
    {
      "cell_type": "markdown",
      "source": [
        "30. Write a code to concatenate two lists [1, 2, 3] and [4, 5, 6].\n"
      ],
      "metadata": {
        "id": "cwshAwQ2I6BS"
      }
    },
    {
      "cell_type": "code",
      "source": [
        "list1=[1,2,3]\n",
        "list2=[4,5,6]\n",
        "list1+list2"
      ],
      "metadata": {
        "colab": {
          "base_uri": "https://localhost:8080/"
        },
        "id": "5JmT-3UKI-oS",
        "outputId": "c6836ffd-38c8-4921-a0dc-3b873596f67c"
      },
      "execution_count": 34,
      "outputs": [
        {
          "output_type": "execute_result",
          "data": {
            "text/plain": [
              "[1, 2, 3, 4, 5, 6]"
            ]
          },
          "metadata": {},
          "execution_count": 34
        }
      ]
    },
    {
      "cell_type": "markdown",
      "source": [
        "Branching\n",
        "31. Write a Python if statement to check if a number x is positive"
      ],
      "metadata": {
        "id": "emhETo09JJ2Y"
      }
    },
    {
      "cell_type": "code",
      "source": [
        "x=input()\n",
        "if int(x)>0:\n",
        "  print('yes, the number is postive')\n",
        "else:\n",
        "  print('no, x is not positive')"
      ],
      "metadata": {
        "colab": {
          "base_uri": "https://localhost:8080/"
        },
        "id": "4L8mggsfFp6e",
        "outputId": "2b4a2c32-6ea3-45c7-baad-481bf93018f2"
      },
      "execution_count": 36,
      "outputs": [
        {
          "output_type": "stream",
          "name": "stdout",
          "text": [
            "6\n",
            "yes, the number is postive\n"
          ]
        }
      ]
    },
    {
      "cell_type": "code",
      "source": [
        "#32. Modify the previous question to include else to handle the case when x is negative or zero.\n",
        "x=input()\n",
        "if int(x)>0:\n",
        "  print('yes, the number is postive')\n",
        "#elif(x==0):\n",
        "  #print('the number is zero')\n",
        "else:\n",
        "  print('x is zero or negative')"
      ],
      "metadata": {
        "colab": {
          "base_uri": "https://localhost:8080/"
        },
        "id": "HAj1_Y59JjZa",
        "outputId": "d9415519-a9ba-4402-e3b6-07bafc1c36ab"
      },
      "execution_count": 40,
      "outputs": [
        {
          "output_type": "stream",
          "name": "stdout",
          "text": [
            "-80\n",
            "x is zero or negative\n"
          ]
        }
      ]
    },
    {
      "cell_type": "code",
      "source": [
        "#33. Write an if-elif-else block to check if a number is positive, negative, or zero\n",
        "x=input()\n",
        "if int(x)>0:\n",
        "  print('yes, the number is postive')\n",
        "elif(x==0):\n",
        "  print('the number is zero')\n",
        "else:\n",
        "  print('x is negative')"
      ],
      "metadata": {
        "colab": {
          "base_uri": "https://localhost:8080/"
        },
        "id": "O4Ok5r56J595",
        "outputId": "98741dff-373f-4c50-93c0-bda8d4c56aa7"
      },
      "execution_count": 41,
      "outputs": [
        {
          "output_type": "stream",
          "name": "stdout",
          "text": [
            "-98\n",
            "x is negative\n"
          ]
        }
      ]
    },
    {
      "cell_type": "markdown",
      "source": [
        "34. How would you use a ternary operator to assign the value 10 to result if x > 5, otherwise assign\n",
        "5?"
      ],
      "metadata": {
        "id": "jHMTmQXRKb8H"
      }
    },
    {
      "cell_type": "code",
      "source": [
        "res=10 if x>5 else 5\n",
        "res"
      ],
      "metadata": {
        "id": "I_7MdClJKaUR"
      },
      "execution_count": null,
      "outputs": []
    },
    {
      "cell_type": "markdown",
      "source": [
        "35. Write an if statement that checks if a variable score is greater than or equal to 90, and if so,\n",
        "prints 'A grade'"
      ],
      "metadata": {
        "id": "dRmotKBeJyYS"
      }
    },
    {
      "cell_type": "code",
      "source": [
        "marks=input()\n",
        "if int(marks)>=90:\n",
        "  print('A grade')\n"
      ],
      "metadata": {
        "id": "OYYAFuJlKsVi"
      },
      "execution_count": null,
      "outputs": []
    },
    {
      "cell_type": "markdown",
      "source": [
        "36. Use an if statement to check if a list fruits = ['apple', 'banana', 'cherry'] contains the element\n",
        "'banana'."
      ],
      "metadata": {
        "id": "_hdwT-sLK0Ay"
      }
    },
    {
      "cell_type": "code",
      "source": [
        "fruits = ['apple', 'banana', 'cherry']\n",
        "if 'banana' in fruits:\n",
        "  print('yes, banana is in the list')\n",
        "else:\n",
        "  print('we need a banana')"
      ],
      "metadata": {
        "colab": {
          "base_uri": "https://localhost:8080/"
        },
        "id": "S0jjkqIdK4Nt",
        "outputId": "08db5ca8-6c59-412e-85c6-2a663b927fd3"
      },
      "execution_count": 42,
      "outputs": [
        {
          "output_type": "stream",
          "name": "stdout",
          "text": [
            "yes, banana is in the list\n"
          ]
        }
      ]
    },
    {
      "cell_type": "markdown",
      "source": [
        "37. Write a nested if statement that prints 'Adult Male' if age > 18 and gender == 'male'"
      ],
      "metadata": {
        "id": "VsSL0sOoLLFg"
      }
    },
    {
      "cell_type": "code",
      "source": [
        "age=input()\n",
        "gender=input()\n",
        "if(int(age)>18):\n",
        "  if(gender=='male'):\n",
        "    print('Adult Male')"
      ],
      "metadata": {
        "colab": {
          "base_uri": "https://localhost:8080/"
        },
        "id": "QFKGcyrBLL3r",
        "outputId": "8d10049d-c26c-4338-e3c1-983a2a93b079"
      },
      "execution_count": 43,
      "outputs": [
        {
          "output_type": "stream",
          "name": "stdout",
          "text": [
            "21\n",
            "male\n",
            "Adult Male\n"
          ]
        }
      ]
    },
    {
      "cell_type": "code",
      "source": [
        "#38. Create a Python code snippet using if statements to determine if a number is divisible by 3, 5, or\n",
        "#both.\n",
        "x=input()\n",
        "if int(x)%3==0:\n",
        "  print('the number is divisible by 3')\n",
        "elif int(x)%5==0:\n",
        "  print('the number is divisible by 5')\n",
        "elif int(x)%15==0:\n",
        "  print('the number is divisible by 3 and 5')\n",
        "else:\n",
        "  print('the number is not divisible by 3 or 5')"
      ],
      "metadata": {
        "colab": {
          "base_uri": "https://localhost:8080/"
        },
        "id": "JsCC5d7VLfd3",
        "outputId": "8e10573c-0b3d-4e78-bfdf-b3829bdfee43"
      },
      "execution_count": 46,
      "outputs": [
        {
          "output_type": "stream",
          "name": "stdout",
          "text": [
            "54\n",
            "the number is divisible by 3\n"
          ]
        }
      ]
    },
    {
      "cell_type": "markdown",
      "source": [
        "39. Write an if condition that checks if a string name is not empty and prints 'Name is provided'"
      ],
      "metadata": {
        "id": "a6pLVJeKMEmC"
      }
    },
    {
      "cell_type": "code",
      "source": [
        "name=input()\n",
        "if str(name):\n",
        "  print('Name is provided')"
      ],
      "metadata": {
        "colab": {
          "base_uri": "https://localhost:8080/"
        },
        "id": "xcHzjTNQMKsm",
        "outputId": "c29f2810-35d8-4e26-c603-0c563ef6d0cd"
      },
      "execution_count": 47,
      "outputs": [
        {
          "output_type": "stream",
          "name": "stdout",
          "text": [
            "Souparna\n",
            "Name is provided\n"
          ]
        }
      ]
    },
    {
      "cell_type": "markdown",
      "source": [
        "40. Use an if statement to check if a variable age is within the range 18 to 25 inclusive."
      ],
      "metadata": {
        "id": "KhUQqGt9MfeA"
      }
    },
    {
      "cell_type": "code",
      "source": [
        "age=input()\n",
        "if int(age)>=18 and int(age)<=25:\n",
        "  print('age is within range')\n",
        "else:\n",
        "  print('age is not within range')"
      ],
      "metadata": {
        "colab": {
          "base_uri": "https://localhost:8080/"
        },
        "id": "IGXdjMaJMky5",
        "outputId": "4781ce72-88c7-4168-81b3-6d581934a81a"
      },
      "execution_count": 48,
      "outputs": [
        {
          "output_type": "stream",
          "name": "stdout",
          "text": [
            "21\n",
            "age is within range\n"
          ]
        }
      ]
    },
    {
      "cell_type": "code",
      "source": [],
      "metadata": {
        "id": "clVOsHaeMC4d"
      },
      "execution_count": null,
      "outputs": []
    }
  ]
}
