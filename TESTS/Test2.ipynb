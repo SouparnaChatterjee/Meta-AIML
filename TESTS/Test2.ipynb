{
  "nbformat": 4,
  "nbformat_minor": 0,
  "metadata": {
    "colab": {
      "provenance": [],
      "authorship_tag": "ABX9TyNAqXnvJfkPUxhn3hLTDKHP"
    },
    "kernelspec": {
      "name": "python3",
      "display_name": "Python 3"
    },
    "language_info": {
      "name": "python"
    }
  },
  "cells": [
    {
      "cell_type": "markdown",
      "source": [
        "1. List five Python keywords and describe what they do."
      ],
      "metadata": {
        "id": "TQZXKr7l0tkB"
      }
    },
    {
      "cell_type": "markdown",
      "source": [
        "5 keywords are:\n",
        "1. if: This is a keyword used to introduce a condition and execute the corresponding codeblock.\n",
        "2. while: This is used to create a loop that executes till the specified condition is valid.\n",
        "3. for: This also is used to create a loop that executes till the specified condition is valid.\n",
        "4. continue: This keyword continues executing the rest oof the code.\n",
        "5. return: marks the end of execution and returns the desired result."
      ],
      "metadata": {
        "id": "1a-iLJx100rs"
      }
    },
    {
      "cell_type": "markdown",
      "source": [
        "2. Write an expression to calculate the area of a rectangle with a length of 5 and width of 10.\n"
      ],
      "metadata": {
        "id": "sDf6QmyN2Pb5"
      }
    },
    {
      "cell_type": "code",
      "source": [
        "length=5\n",
        "width=10\n",
        "area=width*length\n",
        "area"
      ],
      "metadata": {
        "colab": {
          "base_uri": "https://localhost:8080/"
        },
        "id": "9RK3IQaO2nZ4",
        "outputId": "fe039aa4-993b-44bb-df5d-89f731e6b295"
      },
      "execution_count": 2,
      "outputs": [
        {
          "output_type": "execute_result",
          "data": {
            "text/plain": [
              "50"
            ]
          },
          "metadata": {},
          "execution_count": 2
        }
      ]
    },
    {
      "cell_type": "markdown",
      "source": [
        "3. Use the `is` keyword to check if two variables point to the same object"
      ],
      "metadata": {
        "id": "hOkSeNFc21ar"
      }
    },
    {
      "cell_type": "code",
      "source": [
        "a = 'apple'\n",
        "b = 'orange'\n",
        "print(a is b)  # Output: False\n"
      ],
      "metadata": {
        "colab": {
          "base_uri": "https://localhost:8080/"
        },
        "id": "GOOR-qhT25UB",
        "outputId": "dad277fe-32c8-4ee7-870b-f192748cc195"
      },
      "execution_count": 4,
      "outputs": [
        {
          "output_type": "stream",
          "name": "stdout",
          "text": [
            "False\n"
          ]
        }
      ]
    },
    {
      "cell_type": "markdown",
      "source": [
        "4. Write a Python expression that combines addition, subtraction, multiplication, and division"
      ],
      "metadata": {
        "id": "XT9n2Bpm3VMl"
      }
    },
    {
      "cell_type": "code",
      "source": [
        "a=7\n",
        "b=12\n",
        "c=(a+b*2)/5\n",
        "c"
      ],
      "metadata": {
        "colab": {
          "base_uri": "https://localhost:8080/"
        },
        "id": "Gen6iWQ03hQZ",
        "outputId": "7f6447da-f2e7-439a-94f1-b027e015a4df"
      },
      "execution_count": 6,
      "outputs": [
        {
          "output_type": "execute_result",
          "data": {
            "text/plain": [
              "6.2"
            ]
          },
          "metadata": {},
          "execution_count": 6
        }
      ]
    },
    {
      "cell_type": "markdown",
      "source": [
        "5. What is the output of `10 % 3`? Explain why"
      ],
      "metadata": {
        "id": "zxmSWHpC369m"
      }
    },
    {
      "cell_type": "code",
      "source": [
        "ans=10%3\n",
        "ans\n"
      ],
      "metadata": {
        "colab": {
          "base_uri": "https://localhost:8080/"
        },
        "id": "zRWQS_hc3u9u",
        "outputId": "3df15f3f-4495-4e0b-ebaf-487a23c91e3d"
      },
      "execution_count": 8,
      "outputs": [
        {
          "output_type": "execute_result",
          "data": {
            "text/plain": [
              "1"
            ]
          },
          "metadata": {},
          "execution_count": 8
        }
      ]
    },
    {
      "cell_type": "markdown",
      "source": [
        "Here, we use the % operator to obtain a remainder as result"
      ],
      "metadata": {
        "id": "j6yGSCaL4Fws"
      }
    },
    {
      "cell_type": "markdown",
      "source": [
        "6. Check the type of the value `3.14` in Python.\n"
      ],
      "metadata": {
        "id": "GQAzeLHu4NGd"
      }
    },
    {
      "cell_type": "code",
      "source": [
        "a=3.14\n",
        "type(a)"
      ],
      "metadata": {
        "colab": {
          "base_uri": "https://localhost:8080/"
        },
        "id": "5J6HAsA_4f2k",
        "outputId": "b19c245f-2fb6-43ac-87c5-4197c5ed8035"
      },
      "execution_count": 9,
      "outputs": [
        {
          "output_type": "execute_result",
          "data": {
            "text/plain": [
              "float"
            ]
          },
          "metadata": {},
          "execution_count": 9
        }
      ]
    },
    {
      "cell_type": "markdown",
      "source": [
        "7. Convert the integer `10` to a float and a string. Print the results."
      ],
      "metadata": {
        "id": "KcCzrYGc4lS4"
      }
    },
    {
      "cell_type": "code",
      "source": [
        "a=float(10)\n",
        "b=str(10)\n",
        "print(a,b)"
      ],
      "metadata": {
        "colab": {
          "base_uri": "https://localhost:8080/"
        },
        "id": "VbQiK04R4x-Y",
        "outputId": "d0d0add4-bda0-46e9-ab56-f47e1ff8575f"
      },
      "execution_count": 13,
      "outputs": [
        {
          "output_type": "stream",
          "name": "stdout",
          "text": [
            "10.0 10\n"
          ]
        }
      ]
    },
    {
      "cell_type": "markdown",
      "source": [
        "8. Write a statement to add two strings and print the result.\n"
      ],
      "metadata": {
        "id": "-SWVgu2a7Lws"
      }
    },
    {
      "cell_type": "code",
      "source": [
        "strA='Soup'\n",
        "strB='arna'\n",
        "strA+strB"
      ],
      "metadata": {
        "colab": {
          "base_uri": "https://localhost:8080/",
          "height": 36
        },
        "id": "BjTtlXjA7P90",
        "outputId": "ff393520-5fb1-47d4-ba89-9fc82bb4225f"
      },
      "execution_count": 14,
      "outputs": [
        {
          "output_type": "execute_result",
          "data": {
            "text/plain": [
              "'Souparna'"
            ],
            "application/vnd.google.colaboratory.intrinsic+json": {
              "type": "string"
            }
          },
          "metadata": {},
          "execution_count": 14
        }
      ]
    },
    {
      "cell_type": "markdown",
      "source": [
        "9. What data type would the result of `3 > 2` be?"
      ],
      "metadata": {
        "id": "XC32TXXi7eJ3"
      }
    },
    {
      "cell_type": "code",
      "source": [
        "type(3>2)"
      ],
      "metadata": {
        "colab": {
          "base_uri": "https://localhost:8080/"
        },
        "id": "qNbediAP7jTk",
        "outputId": "888dc47f-14cb-4434-c12e-bc437ef1bf4e"
      },
      "execution_count": 15,
      "outputs": [
        {
          "output_type": "execute_result",
          "data": {
            "text/plain": [
              "bool"
            ]
          },
          "metadata": {},
          "execution_count": 15
        }
      ]
    },
    {
      "cell_type": "markdown",
      "source": [
        "10. How can you convert a string \"123\" into an integer?"
      ],
      "metadata": {
        "id": "9ChuOhdd7ulI"
      }
    },
    {
      "cell_type": "code",
      "source": [
        "a=str(123)\n",
        "b=int(a)\n",
        "type(b)"
      ],
      "metadata": {
        "colab": {
          "base_uri": "https://localhost:8080/"
        },
        "id": "MBg02tm78BWM",
        "outputId": "5fe401ec-9040-446a-c2bc-b8f9f0c9e1c6"
      },
      "execution_count": 16,
      "outputs": [
        {
          "output_type": "execute_result",
          "data": {
            "text/plain": [
              "int"
            ]
          },
          "metadata": {},
          "execution_count": 16
        }
      ]
    },
    {
      "cell_type": "markdown",
      "source": [
        "11. Create a list of 5 elements and print the third element."
      ],
      "metadata": {
        "id": "8mSb-O308JLu"
      }
    },
    {
      "cell_type": "code",
      "source": [
        "lst=[1,2,3,5,7]\n",
        "print(lst[2])"
      ],
      "metadata": {
        "colab": {
          "base_uri": "https://localhost:8080/"
        },
        "id": "ndIxuzzA8Nva",
        "outputId": "799094d9-b273-441c-cb57-ae71e152b39b"
      },
      "execution_count": 17,
      "outputs": [
        {
          "output_type": "stream",
          "name": "stdout",
          "text": [
            "3\n"
          ]
        }
      ]
    },
    {
      "cell_type": "markdown",
      "source": [
        "12. Add a new element to a list called `my_list` using the `.append()` method."
      ],
      "metadata": {
        "id": "pT_Kn38W8aA-"
      }
    },
    {
      "cell_type": "code",
      "source": [
        "my_list=[1,6,90,76,89]\n",
        "my_list.append(88)\n",
        "my_list"
      ],
      "metadata": {
        "colab": {
          "base_uri": "https://localhost:8080/"
        },
        "id": "8TNYlXv18V9Q",
        "outputId": "fb615359-9073-41b6-b970-4521080e746c"
      },
      "execution_count": 19,
      "outputs": [
        {
          "output_type": "execute_result",
          "data": {
            "text/plain": [
              "[1, 6, 90, 76, 89, 88]"
            ]
          },
          "metadata": {},
          "execution_count": 19
        }
      ]
    },
    {
      "cell_type": "markdown",
      "source": [
        "13. Remove the last element from a list `my_list` using the `.pop()` method."
      ],
      "metadata": {
        "id": "npKAdELg8l6J"
      }
    },
    {
      "cell_type": "code",
      "source": [
        "my_list=[1,6,90,76,89]\n",
        "my_list.pop()"
      ],
      "metadata": {
        "colab": {
          "base_uri": "https://localhost:8080/"
        },
        "id": "i0V9EPHv8oyn",
        "outputId": "d133ffed-9239-4a89-d1f8-2c53ff288818"
      },
      "execution_count": 20,
      "outputs": [
        {
          "output_type": "execute_result",
          "data": {
            "text/plain": [
              "89"
            ]
          },
          "metadata": {},
          "execution_count": 20
        }
      ]
    },
    {
      "cell_type": "markdown",
      "source": [
        "14. Create a tuple with four elements and try changing the second element. What happens?\n"
      ],
      "metadata": {
        "id": "XvD9gHCl82hV"
      }
    },
    {
      "cell_type": "code",
      "source": [
        "tup=[1,2,8,9]\n",
        "tup[1]=8\n",
        "tup"
      ],
      "metadata": {
        "colab": {
          "base_uri": "https://localhost:8080/"
        },
        "id": "dXdBYZRF86_c",
        "outputId": "b235f495-b134-4394-c6aa-8d24746710c2"
      },
      "execution_count": 21,
      "outputs": [
        {
          "output_type": "execute_result",
          "data": {
            "text/plain": [
              "[1, 8, 8, 9]"
            ]
          },
          "metadata": {},
          "execution_count": 21
        }
      ]
    },
    {
      "cell_type": "markdown",
      "source": [
        "the second element gets changed"
      ],
      "metadata": {
        "id": "0N3cv3Mp9FYs"
      }
    },
    {
      "cell_type": "markdown",
      "source": [
        "15. Use slicing to get the last two elements from a list `[10, 20, 30, 40, 50]"
      ],
      "metadata": {
        "id": "pGlSuXcV9JeR"
      }
    },
    {
      "cell_type": "code",
      "source": [
        "my_list = [10, 20, 30, 40, 50]\n",
        "last_two = my_list[-2:]\n",
        "print(last_two)\n"
      ],
      "metadata": {
        "colab": {
          "base_uri": "https://localhost:8080/"
        },
        "id": "GJTdOFf69MhB",
        "outputId": "6d747916-3872-4671-cbb8-ceb8df691a8d"
      },
      "execution_count": 22,
      "outputs": [
        {
          "output_type": "stream",
          "name": "stdout",
          "text": [
            "[40, 50]\n"
          ]
        }
      ]
    },
    {
      "cell_type": "markdown",
      "source": [
        "Create a tuple with four elements and try changing the second element. What happens?\n"
      ],
      "metadata": {
        "id": "wGQIXVLK9Tow"
      }
    },
    {
      "cell_type": "code",
      "source": [
        "tup=[2,8,99,100]\n",
        "tup[1]=5\n",
        "tup"
      ],
      "metadata": {
        "colab": {
          "base_uri": "https://localhost:8080/"
        },
        "id": "snIaR0-faAqB",
        "outputId": "9616e116-1bdb-424d-ef94-7c4bd6c1b56f"
      },
      "execution_count": 1,
      "outputs": [
        {
          "output_type": "execute_result",
          "data": {
            "text/plain": [
              "[2, 5, 99, 100]"
            ]
          },
          "metadata": {},
          "execution_count": 1
        }
      ]
    },
    {
      "cell_type": "markdown",
      "source": [
        "in case of tuple, the element remains unchanged"
      ],
      "metadata": {
        "id": "0zzW-AJlaTeC"
      }
    },
    {
      "cell_type": "markdown",
      "source": [
        "15. Use slicing to get the last two elements from a list `[10, 20, 30, 40, 50]`"
      ],
      "metadata": {
        "id": "4Yun1xqGaXv_"
      }
    },
    {
      "cell_type": "code",
      "source": [
        "lst=[10, 20, 30, 40, 50]\n",
        "lst[-2:]"
      ],
      "metadata": {
        "colab": {
          "base_uri": "https://localhost:8080/"
        },
        "id": "IMIzxipLaah8",
        "outputId": "99576633-fd55-47c1-ebd0-909bee927441"
      },
      "execution_count": 2,
      "outputs": [
        {
          "output_type": "execute_result",
          "data": {
            "text/plain": [
              "[40, 50]"
            ]
          },
          "metadata": {},
          "execution_count": 2
        }
      ]
    },
    {
      "cell_type": "markdown",
      "source": [
        "16. Create a dictionary with keys 'name' and 'age' and values 'Alice' and 25.\n"
      ],
      "metadata": {
        "id": "DB0bDJoRajTL"
      }
    },
    {
      "cell_type": "code",
      "source": [
        "dict={'name':'Alice', 'age':25}\n",
        "dict"
      ],
      "metadata": {
        "colab": {
          "base_uri": "https://localhost:8080/"
        },
        "id": "P4qNZKRAamx3",
        "outputId": "98bdd5cf-4ad3-43a7-bfb3-c3764c79cf64"
      },
      "execution_count": 4,
      "outputs": [
        {
          "output_type": "execute_result",
          "data": {
            "text/plain": [
              "{'name': 'Alice', 'age': 25}"
            ]
          },
          "metadata": {},
          "execution_count": 4
        }
      ]
    },
    {
      "cell_type": "markdown",
      "source": [
        "17. Retrieve the value associated with the key 'name' from the dictionary you created in question 16.\n"
      ],
      "metadata": {
        "id": "gPjCrLuVa3N-"
      }
    },
    {
      "cell_type": "code",
      "source": [
        "dict={'name':'Alice', 'age':25}\n",
        "dict['name']"
      ],
      "metadata": {
        "colab": {
          "base_uri": "https://localhost:8080/",
          "height": 36
        },
        "id": "xyYU6Wraa7Kb",
        "outputId": "65bb4cfd-90a4-4d74-ee5b-5ff7667bb62e"
      },
      "execution_count": 5,
      "outputs": [
        {
          "output_type": "execute_result",
          "data": {
            "text/plain": [
              "'Alice'"
            ],
            "application/vnd.google.colaboratory.intrinsic+json": {
              "type": "string"
            }
          },
          "metadata": {},
          "execution_count": 5
        }
      ]
    },
    {
      "cell_type": "markdown",
      "source": [
        "18. Check if the key 'name' exists in a dictionary"
      ],
      "metadata": {
        "id": "HUsycFCGbCO0"
      }
    },
    {
      "cell_type": "code",
      "source": [
        "dict={'name':'Alice', 'age':25}\n",
        "'name' in dict"
      ],
      "metadata": {
        "colab": {
          "base_uri": "https://localhost:8080/"
        },
        "id": "F8y2l6WhbEnc",
        "outputId": "56fe62ff-2508-4521-c175-319457ce5ac6"
      },
      "execution_count": 6,
      "outputs": [
        {
          "output_type": "execute_result",
          "data": {
            "text/plain": [
              "True"
            ]
          },
          "metadata": {},
          "execution_count": 6
        }
      ]
    },
    {
      "cell_type": "markdown",
      "source": [
        "19. What is the difference between a list and a set in Python?\n",
        "\n",
        "In case of sets, elements will not be repeated, while in case of list, elements can be repeated.\n",
        "Also, lists are within square brackets[], while sets are written within {}."
      ],
      "metadata": {
        "id": "XKVtBBwtbLjz"
      }
    },
    {
      "cell_type": "markdown",
      "source": [
        "20. Convert a list `[1, 2, 3, 2, 1]` into a set and print the result.\n"
      ],
      "metadata": {
        "id": "2hWGbca2bXlP"
      }
    },
    {
      "cell_type": "code",
      "source": [
        "lst=[1, 2, 3, 2, 1]\n",
        "st=set(lst)\n",
        "st"
      ],
      "metadata": {
        "colab": {
          "base_uri": "https://localhost:8080/"
        },
        "id": "NAfFj_GrbbUP",
        "outputId": "7a40cfbd-0a73-4454-e0c2-a7ed12f401e1"
      },
      "execution_count": 8,
      "outputs": [
        {
          "output_type": "execute_result",
          "data": {
            "text/plain": [
              "{1, 2, 3}"
            ]
          },
          "metadata": {},
          "execution_count": 8
        }
      ]
    },
    {
      "cell_type": "markdown",
      "source": [
        "21. Write an `if` statement that prints 'Greater than 10' if a number is greater than 10."
      ],
      "metadata": {
        "id": "yzjfDgRQbs6k"
      }
    },
    {
      "cell_type": "code",
      "source": [
        "a=int(input())\n",
        "if a>10:\n",
        "    print('Greater than 10')\n",
        "else:\n",
        "    print('Less than 10')"
      ],
      "metadata": {
        "colab": {
          "base_uri": "https://localhost:8080/"
        },
        "id": "8hR5TLila1Wi",
        "outputId": "eb0568fc-b2bb-47cb-c393-deaa1a6c448d"
      },
      "execution_count": 10,
      "outputs": [
        {
          "output_type": "stream",
          "name": "stdout",
          "text": [
            "56\n",
            "Greater than 10\n"
          ]
        }
      ]
    },
    {
      "cell_type": "markdown",
      "source": [
        "22. Write an `if-else` statement that checks if a number is positive or negative."
      ],
      "metadata": {
        "id": "wFOAXx0mcGWJ"
      }
    },
    {
      "cell_type": "code",
      "source": [
        "num=int(input())\n",
        "if num>0:\n",
        "    print('Positive')\n",
        "else:\n",
        "    print('Negative')"
      ],
      "metadata": {
        "colab": {
          "base_uri": "https://localhost:8080/"
        },
        "id": "F2sNt6QmcFmc",
        "outputId": "ef8039f8-ba3a-40ba-9518-3e8cb2d0fb40"
      },
      "execution_count": 11,
      "outputs": [
        {
          "output_type": "stream",
          "name": "stdout",
          "text": [
            "7\n",
            "Positive\n"
          ]
        }
      ]
    },
    {
      "cell_type": "markdown",
      "source": [
        "23. Write an `if-elif-else` statement that checks if a number is positive, negative, or zero.\n"
      ],
      "metadata": {
        "id": "MjvPp7h_cTRM"
      }
    },
    {
      "cell_type": "code",
      "source": [
        "nums=int(input())\n",
        "if nums>0:\n",
        "    print('Positive')\n",
        "elif nums<0:\n",
        "    print('Negative')\n",
        "else:\n",
        "    print('Zero')\n"
      ],
      "metadata": {
        "colab": {
          "base_uri": "https://localhost:8080/"
        },
        "id": "bfs-SKOycV4p",
        "outputId": "c27b71f0-3d54-43f8-899b-335bd1f41451"
      },
      "execution_count": 12,
      "outputs": [
        {
          "output_type": "stream",
          "name": "stdout",
          "text": [
            "-89\n",
            "Negative\n"
          ]
        }
      ]
    },
    {
      "cell_type": "markdown",
      "source": [
        "24. Create a Python program that takes an integer as input and prints 'Even' if it is even and 'Odd' if\n",
        "it is odd"
      ],
      "metadata": {
        "id": "5ZUAm-t_cmIz"
      }
    },
    {
      "cell_type": "code",
      "source": [
        "number=int(input())\n",
        "if number%2==0:\n",
        "    print('Even')\n",
        "else:\n",
        "    print('Odd')"
      ],
      "metadata": {
        "colab": {
          "base_uri": "https://localhost:8080/"
        },
        "id": "xml_C_rxcnKk",
        "outputId": "b62c126c-81f6-4a62-b979-62ee08279303"
      },
      "execution_count": 13,
      "outputs": [
        {
          "output_type": "stream",
          "name": "stdout",
          "text": [
            "88\n",
            "Even\n"
          ]
        }
      ]
    },
    {
      "cell_type": "markdown",
      "source": [
        "25. Write a program that checks if a given year is a leap year."
      ],
      "metadata": {
        "id": "tu88eTJcc63y"
      }
    },
    {
      "cell_type": "code",
      "source": [
        "yr=int(input())\n",
        "if yr%4==0:\n",
        "    print('Leap year')\n",
        "else:\n",
        "    print('Not a leap year')"
      ],
      "metadata": {
        "colab": {
          "base_uri": "https://localhost:8080/"
        },
        "id": "FjunjZAVc9iJ",
        "outputId": "74c0b29f-23bb-4a66-d65d-3e1a20ba7251"
      },
      "execution_count": 14,
      "outputs": [
        {
          "output_type": "stream",
          "name": "stdout",
          "text": [
            "2025\n",
            "Not a leap year\n"
          ]
        }
      ]
    },
    {
      "cell_type": "markdown",
      "source": [
        "26. Use a nested `if` statement to check if a number is positive and even."
      ],
      "metadata": {
        "id": "QAKP6LEZdDKF"
      }
    },
    {
      "cell_type": "code",
      "source": [
        "number=int(input())\n",
        "if number%2==0 and number>0:\n",
        "    print('Positive and even')\n",
        "else:\n",
        "    print('Not positive and even')"
      ],
      "metadata": {
        "colab": {
          "base_uri": "https://localhost:8080/"
        },
        "id": "QoDgK5xedGaX",
        "outputId": "84aa1bb2-155d-4690-f8f2-8b6dbea11650"
      },
      "execution_count": 15,
      "outputs": [
        {
          "output_type": "stream",
          "name": "stdout",
          "text": [
            "10\n",
            "Positive and even\n"
          ]
        }
      ]
    },
    {
      "cell_type": "markdown",
      "source": [
        "27. Write a program to check if a variable `x` is between 5 and 10."
      ],
      "metadata": {
        "id": "x-yDMh-7dQaD"
      }
    },
    {
      "cell_type": "code",
      "source": [
        "number=int(input())\n",
        "if(number>5 and number<10):\n",
        "    print('Between 5 and 10')\n",
        "else:\n",
        "    print('Not between 5 and 10')"
      ],
      "metadata": {
        "colab": {
          "base_uri": "https://localhost:8080/"
        },
        "id": "AbX765SMdULN",
        "outputId": "7e19a7eb-621a-4460-b4f6-f72d6708f500"
      },
      "execution_count": 17,
      "outputs": [
        {
          "output_type": "stream",
          "name": "stdout",
          "text": [
            "6\n",
            "Between 5 and 10\n"
          ]
        }
      ]
    },
    {
      "cell_type": "markdown",
      "source": [
        "28. Write an `if` statement that checks if a variable is a specific data type."
      ],
      "metadata": {
        "id": "4B8LPWAwdf6g"
      }
    },
    {
      "cell_type": "code",
      "source": [
        "x=int(input())\n",
        "if type(x)==int:\n",
        "    print('Integer')\n",
        "else:\n",
        "    print('Not integer')\n"
      ],
      "metadata": {
        "colab": {
          "base_uri": "https://localhost:8080/"
        },
        "id": "lDFef3zjhbcS",
        "outputId": "de2b8871-11ce-4b0c-db2e-ba1fb88a27b5"
      },
      "execution_count": 18,
      "outputs": [
        {
          "output_type": "stream",
          "name": "stdout",
          "text": [
            "78\n",
            "Integer\n"
          ]
        }
      ]
    },
    {
      "cell_type": "markdown",
      "source": [
        "Write a program that prints 'Pass' if a student's grade is 60 or higher, otherwise 'Fail'."
      ],
      "metadata": {
        "id": "gpya831thqkH"
      }
    },
    {
      "cell_type": "code",
      "source": [
        "marks=int(input())\n",
        "if marks>=60:\n",
        "    print('Pass')"
      ],
      "metadata": {
        "colab": {
          "base_uri": "https://localhost:8080/"
        },
        "id": "SAvtIEWghraH",
        "outputId": "1a43c68c-a75a-4ed9-e9e6-58fdd20dfe4b"
      },
      "execution_count": 22,
      "outputs": [
        {
          "output_type": "stream",
          "name": "stdout",
          "text": [
            "89\n",
            "Pass\n"
          ]
        }
      ]
    },
    {
      "cell_type": "markdown",
      "source": [
        "30. Write an `if` statement that prints a message if a variable is empty.\n"
      ],
      "metadata": {
        "id": "Dg0tzKaah-6x"
      }
    },
    {
      "cell_type": "code",
      "source": [
        "x = input(\"Enter something: \")\n",
        "if x == \"\":\n",
        "    print(\"Empty\")\n",
        "else:\n",
        "    print(\"Not Empty\")\n"
      ],
      "metadata": {
        "colab": {
          "base_uri": "https://localhost:8080/"
        },
        "id": "6B1ItWZ-izwZ",
        "outputId": "8a8f3ac9-62ec-4b9f-dd8a-e553eebb1989"
      },
      "execution_count": 27,
      "outputs": [
        {
          "output_type": "stream",
          "name": "stdout",
          "text": [
            "Enter something: 89\n",
            "Not Empty\n"
          ]
        }
      ]
    },
    {
      "cell_type": "markdown",
      "source": [
        "31. Use a `for` loop and `range()` to print numbers from 1 to 10."
      ],
      "metadata": {
        "id": "_wjDx5s4i3or"
      }
    },
    {
      "cell_type": "code",
      "source": [
        "for i in range (1,11):\n",
        "    print(i)"
      ],
      "metadata": {
        "colab": {
          "base_uri": "https://localhost:8080/"
        },
        "id": "GIEiHBO8i8QO",
        "outputId": "3c6eb6f0-f8c2-4f83-bd66-d08b54918957"
      },
      "execution_count": 28,
      "outputs": [
        {
          "output_type": "stream",
          "name": "stdout",
          "text": [
            "1\n",
            "2\n",
            "3\n",
            "4\n",
            "5\n",
            "6\n",
            "7\n",
            "8\n",
            "9\n",
            "10\n"
          ]
        }
      ]
    },
    {
      "cell_type": "markdown",
      "source": [
        "32. Write a `for` loop that calculates the sum of all numbers from 1 to 20.\n"
      ],
      "metadata": {
        "id": "pnw52bWUjDQq"
      }
    },
    {
      "cell_type": "code",
      "source": [
        "sum=0\n",
        "for i in range (1,21):\n",
        "    sum+=i\n",
        "print(sum)"
      ],
      "metadata": {
        "colab": {
          "base_uri": "https://localhost:8080/"
        },
        "id": "xnJZgEjTjF_X",
        "outputId": "0a434698-ed25-48d6-f30a-66a57766a377"
      },
      "execution_count": 29,
      "outputs": [
        {
          "output_type": "stream",
          "name": "stdout",
          "text": [
            "210\n"
          ]
        }
      ]
    },
    {
      "cell_type": "markdown",
      "source": [
        "33. Use a `for` loop to iterate over a list of names and print each name."
      ],
      "metadata": {
        "id": "xGkLbRk8jQeB"
      }
    },
    {
      "cell_type": "code",
      "source": [
        "names=['Souparna','Maithili','Chitra','Soumi','Dibyangana','Soumyaa']\n",
        "for i in names:\n",
        "    print(i)"
      ],
      "metadata": {
        "colab": {
          "base_uri": "https://localhost:8080/"
        },
        "id": "IjPr2XY1jTxq",
        "outputId": "c96b866a-40a7-4aad-f317-ecfebccacbc2"
      },
      "execution_count": 30,
      "outputs": [
        {
          "output_type": "stream",
          "name": "stdout",
          "text": [
            "Souparna\n",
            "Maithili\n",
            "Chitra\n",
            "Soumi\n",
            "Dibyangana\n",
            "Soumyaa\n"
          ]
        }
      ]
    },
    {
      "cell_type": "markdown",
      "source": [
        "34. Write a program to print the squares of numbers from 1 to 10 using a `for` loop"
      ],
      "metadata": {
        "id": "5ILmGA6pjlmU"
      }
    },
    {
      "cell_type": "code",
      "source": [
        "for i in range (1,11):\n",
        "    print(i**2)"
      ],
      "metadata": {
        "colab": {
          "base_uri": "https://localhost:8080/"
        },
        "id": "iiuLMaFXjmUF",
        "outputId": "b9975ae2-3081-4d39-df35-be10a63f1eeb"
      },
      "execution_count": 31,
      "outputs": [
        {
          "output_type": "stream",
          "name": "stdout",
          "text": [
            "1\n",
            "4\n",
            "9\n",
            "16\n",
            "25\n",
            "36\n",
            "49\n",
            "64\n",
            "81\n",
            "100\n"
          ]
        }
      ]
    },
    {
      "cell_type": "markdown",
      "source": [
        "35. Use a `for` loop and `range()` to print all even numbers from 1 to 20"
      ],
      "metadata": {
        "id": "9C8BYAPEjsjC"
      }
    },
    {
      "cell_type": "code",
      "source": [
        "for i in range(1,21):\n",
        "  print(i)"
      ],
      "metadata": {
        "colab": {
          "base_uri": "https://localhost:8080/"
        },
        "id": "PRIkJneQjtIm",
        "outputId": "5bfb934f-e902-4720-af0f-504baac14353"
      },
      "execution_count": 33,
      "outputs": [
        {
          "output_type": "stream",
          "name": "stdout",
          "text": [
            "1\n",
            "2\n",
            "3\n",
            "4\n",
            "5\n",
            "6\n",
            "7\n",
            "8\n",
            "9\n",
            "10\n",
            "11\n",
            "12\n",
            "13\n",
            "14\n",
            "15\n",
            "16\n",
            "17\n",
            "18\n",
            "19\n",
            "20\n"
          ]
        }
      ]
    },
    {
      "cell_type": "markdown",
      "source": [
        "36. Write a program that counts down from 10 to 1 using a `for` loop."
      ],
      "metadata": {
        "id": "9I8TuupRj0el"
      }
    },
    {
      "cell_type": "code",
      "source": [
        "for i in range (10,0,-1):\n",
        "    print(i)"
      ],
      "metadata": {
        "colab": {
          "base_uri": "https://localhost:8080/"
        },
        "id": "OjubJyQDjwW9",
        "outputId": "b84a1e30-9ca4-4e9e-c3d4-60dda2b6e03d"
      },
      "execution_count": 34,
      "outputs": [
        {
          "output_type": "stream",
          "name": "stdout",
          "text": [
            "10\n",
            "9\n",
            "8\n",
            "7\n",
            "6\n",
            "5\n",
            "4\n",
            "3\n",
            "2\n",
            "1\n"
          ]
        }
      ]
    },
    {
      "cell_type": "markdown",
      "source": [
        "37. Create a list of fruits and use a `for` loop to print each fruit in uppercase"
      ],
      "metadata": {
        "id": "uXQBoNZxkD93"
      }
    },
    {
      "cell_type": "code",
      "source": [
        "fruits=['apple','orange','kiwi','cherry']\n",
        "for fruit in fruits:\n",
        "    print(fruit.upper())"
      ],
      "metadata": {
        "colab": {
          "base_uri": "https://localhost:8080/"
        },
        "id": "wlWMprLVkVsm",
        "outputId": "fa6ec19a-d8ba-483a-8bb2-a188d9767bd0"
      },
      "execution_count": 37,
      "outputs": [
        {
          "output_type": "stream",
          "name": "stdout",
          "text": [
            "APPLE\n",
            "ORANGE\n",
            "KIWI\n",
            "CHERRY\n"
          ]
        }
      ]
    },
    {
      "cell_type": "markdown",
      "source": [
        "38. Write a `for` loop that prints the elements in a list along with their index.\n"
      ],
      "metadata": {
        "id": "qWZpzmd0k_8F"
      }
    },
    {
      "cell_type": "code",
      "source": [
        "fruits=['apple','orange','kiwi','cherry']\n",
        "for index, fruit in enumerate(fruits):\n",
        "    print(index, fruit)"
      ],
      "metadata": {
        "colab": {
          "base_uri": "https://localhost:8080/"
        },
        "id": "eWk2QAoqlJtM",
        "outputId": "1f1fdd97-ed33-41d8-d88e-c2ba25acf3cd"
      },
      "execution_count": 38,
      "outputs": [
        {
          "output_type": "stream",
          "name": "stdout",
          "text": [
            "0 apple\n",
            "1 orange\n",
            "2 kiwi\n",
            "3 cherry\n"
          ]
        }
      ]
    },
    {
      "cell_type": "markdown",
      "source": [
        "39. Use `range()` with three arguments to print every third number from 0 to 30"
      ],
      "metadata": {
        "id": "BcizMdSClPhp"
      }
    },
    {
      "cell_type": "code",
      "source": [
        "for i in range(0,31,3):\n",
        "  print(i)"
      ],
      "metadata": {
        "colab": {
          "base_uri": "https://localhost:8080/"
        },
        "id": "x0HpRO6slTam",
        "outputId": "c1eabeaf-f5c8-4bc9-c9e0-8581f20e4db5"
      },
      "execution_count": 39,
      "outputs": [
        {
          "output_type": "stream",
          "name": "stdout",
          "text": [
            "0\n",
            "3\n",
            "6\n",
            "9\n",
            "12\n",
            "15\n",
            "18\n",
            "21\n",
            "24\n",
            "27\n",
            "30\n"
          ]
        }
      ]
    },
    {
      "cell_type": "markdown",
      "source": [
        "40. Write a program to calculate the factorial of a number using a `for` loop."
      ],
      "metadata": {
        "id": "PrW-n6D3leD1"
      }
    },
    {
      "cell_type": "code",
      "source": [
        "x=int(input())\n",
        "fact=1\n",
        "for i in range(1,x+1):\n",
        "  fact*=i\n",
        "print(fact)"
      ],
      "metadata": {
        "colab": {
          "base_uri": "https://localhost:8080/"
        },
        "id": "qKfNJHlMlisw",
        "outputId": "bbd4d44e-24e2-470c-f223-544785df4951"
      },
      "execution_count": 40,
      "outputs": [
        {
          "output_type": "stream",
          "name": "stdout",
          "text": [
            "6\n",
            "720\n"
          ]
        }
      ]
    },
    {
      "cell_type": "markdown",
      "source": [
        "Use a `while` loop to print numbers from 1 to 5.\n"
      ],
      "metadata": {
        "id": "Co9BKNAPluVf"
      }
    },
    {
      "cell_type": "code",
      "source": [
        "while i<=5:\n",
        "  print(i)\n",
        "  i+=1"
      ],
      "metadata": {
        "id": "mgAz8URYlzLl"
      },
      "execution_count": 41,
      "outputs": []
    },
    {
      "cell_type": "markdown",
      "source": [
        " Write a program that keeps asking the user for a password until they enter '1234'"
      ],
      "metadata": {
        "id": "37FlEmQzl3wU"
      }
    },
    {
      "cell_type": "code",
      "source": [
        "str(input())\n",
        "while str(input())!='1234':\n",
        "  print('Try again')"
      ],
      "metadata": {
        "colab": {
          "base_uri": "https://localhost:8080/"
        },
        "id": "xd4M6rEil6b3",
        "outputId": "690930b7-4984-40f2-8607-c4722b71df57"
      },
      "execution_count": 42,
      "outputs": [
        {
          "name": "stdout",
          "output_type": "stream",
          "text": [
            "5677\n",
            "7688\n",
            "Try again\n",
            "8899\n",
            "Try again\n",
            "1234\n"
          ]
        }
      ]
    },
    {
      "cell_type": "markdown",
      "source": [
        "43. Write a `while` loop to find the sum of numbers from 1 to 100."
      ],
      "metadata": {
        "id": "G6VzNB73mR12"
      }
    },
    {
      "cell_type": "code",
      "source": [
        "while i>=1 and i<=100:\n",
        "  sum+=i\n",
        "  i+=1\n",
        "print(sum)"
      ],
      "metadata": {
        "colab": {
          "base_uri": "https://localhost:8080/"
        },
        "id": "wxNNBKGqlr_K",
        "outputId": "93c4d5d3-9212-4b8e-9a60-7f0949229b7f"
      },
      "execution_count": 43,
      "outputs": [
        {
          "output_type": "stream",
          "name": "stdout",
          "text": [
            "5245\n"
          ]
        }
      ]
    },
    {
      "cell_type": "markdown",
      "source": [
        "44. Use a `while` loop to print the numbers in reverse from 10 to 1."
      ],
      "metadata": {
        "id": "nvjK8SncmgqW"
      }
    },
    {
      "cell_type": "code",
      "source": [
        "i=10\n",
        "while i<=10 and i>=1:\n",
        "  print(i)\n",
        "  i-=1"
      ],
      "metadata": {
        "colab": {
          "base_uri": "https://localhost:8080/"
        },
        "id": "67fe-u5rlc7l",
        "outputId": "9821de24-d2fa-4609-964d-29511e633976"
      },
      "execution_count": 46,
      "outputs": [
        {
          "output_type": "stream",
          "name": "stdout",
          "text": [
            "10\n",
            "9\n",
            "8\n",
            "7\n",
            "6\n",
            "5\n",
            "4\n",
            "3\n",
            "2\n",
            "1\n"
          ]
        }
      ]
    },
    {
      "cell_type": "markdown",
      "source": [
        "45. Write a `while` loop that prints only even numbers between 1 and 20."
      ],
      "metadata": {
        "id": "eLjl6bw1m7vb"
      }
    },
    {
      "cell_type": "code",
      "source": [
        "i=1\n",
        "while i>=1 and i<=20:\n",
        "  if i%2==0:\n",
        "    print(i)\n",
        "  i+=1"
      ],
      "metadata": {
        "colab": {
          "base_uri": "https://localhost:8080/"
        },
        "id": "LkvhIhhanBHM",
        "outputId": "4833d252-adef-49cc-d82f-66244cf6a623"
      },
      "execution_count": 48,
      "outputs": [
        {
          "output_type": "stream",
          "name": "stdout",
          "text": [
            "2\n",
            "4\n",
            "6\n",
            "8\n",
            "10\n",
            "12\n",
            "14\n",
            "16\n",
            "18\n",
            "20\n"
          ]
        }
      ]
    },
    {
      "cell_type": "markdown",
      "source": [
        "46. Create a `while` loop that stops once a number exceeds 100"
      ],
      "metadata": {
        "id": "oIMEElpUnNL3"
      }
    },
    {
      "cell_type": "code",
      "source": [
        "i=1\n",
        "while i>=1 and i<=100:\n",
        " print(i)\n",
        " i+=1"
      ],
      "metadata": {
        "colab": {
          "base_uri": "https://localhost:8080/"
        },
        "id": "z_reR79anS9R",
        "outputId": "45168067-6f1d-4b6d-c25f-2a8ce7ef8daf"
      },
      "execution_count": 52,
      "outputs": [
        {
          "output_type": "stream",
          "name": "stdout",
          "text": [
            "1\n",
            "2\n",
            "3\n",
            "4\n",
            "5\n",
            "6\n",
            "7\n",
            "8\n",
            "9\n",
            "10\n",
            "11\n",
            "12\n",
            "13\n",
            "14\n",
            "15\n",
            "16\n",
            "17\n",
            "18\n",
            "19\n",
            "20\n",
            "21\n",
            "22\n",
            "23\n",
            "24\n",
            "25\n",
            "26\n",
            "27\n",
            "28\n",
            "29\n",
            "30\n",
            "31\n",
            "32\n",
            "33\n",
            "34\n",
            "35\n",
            "36\n",
            "37\n",
            "38\n",
            "39\n",
            "40\n",
            "41\n",
            "42\n",
            "43\n",
            "44\n",
            "45\n",
            "46\n",
            "47\n",
            "48\n",
            "49\n",
            "50\n",
            "51\n",
            "52\n",
            "53\n",
            "54\n",
            "55\n",
            "56\n",
            "57\n",
            "58\n",
            "59\n",
            "60\n",
            "61\n",
            "62\n",
            "63\n",
            "64\n",
            "65\n",
            "66\n",
            "67\n",
            "68\n",
            "69\n",
            "70\n",
            "71\n",
            "72\n",
            "73\n",
            "74\n",
            "75\n",
            "76\n",
            "77\n",
            "78\n",
            "79\n",
            "80\n",
            "81\n",
            "82\n",
            "83\n",
            "84\n",
            "85\n",
            "86\n",
            "87\n",
            "88\n",
            "89\n",
            "90\n",
            "91\n",
            "92\n",
            "93\n",
            "94\n",
            "95\n",
            "96\n",
            "97\n",
            "98\n",
            "99\n",
            "100\n"
          ]
        }
      ]
    },
    {
      "cell_type": "markdown",
      "source": [
        "Write a `while` loop that repeatedly removes the last element from a list until it's empty.\n"
      ],
      "metadata": {
        "id": "9d9Y4IzTn2XY"
      }
    },
    {
      "cell_type": "code",
      "source": [
        "my_list = [10, 20, 30, 40, 50]\n",
        "\n",
        "while my_list:\n",
        "    my_list.pop()  # Removes the last element\n",
        "    print(my_list)\n"
      ],
      "metadata": {
        "colab": {
          "base_uri": "https://localhost:8080/"
        },
        "id": "i2SkQf3Yn3KL",
        "outputId": "48f23a7a-f4c7-4bb0-c6c7-7d1822b21a4c"
      },
      "execution_count": 53,
      "outputs": [
        {
          "output_type": "stream",
          "name": "stdout",
          "text": [
            "[10, 20, 30, 40]\n",
            "[10, 20, 30]\n",
            "[10, 20]\n",
            "[10]\n",
            "[]\n"
          ]
        }
      ]
    },
    {
      "cell_type": "markdown",
      "source": [],
      "metadata": {
        "id": "C_3CNqh-oIec"
      }
    },
    {
      "cell_type": "markdown",
      "source": [
        "Create a countdown timer that counts down from 10 to 1 using `while`."
      ],
      "metadata": {
        "id": "VKODMEtRoLy-"
      }
    },
    {
      "cell_type": "code",
      "source": [
        "i = 10\n",
        "\n",
        "while i >= 1:\n",
        "    print(i)\n",
        "    i -= 1\n"
      ],
      "metadata": {
        "colab": {
          "base_uri": "https://localhost:8080/"
        },
        "id": "4ZBVkoQwoMfR",
        "outputId": "dfef2cd2-a335-4d2f-a0f4-ed179a4e274a"
      },
      "execution_count": 54,
      "outputs": [
        {
          "output_type": "stream",
          "name": "stdout",
          "text": [
            "10\n",
            "9\n",
            "8\n",
            "7\n",
            "6\n",
            "5\n",
            "4\n",
            "3\n",
            "2\n",
            "1\n"
          ]
        }
      ]
    },
    {
      "cell_type": "markdown",
      "source": [
        "49. Write a program that finds the first 10 multiples of 5 using a `while` loop."
      ],
      "metadata": {
        "id": "_5dGIqFnoY5T"
      }
    },
    {
      "cell_type": "code",
      "source": [
        "i = 1\n",
        "count = 0\n",
        "\n",
        "while count < 10:\n",
        "    print(5 * i)\n",
        "    i += 1\n",
        "    count += 1\n"
      ],
      "metadata": {
        "colab": {
          "base_uri": "https://localhost:8080/"
        },
        "id": "piIHj2FBoZzY",
        "outputId": "cefca9de-8e6b-457d-f78e-bc51892763b5"
      },
      "execution_count": 55,
      "outputs": [
        {
          "output_type": "stream",
          "name": "stdout",
          "text": [
            "5\n",
            "10\n",
            "15\n",
            "20\n",
            "25\n",
            "30\n",
            "35\n",
            "40\n",
            "45\n",
            "50\n"
          ]
        }
      ]
    },
    {
      "cell_type": "markdown",
      "source": [
        "50. Use a `while` loop to generate a list of the first 10 Fibonacci numbers."
      ],
      "metadata": {
        "id": "l3OH5cFroxTO"
      }
    },
    {
      "cell_type": "code",
      "source": [
        "fib_list = [0, 1]\n",
        "while i < 10:\n",
        "    next = fib_list[-1] + fib_list[-2]\n",
        "    fib_list.append(next)\n",
        "    i += 1"
      ],
      "metadata": {
        "id": "-KyYt6k1o06J"
      },
      "execution_count": 56,
      "outputs": []
    }
  ]
}
