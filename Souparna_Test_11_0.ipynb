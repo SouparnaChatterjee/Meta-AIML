{
  "cells": [
    {
      "cell_type": "markdown",
      "id": "7f318db4",
      "metadata": {
        "id": "7f318db4"
      },
      "source": [
        "##### NLTK (Natural Language Toolkit)\n",
        "\n",
        "    - How do you tokenize a sentence into words using NLTK?\n",
        "\n",
        "  Ans: Tokenization is the process of breaking down text into smaller pieces called tokens. we can think of it like splitting a sentence into individual words or characters.First we have to install nltk. pip install nltk\n",
        "    import nltk\n",
        "    \n",
        "  Then we tokenize it following a code similar to this.\n",
        "    nltk.download('punkt')\n",
        "    text = \"Hey there! I am Souparna.\"\n",
        "    tokens = nltk.word_tokenize(text)\n",
        "    print(tokens)\n",
        "\n",
        "    - How do you remove stopwords from a text using NLTK?\n",
        "  Ans:Stopwords are common words that usually don't add much meaning to a text - basically the \"filler\" words in a language.\n",
        "\n",
        "  \n",
        "  First step is importing the libraries\n",
        "      import nltk\n",
        "      from nltk.corpus import stopwords\n",
        "      nltk.download('stopwords')\n",
        "\n",
        "      text = \"Souparna is studying machine learning.\"\n",
        "  This is how we tokenize and remove stopwords:\n",
        "      words = word_tokenize(text)\n",
        "      stop_words = set(stopwords.words('english'))\n",
        "      filtered_text = [word for word in words if word.lower() not in stop_words]\n",
        "      print(filtered_text)\n",
        "\n",
        "    - How do you perform stemming in NLTK? Provide an example.\n",
        "  \n",
        "Ans: Stemming is a text processing technique that reduces words to their base or root form (called a stem). It works by chopping off the ends of words based on common patterns.\n",
        "  First step is to import the lemmatizer\n",
        "  from nltk.stem import WordNetLemmatizer\n",
        "  lemmatizer = WordNetLemmatizer()\n",
        "  lemmatizer.lemmatize(\"studying\")  \n",
        "  The above code returns \"study\" as a noun, \"studying\" as a verb\n",
        "\n",
        "    - What is the difference between stemming and lemmatization in NLTK?\n",
        "      \n",
        "Ans:\n",
        "Stemming:\n",
        "Just chops off word endings based on rules\n",
        "Faster but less accurate\n",
        "Often produces non-real words\n",
        "Doesn't consider word context\n",
        "      Lemmatization:\n",
        "Converts words to their actual dictionary form\n",
        "Slower but more accurate\n",
        "Always produces real words\n",
        "Considers word context/part of speech\n",
        "\n",
        "    - How do you perform part-of-speech (POS) tagging using NLTK?\n",
        "    \n",
        "    \n",
        "Ans:POS tagging helps understand the role of each word in a sentence, like labeling parts in a sentence.\n",
        "importing and downloading the required libraries\n",
        "import nltk\n",
        "nltk.download('averaged_perceptron_tagger')\n",
        "nltk.download('punkt')\n",
        "text = \"Souparna loves coding\"\n",
        "\n",
        "# Tokenize and tag\n",
        "tokens = nltk.word_tokenize(text)\n",
        "pos_tags = nltk.pos_tag(tokens)\n",
        "\n",
        "print(pos_tags)\n",
        "\n",
        "    "
      ]
    },
    {
      "cell_type": "markdown",
      "id": "4d242598",
      "metadata": {
        "id": "4d242598"
      },
      "source": [
        "##### spaCy\n",
        "    \n",
        "    -How do you load an English language model in spaCy?\n",
        "Ans: We can load an English language code using the following code:\n",
        "pip install spacy\n",
        "python -m spacy download en_core_web_sm\n",
        "    -How do you extract named entities (NER) from a text using spaCy?\n",
        "Ans:This consists of importing, loading and extraction.\n",
        "     import spacy\n",
        "     nlp = spacy.load('en_core_web_sm')\n",
        "     text = \"Souparna is studying Machijne learning\"\n",
        "     doc = nlp(text)\n",
        "     for ent in doc.ents:\n",
        "       print(f\"{ent.text}: {ent.label_}\")\n",
        "\n",
        "    -How do you find the dependency relations between words using spaCy?\n",
        "Ans:\n",
        "  This consists of importing and loading models and passing text\n",
        "import spacy\n",
        "nlp = spacy.load('en_core_web_sm')\n",
        "text = \"Hey! I am Souparna Chatterjee.\"\n",
        "doc = nlp(text)\n",
        "Next step will be to print the dependencies\n",
        "for token in doc:\n",
        "  print(f\"{token.text:>10} -> {token.dep_:>10} -> {token.head.text}\")\n",
        "\n",
        "    -How do you perform sentence segmentation in spaCy?\n",
        "Ans: Sentence segmentation has the following features:\n",
        "1)Handles punctuation automatically\n",
        "2)Understands abbreviations\n",
        "3)More accurate than simple split by period\n",
        "Code:\n",
        "import spacy\n",
        "nlp = spacy.load('en_core_web_sm')\n",
        "text = \"Hello Souparna here. My last name is Chatterjee. I love studying ML.\"\n",
        "doc = nlp(text)\n",
        "for sent in doc.sents:\n",
        "  print(sent.text)\n",
        "\n",
        "    -How do you check if a word is a stopword in spaCy?\n",
        "Ans: This is how we check if a word is a stopword in spacy, we use the following code:\n",
        "(importing, passing as doc, printing processed data)\n",
        "import spacy\n",
        "nlp = spacy.load('en_core_web_sm')\n",
        "word = \"the\"\n",
        "print(nlp.vocab[word].is_stop)  # Output: True\n",
        "text = \"The quick brown fox\"\n",
        "doc = nlp(text)\n",
        "for token in doc:\n",
        "  print(f\"{token.text}: {token.is_stop}\")\n",
        "print(spacy.lang.en.stop_words.STOP_WORDS)\n",
        "print(\"the\" in spacy.lang.en.stop_words.STOP_WORDS)  # True"
      ]
    },
    {
      "cell_type": "markdown",
      "id": "ac7a422e",
      "metadata": {
        "id": "ac7a422e"
      },
      "source": [
        "##### TextBlob\n",
        "\n",
        "    -How do you compute the sentiment polarity of a text using TextBlob?\n",
        "  Ans:Code:\n",
        "from textblob import TextBlob\n",
        "print(TextBlob(\"This movie was absolutely fantastic!\").sentiment.polarity)  # Output: 0.7\n",
        "\n",
        "the polarity score ranges from -1 (negative) to 1 (positive), with 0 being neutral.\n",
        "\n",
        "\n",
        "\n",
        "    -How do you perform spelling correction using TextBlob?\n",
        "TextBlob's spelling correction is simple - it uses Peter Norvig's algorithm. code:\n",
        "from textblob import TextBlob\n",
        "text = \"I havv a spelling mistaake\"\n",
        "corrected = TextBlob(text).correct()\n",
        "print(corrected)  # Output: \"I have a spelling mistake\"\n",
        "\n",
        "TextBlob compares words against its dictionary and suggests the most likely corrections based on word frequency and edit distance.\n",
        "\n",
        "    -How do you get noun phrases from a sentence using TextBlob?\n",
        "  from textblob import TextBlob\n",
        "\n",
        "text = \"The quick brown fox jumps over the lazy dog\"\n",
        "blob = TextBlob(text)\n",
        "print(blob.noun_phrases)  # Output: ['quick brown fox', 'lazy dog']\n",
        "TextBlob uses an edit distance method for spell checking - choosing corrections with smallest edit distance from the original word.\n",
        "\n",
        "    -How do you translate a text from English to another language using TextBlob?\n",
        "code:\n",
        "from textblob import TextBlob\n",
        "\n",
        "text = \"Hello, how are you?\"\n",
        "blob = TextBlob(text)\n",
        "spanish = blob.translate(to='es')\n",
        "print(spanish)\n",
        "\n",
        "This is an example code of how we can translate from one language to another using textblob\n",
        "\n",
        "    -How do you detect the language of a given text using TextBlob?\n",
        "Textblob 's language detection works best with longer sentences.\n",
        "Code:\n",
        "text1 = \"Hello, how are you?\"\n",
        "from textblob import TextBlob\n",
        "print(TextBlob(text1).detect_language())  # Output: 'en'\n"
      ]
    },
    {
      "cell_type": "raw",
      "id": "abe386c6",
      "metadata": {
        "id": "abe386c6"
      },
      "source": [
        "\n",
        "Text= Rani Chennamma was the queen of Kittur, a princely state in present-day Karnataka, India. She is remembered as one of the earliest Indian rulers to fight against British colonial rule. Born in 1778, she was well-trained in horse riding, sword fighting, and archery. After her husband's death, she ascended the throne and fiercely opposed the Doctrine of Lapse policy imposed by the British, which prevented her adopted son from inheriting the kingdom.\n",
        "In 1824, Rani Chennamma led an armed rebellion against the British East India Company, refusing to surrender her land. Despite initial victories, she was ultimately captured and imprisoned in Bailhongal Fort, where she died in 1829. Her resistance is seen as a precursor to India's independence movement, and she remains a symbol of courage and patriotism."
      ]
    },
    {
      "cell_type": "code",
      "execution_count": null,
      "id": "dd508aa9",
      "metadata": {
        "id": "dd508aa9"
      },
      "outputs": [],
      "source": []
    },
    {
      "cell_type": "code",
      "execution_count": null,
      "id": "12cf126d",
      "metadata": {
        "id": "12cf126d"
      },
      "outputs": [],
      "source": []
    },
    {
      "cell_type": "code",
      "execution_count": null,
      "id": "ddd83740",
      "metadata": {
        "id": "ddd83740"
      },
      "outputs": [],
      "source": []
    },
    {
      "cell_type": "markdown",
      "id": "a7437c41",
      "metadata": {
        "id": "a7437c41"
      },
      "source": [
        "#### Question:\n",
        "\n",
        "Flipkart has collected customer reviews for a smartphone. Your task is to train a sentiment analysis model using TextBlob's Naive Bayes Classifier to predict whether a given review is positive or negative.\n",
        "\n",
        "You have a dataset of 50 reviews, out of which 40 reviews are for training and 10 reviews are for testing. Train your model and evaluate its performance on the test data.\n",
        "\n",
        "\n",
        "\n",
        "##### Dataset (Train & Test)\n",
        "\n",
        "##### Training Data (40 Reviews)"
      ]
    },
    {
      "cell_type": "raw",
      "id": "84edbb43",
      "metadata": {
        "id": "84edbb43"
      },
      "source": [
        "train = [\n",
        "\n",
        "1.   List item\n",
        "2.   List item\n",
        "\n",
        "\n",
        "    (\"This phone is amazing, I love the camera!\", \"pos\"),\n",
        "    (\"Battery life is superb, lasts more than a day.\", \"pos\"),\n",
        "    (\"The display quality is top-notch.\", \"pos\"),\n",
        "    (\"Fast charging works like a charm!\", \"pos\"),\n",
        "    (\"Very smooth performance and no lag.\", \"pos\"),\n",
        "    (\"Great phone at this price range.\", \"pos\"),\n",
        "    (\"I am highly satisfied with the features.\", \"pos\"),\n",
        "    (\"Audio quality is crystal clear.\", \"pos\"),\n",
        "    (\"Superb design and looks premium.\", \"pos\"),\n",
        "    (\"Face unlock is super fast.\", \"pos\"),\n",
        "    (\"I regret buying this phone, worst experience.\", \"neg\"),\n",
        "    (\"Battery drains too fast, not recommended.\", \"neg\"),\n",
        "    (\"Overheating issue while gaming, disappointing.\", \"neg\"),\n",
        "    (\"Camera quality is terrible in low light.\", \"neg\"),\n",
        "    (\"Too many ads in the UI, very annoying.\", \"neg\"),\n",
        "    (\"Fingerprint sensor is slow and unresponsive.\", \"neg\"),\n",
        "    (\"Touchscreen sometimes freezes.\", \"neg\"),\n",
        "    (\"Speaker volume is too low.\", \"neg\"),\n",
        "    (\"Performance is sluggish, lags a lot.\", \"neg\"),\n",
        "    (\"Build quality feels very cheap.\", \"neg\"),\n",
        "    (\"The phone is very lightweight and easy to hold.\", \"pos\"),\n",
        "    (\"I love the color and design of this phone.\", \"pos\"),\n",
        "    (\"The UI is clean and easy to use.\", \"pos\"),\n",
        "    (\"Gaming performance is fantastic.\", \"pos\"),\n",
        "    (\"Storage capacity is more than enough.\", \"pos\"),\n",
        "    (\"This phone is a complete package!\", \"pos\"),\n",
        "    (\"Good for video calling, camera quality is decent.\", \"pos\"),\n",
        "    (\"5G connectivity works smoothly.\", \"pos\"),\n",
        "    (\"This phone exceeded my expectations.\", \"pos\"),\n",
        "    (\"The processor is fast and efficient.\", \"pos\"),\n",
        "    (\"Network issues, keeps disconnecting.\", \"neg\"),\n",
        "    (\"Screen started flickering after a few days.\", \"neg\"),\n",
        "    (\"The phone heats up even with normal usage.\", \"neg\"),\n",
        "    (\"No software updates, outdated security patches.\", \"neg\"),\n",
        "    (\"Customer support is unhelpful.\", \"neg\"),\n",
        "    (\"Charger stopped working within a month.\", \"neg\"),\n",
        "    (\"Speakers produce distorted sound.\", \"neg\"),\n",
        "    (\"Camera app crashes frequently.\", \"neg\"),\n",
        "    (\"Poor optimization, apps take forever to load.\", \"neg\"),\n",
        "    (\"Too heavy to hold for long hours.\", \"neg\")\n",
        "]\n"
      ]
    },
    {
      "cell_type": "markdown",
      "id": "4c4cd26d",
      "metadata": {
        "id": "4c4cd26d"
      },
      "source": [
        "###### Testing Data (10 Reviews)"
      ]
    },
    {
      "cell_type": "raw",
      "id": "3d5805c1",
      "metadata": {
        "id": "3d5805c1"
      },
      "source": [
        "test = [\n",
        "    (\"I love the camera, it clicks amazing pictures!\", \"pos\"),\n",
        "    (\"Battery backup is disappointing, drains quickly.\", \"neg\"),\n",
        "    (\"The display is very bright and vibrant.\", \"pos\"),\n",
        "    (\"Phone lags when switching between apps.\", \"neg\"),\n",
        "    (\"Very stylish and premium-looking design.\", \"pos\"),\n",
        "    (\"Face unlock doesn't work properly.\", \"neg\"),\n",
        "    (\"The performance is super smooth!\", \"pos\"),\n",
        "    (\"Charging speed is very slow, takes ages.\", \"neg\"),\n",
        "    (\"Call quality is excellent, voice is very clear.\", \"pos\"),\n",
        "    (\"The phone keeps hanging, very frustrating.\", \"neg\")\n",
        "]\n"
      ]
    },
    {
      "cell_type": "markdown",
      "id": "8215d55c",
      "metadata": {
        "id": "8215d55c"
      },
      "source": [
        "###### Your Task:    \n",
        "    - Train a Naive Bayes Classifier using textblob.classifiers.NaiveBayesClassifier on the training dataset.\n",
        "    - Predict sentiment (positive or negative) for the test data.\n",
        "    - Evaluate model accuracy and analyze the results."
      ]
    },
    {
      "cell_type": "code",
      "source": [
        "# First, we Install required packages\n",
        "!pip install textblob\n",
        "!python -m textblob.download_corpora"
      ],
      "metadata": {
        "colab": {
          "base_uri": "https://localhost:8080/"
        },
        "id": "CJL2v452iiei",
        "outputId": "e0f0c289-5027-4020-8adb-ca09be889cfd"
      },
      "id": "CJL2v452iiei",
      "execution_count": 11,
      "outputs": [
        {
          "output_type": "stream",
          "name": "stdout",
          "text": [
            "Requirement already satisfied: textblob in /usr/local/lib/python3.11/dist-packages (0.19.0)\n",
            "Requirement already satisfied: nltk>=3.9 in /usr/local/lib/python3.11/dist-packages (from textblob) (3.9.1)\n",
            "Requirement already satisfied: click in /usr/local/lib/python3.11/dist-packages (from nltk>=3.9->textblob) (8.1.8)\n",
            "Requirement already satisfied: joblib in /usr/local/lib/python3.11/dist-packages (from nltk>=3.9->textblob) (1.4.2)\n",
            "Requirement already satisfied: regex>=2021.8.3 in /usr/local/lib/python3.11/dist-packages (from nltk>=3.9->textblob) (2024.11.6)\n",
            "Requirement already satisfied: tqdm in /usr/local/lib/python3.11/dist-packages (from nltk>=3.9->textblob) (4.67.1)\n",
            "[nltk_data] Downloading package brown to /root/nltk_data...\n",
            "[nltk_data]   Package brown is already up-to-date!\n",
            "[nltk_data] Downloading package punkt_tab to /root/nltk_data...\n",
            "[nltk_data]   Package punkt_tab is already up-to-date!\n",
            "[nltk_data] Downloading package wordnet to /root/nltk_data...\n",
            "[nltk_data]   Package wordnet is already up-to-date!\n",
            "[nltk_data] Downloading package averaged_perceptron_tagger_eng to\n",
            "[nltk_data]     /root/nltk_data...\n",
            "[nltk_data]   Package averaged_perceptron_tagger_eng is already up-to-\n",
            "[nltk_data]       date!\n",
            "[nltk_data] Downloading package conll2000 to /root/nltk_data...\n",
            "[nltk_data]   Package conll2000 is already up-to-date!\n",
            "[nltk_data] Downloading package movie_reviews to /root/nltk_data...\n",
            "[nltk_data]   Package movie_reviews is already up-to-date!\n",
            "Finished.\n"
          ]
        }
      ]
    },
    {
      "cell_type": "code",
      "source": [
        "# Next step is to import the necessary libraries ie Native Bayes classifier, TextBlob and numpy\n",
        "from textblob.classifiers import NaiveBayesClassifier\n",
        "from textblob import TextBlob\n",
        "import numpy as np"
      ],
      "metadata": {
        "id": "9hOODPIQlV7W"
      },
      "id": "9hOODPIQlV7W",
      "execution_count": 12,
      "outputs": []
    },
    {
      "cell_type": "code",
      "source": [
        "# Next we will define training and test data\n",
        "train = [\n",
        "    (\"This phone is amazing, I love the camera!\", \"pos\"),\n",
        "    (\"Battery life is superb, lasts more than a day.\", \"pos\"),\n",
        "    (\"The display quality is top-notch.\", \"pos\"),\n",
        "    (\"Fast charging works like a charm!\", \"pos\"),\n",
        "    (\"Very smooth performance and no lag.\", \"pos\"),\n",
        "    (\"Great phone at this price range.\", \"pos\"),\n",
        "    (\"I am highly satisfied with the features.\", \"pos\"),\n",
        "    (\"Audio quality is crystal clear.\", \"pos\"),\n",
        "    (\"Superb design and looks premium.\", \"pos\"),\n",
        "    (\"Face unlock is super fast.\", \"pos\"),\n",
        "    (\"I regret buying this phone, worst experience.\", \"neg\"),\n",
        "    (\"Battery drains too fast, not recommended.\", \"neg\"),\n",
        "    (\"Overheating issue while gaming, disappointing.\", \"neg\"),\n",
        "    (\"Camera quality is terrible in low light.\", \"neg\"),\n",
        "    (\"Too many ads in the UI, very annoying.\", \"neg\"),\n",
        "    (\"Fingerprint sensor is slow and unresponsive.\", \"neg\"),\n",
        "    (\"Touchscreen sometimes freezes.\", \"neg\"),\n",
        "    (\"Speaker volume is too low.\", \"neg\"),\n",
        "    (\"Performance is sluggish, lags a lot.\", \"neg\"),\n",
        "    (\"Build quality feels very cheap.\", \"neg\"),\n",
        "    (\"The phone is very lightweight and easy to hold.\", \"pos\"),\n",
        "    (\"I love the color and design of this phone.\", \"pos\"),\n",
        "    (\"The UI is clean and easy to use.\", \"pos\"),\n",
        "    (\"Gaming performance is fantastic.\", \"pos\"),\n",
        "    (\"Storage capacity is more than enough.\", \"pos\"),\n",
        "    (\"This phone is a complete package!\", \"pos\"),\n",
        "    (\"Good for video calling, camera quality is decent.\", \"pos\"),\n",
        "    (\"5G connectivity works smoothly.\", \"pos\"),\n",
        "    (\"This phone exceeded my expectations.\", \"pos\"),\n",
        "    (\"The processor is fast and efficient.\", \"pos\"),\n",
        "    (\"Network issues, keeps disconnecting.\", \"neg\"),\n",
        "    (\"Screen started flickering after a few days.\", \"neg\"),\n",
        "    (\"The phone heats up even with normal usage.\", \"neg\"),\n",
        "    (\"No software updates, outdated security patches.\", \"neg\"),\n",
        "    (\"Customer support is unhelpful.\", \"neg\"),\n",
        "    (\"Charger stopped working within a month.\", \"neg\"),\n",
        "    (\"Speakers produce distorted sound.\", \"neg\"),\n",
        "    (\"Camera app crashes frequently.\", \"neg\"),\n",
        "    (\"Poor optimization, apps take forever to load.\", \"neg\"),\n",
        "    (\"Too heavy to hold for long hours.\", \"neg\")\n",
        "]\n",
        "\n",
        "test = [\n",
        "    (\"I love the camera, it clicks amazing pictures!\", \"pos\"),\n",
        "    (\"Battery backup is disappointing, drains quickly.\", \"neg\"),\n",
        "    (\"The display is very bright and vibrant.\", \"pos\"),\n",
        "    (\"Phone lags when switching between apps.\", \"neg\"),\n",
        "    (\"Very stylish and premium-looking design.\", \"pos\"),\n",
        "    (\"Face unlock doesn't work properly.\", \"neg\"),\n",
        "    (\"The performance is super smooth!\", \"pos\"),\n",
        "    (\"Charging speed is very slow, takes ages.\", \"neg\"),\n",
        "    (\"Call quality is excellent, voice is very clear.\", \"pos\"),\n",
        "    (\"The phone keeps hanging, very frustrating.\", \"neg\")\n",
        "]"
      ],
      "metadata": {
        "id": "5RhgLuIRlkbx"
      },
      "id": "5RhgLuIRlkbx",
      "execution_count": 14,
      "outputs": []
    },
    {
      "cell_type": "code",
      "source": [
        "print(\"Noun Phrases:\")\n",
        "print(blob.noun_phrases)"
      ],
      "metadata": {
        "colab": {
          "base_uri": "https://localhost:8080/"
        },
        "id": "T4J4HQymjcMp",
        "outputId": "2d6b7db9-3566-4585-ab12-cf5f249a79ab"
      },
      "id": "T4J4HQymjcMp",
      "execution_count": 9,
      "outputs": [
        {
          "output_type": "stream",
          "name": "stdout",
          "text": [
            "Noun Phrases:\n",
            "['textblob']\n"
          ]
        }
      ]
    },
    {
      "cell_type": "code",
      "source": [
        "# we go for text Analysis Functions\n",
        "def analyze_review(review_text):\n",
        "    \"\"\"Detailed analysis of a single review\"\"\"\n",
        "    blob = TextBlob(review_text)\n",
        "\n",
        "    analysis = {\n",
        "        'original_text': review_text,\n",
        "        'sentiment': blob.sentiment,\n",
        "        'tags': blob.tags,\n",
        "        'noun_phrases': list(blob.noun_phrases),\n",
        "        'word_count': len(blob.words),\n",
        "        'sentence_count': len(blob.sentences)\n",
        "    }"
      ],
      "metadata": {
        "id": "GADHtGyDi9bU"
      },
      "id": "GADHtGyDi9bU",
      "execution_count": 15,
      "outputs": []
    },
    {
      "cell_type": "code",
      "source": [
        "# Basic Analysis Function\n",
        "def analyze_review(review_text):\n",
        "    blob = TextBlob(review_text)\n",
        "\n",
        "    print(\"\\n\" + \"=\"*60)\n",
        "    print(\"REVIEW ANALYSIS\")\n",
        "    print(\"=\"*60)\n",
        "\n",
        "    # Original Text\n",
        "    print(\"\\nText:\", review_text)\n",
        "\n",
        "    # Sentiment Analysis\n",
        "    print(\"\\nSentiment:\")\n",
        "    print(f\"Polarity: {blob.sentiment.polarity:.2f}\")\n",
        "    print(f\"Subjectivity: {blob.sentiment.subjectivity:.2f}\")\n",
        "\n",
        "    # Parts of Speech\n",
        "    print(\"\\nParts of Speech:\")\n",
        "    for word, tag in blob.tags:\n",
        "        print(f\"{word}: {tag}\")\n",
        "\n",
        "    # Noun Phrases\n",
        "    print(\"\\nNoun Phrases:\")\n",
        "    for phrase in blob.noun_phrases:\n",
        "        print(f\"- {phrase}\")\n",
        "\n",
        "    # Basic Stats\n",
        "    print(\"\\nStats:\")\n",
        "    print(f\"Words: {len(blob.words)}\")\n",
        "    print(f\"Sentences: {len(blob.sentences)}\")\n",
        "\n",
        "    return {\n",
        "        'text': review_text,\n",
        "        'sentiment': blob.sentiment,\n",
        "        'tags': blob.tags,\n",
        "        'noun_phrases': list(blob.noun_phrases),\n",
        "        'word_count': len(blob.words),\n",
        "        'sentence_count': len(blob.sentences)\n",
        "    }"
      ],
      "metadata": {
        "id": "8R-7RjTZpjTq"
      },
      "id": "8R-7RjTZpjTq",
      "execution_count": 65,
      "outputs": []
    },
    {
      "cell_type": "code",
      "source": [
        "# we Train Model and Analyze Reviews\n",
        "cl = NaiveBayesClassifier(train)\n",
        "\n",
        "# Test accuracy\n",
        "accuracy = cl.accuracy(test)\n",
        "print(f\"\\nModel Accuracy: {accuracy:.2%}\")\n",
        "print(\"\\nSample Review Analysis:\")\n",
        "for review, label in test[:2]:  # Analyze first two test reviews\n",
        "    analysis = analyze_review(review)\n",
        "    predicted = cl.classify(review)\n",
        "    print(f\"\\nActual Label: {label}\")\n",
        "    print(f\"Predicted Label: {predicted}\")"
      ],
      "metadata": {
        "colab": {
          "base_uri": "https://localhost:8080/"
        },
        "id": "OeUYRmEYpl0s",
        "outputId": "dae47fc7-47be-4e20-cb66-4cf27be5df46"
      },
      "id": "OeUYRmEYpl0s",
      "execution_count": 24,
      "outputs": [
        {
          "output_type": "stream",
          "name": "stdout",
          "text": [
            "\n",
            "Model Accuracy: 90.00%\n",
            "\n",
            "Sample Review Analysis:\n",
            "\n",
            "============================================================\n",
            "REVIEW ANALYSIS\n",
            "============================================================\n",
            "\n",
            "Text: I love the camera, it clicks amazing pictures!\n",
            "\n",
            "Sentiment:\n",
            "Polarity: 0.62\n",
            "Subjectivity: 0.75\n",
            "\n",
            "Parts of Speech:\n",
            "I: PRP\n",
            "love: VBP\n",
            "the: DT\n",
            "camera: NN\n",
            "it: PRP\n",
            "clicks: VBZ\n",
            "amazing: JJ\n",
            "pictures: NNS\n",
            "\n",
            "Noun Phrases:\n",
            "- amazing pictures\n",
            "\n",
            "Stats:\n",
            "Words: 8\n",
            "Sentences: 1\n",
            "\n",
            "Actual Label: pos\n",
            "Predicted Label: pos\n",
            "\n",
            "============================================================\n",
            "REVIEW ANALYSIS\n",
            "============================================================\n",
            "\n",
            "Text: Battery backup is disappointing, drains quickly.\n",
            "\n",
            "Sentiment:\n",
            "Polarity: -0.13\n",
            "Subjectivity: 0.60\n",
            "\n",
            "Parts of Speech:\n",
            "Battery: NNP\n",
            "backup: NN\n",
            "is: VBZ\n",
            "disappointing: JJ\n",
            "drains: VBZ\n",
            "quickly: RB\n",
            "\n",
            "Noun Phrases:\n",
            "- battery\n",
            "\n",
            "Stats:\n",
            "Words: 6\n",
            "Sentences: 1\n",
            "\n",
            "Actual Label: neg\n",
            "Predicted Label: neg\n"
          ]
        }
      ]
    },
    {
      "cell_type": "code",
      "source": [
        "import matplotlib.pyplot as plt\n",
        "import seaborn as sns\n",
        "import numpy as np\n",
        "from collections import Counter\n",
        "from textblob import TextBlob"
      ],
      "metadata": {
        "id": "LGFxGnA0qErg"
      },
      "id": "LGFxGnA0qErg",
      "execution_count": 64,
      "outputs": []
    },
    {
      "cell_type": "code",
      "source": [
        "# we train Model and Analyze Reviews\n",
        "# Train the classifier\n",
        "cl = NaiveBayesClassifier(train)\n",
        "\n",
        "# Test accuracy\n",
        "accuracy = cl.accuracy(test)\n",
        "print(f\"\\nModel Accuracy: {accuracy:.2%}\")\n",
        "\n",
        "# Analyze some sample reviews\n",
        "print(\"\\nSample Review Analysis:\")\n",
        "for review, label in test[:2]:  # Analyze first two test reviews\n",
        "    analysis = analyze_review(review)\n",
        "    predicted = cl.classify(review)\n",
        "    print(f\"\\nActual Label: {label}\")\n",
        "    print(f\"Predicted Label: {predicted}\")"
      ],
      "metadata": {
        "colab": {
          "base_uri": "https://localhost:8080/"
        },
        "id": "LANezbK8q9cn",
        "outputId": "07f999bf-5c16-4bf8-d469-56dd2034b832"
      },
      "id": "LANezbK8q9cn",
      "execution_count": 63,
      "outputs": [
        {
          "output_type": "stream",
          "name": "stdout",
          "text": [
            "\n",
            "Model Accuracy: 80.00%\n",
            "\n",
            "Sample Review Analysis:\n",
            "\n",
            "============================================================\n",
            "REVIEW ANALYSIS\n",
            "============================================================\n",
            "\n",
            "Text: I love the camera, it clicks amazing pictures!\n",
            "\n",
            "Sentiment:\n",
            "Polarity: 0.62\n",
            "Subjectivity: 0.75\n",
            "\n",
            "Parts of Speech:\n",
            "I: PRP\n",
            "love: VBP\n",
            "the: DT\n",
            "camera: NN\n",
            "it: PRP\n",
            "clicks: VBZ\n",
            "amazing: JJ\n",
            "pictures: NNS\n",
            "\n",
            "Noun Phrases:\n",
            "- amazing pictures\n",
            "\n",
            "Stats:\n",
            "Words: 8\n",
            "Sentences: 1\n",
            "\n",
            "Actual Label: pos\n",
            "Predicted Label: pos\n",
            "\n",
            "============================================================\n",
            "REVIEW ANALYSIS\n",
            "============================================================\n",
            "\n",
            "Text: Battery backup is disappointing, drains quickly.\n",
            "\n",
            "Sentiment:\n",
            "Polarity: -0.13\n",
            "Subjectivity: 0.60\n",
            "\n",
            "Parts of Speech:\n",
            "Battery: NNP\n",
            "backup: NN\n",
            "is: VBZ\n",
            "disappointing: JJ\n",
            "drains: VBZ\n",
            "quickly: RB\n",
            "\n",
            "Noun Phrases:\n",
            "- battery\n",
            "\n",
            "Stats:\n",
            "Words: 6\n",
            "Sentences: 1\n",
            "\n",
            "Actual Label: neg\n",
            "Predicted Label: neg\n"
          ]
        }
      ]
    },
    {
      "cell_type": "code",
      "source": [
        "# Basic Tokenization Analysis\n",
        "def analyze_tokenization(text):\n",
        "    zen = TextBlob(text)\n",
        "\n",
        "    print(\"TOKENIZATION ANALYSIS\")\n",
        "\n",
        "    # Words\n",
        "    print(\" Words:\")\n",
        "    print(zen.words)\n",
        "    print(f\"\\nTotal words: {len(zen.words)}\")\n",
        "\n",
        "    # Sentences\n",
        "    print(\"Sentences:\")\n",
        "    for sentence in zen.sentences:\n",
        "        print(f\"- {sentence}\")\n",
        "    print(f\"\\nTotal sentences: {len(zen.sentences)}\")\n",
        "\n",
        "    # Parts of Speech\n",
        "    print(\"Parts of Speech Tagging:\")\n",
        "    for word, tag in zen.tags:\n",
        "        print(f\"{word}: {tag}\")\n",
        "\n",
        "    return zen\n",
        "\n",
        "# Example usage\n",
        "sample_text = \"This phone has amazing features. The camera quality is excellent, but battery life could be better.\"\n",
        "zen = analyze_tokenization(sample_text)"
      ],
      "metadata": {
        "colab": {
          "base_uri": "https://localhost:8080/"
        },
        "id": "WkcdGnittV99",
        "outputId": "1e1ccb0f-c5cc-4c90-e117-956457e8ee7c"
      },
      "id": "WkcdGnittV99",
      "execution_count": 39,
      "outputs": [
        {
          "output_type": "stream",
          "name": "stdout",
          "text": [
            "TOKENIZATION ANALYSIS\n",
            " Words:\n",
            "['This', 'phone', 'has', 'amazing', 'features', 'The', 'camera', 'quality', 'is', 'excellent', 'but', 'battery', 'life', 'could', 'be', 'better']\n",
            "\n",
            "Total words: 16\n",
            "Sentences:\n",
            "- This phone has amazing features.\n",
            "- The camera quality is excellent, but battery life could be better.\n",
            "\n",
            "Total sentences: 2\n",
            "Parts of Speech Tagging:\n",
            "This: DT\n",
            "phone: NN\n",
            "has: VBZ\n",
            "amazing: JJ\n",
            "features: NNS\n",
            "The: DT\n",
            "camera: NN\n",
            "quality: NN\n",
            "is: VBZ\n",
            "excellent: JJ\n",
            "but: CC\n",
            "battery: NN\n",
            "life: NN\n",
            "could: MD\n",
            "be: VB\n",
            "better: JJR\n"
          ]
        }
      ]
    },
    {
      "cell_type": "code",
      "source": [
        "# we will Install and Import\n",
        "!pip install textblob nltk\n",
        "import nltk\n",
        "nltk.download('wordnet')\n",
        "nltk.download('averaged_perceptron_tagger')\n",
        "\n",
        "from textblob import TextBlob\n",
        "from nltk.corpus import wordnet"
      ],
      "metadata": {
        "colab": {
          "base_uri": "https://localhost:8080/"
        },
        "id": "zMgcp7VVvU4B",
        "outputId": "5f35cc26-2f4b-44be-f478-b63a652cb31d"
      },
      "id": "zMgcp7VVvU4B",
      "execution_count": 45,
      "outputs": [
        {
          "output_type": "stream",
          "name": "stdout",
          "text": [
            "Requirement already satisfied: textblob in /usr/local/lib/python3.11/dist-packages (0.19.0)\n",
            "Requirement already satisfied: nltk in /usr/local/lib/python3.11/dist-packages (3.9.1)\n",
            "Requirement already satisfied: click in /usr/local/lib/python3.11/dist-packages (from nltk) (8.1.8)\n",
            "Requirement already satisfied: joblib in /usr/local/lib/python3.11/dist-packages (from nltk) (1.4.2)\n",
            "Requirement already satisfied: regex>=2021.8.3 in /usr/local/lib/python3.11/dist-packages (from nltk) (2024.11.6)\n",
            "Requirement already satisfied: tqdm in /usr/local/lib/python3.11/dist-packages (from nltk) (4.67.1)\n"
          ]
        },
        {
          "output_type": "stream",
          "name": "stderr",
          "text": [
            "[nltk_data] Downloading package wordnet to /root/nltk_data...\n",
            "[nltk_data]   Package wordnet is already up-to-date!\n",
            "[nltk_data] Downloading package averaged_perceptron_tagger to\n",
            "[nltk_data]     /root/nltk_data...\n",
            "[nltk_data]   Unzipping taggers/averaged_perceptron_tagger.zip.\n"
          ]
        }
      ]
    },
    {
      "cell_type": "code",
      "source": [
        "# Word Analysis Function\n",
        "def analyze_word_forms(text):\n",
        "    blob = TextBlob(text)\n",
        "\n",
        "    print(\"\\nWord Analysis:\")\n",
        "    print(\"-\" * 50)\n",
        "\n",
        "    for word in blob.words:\n",
        "        # Get word properties\n",
        "        print(f\"\\nWord: {word}\")\n",
        "\n",
        "        # lemmatization:\n",
        "        word_lemma = word.lower()  # Simple lemmatization\n",
        "        print(f\"Lemma: {word_lemma}\")\n",
        "\n",
        "        # our target to get singular/plural forms\n",
        "        if blob.tags:  # If POS tagging is successful\n",
        "            if word.endswith('s'):\n",
        "                singular = word[:-1]  # Simple singularization\n",
        "                print(f\"Singular: {singular}\")\n",
        "                print(f\"Plural: {word}\")\n",
        "            else:\n",
        "                print(f\"Singular: {word}\")\n",
        "                print(f\"Plural: {word}s\")  # Simple pluralization\n",
        "\n",
        "        # we will now get definitions using WordNet\n",
        "        synsets = wordnet.synsets(word)\n",
        "        if synsets:\n",
        "            print(\"Definition:\", synsets[0].definition())\n",
        "\n",
        "# Example used.....\n",
        "text = \"The cameras on these phones are amazing. The batteries last longer.\"\n",
        "analyze_word_forms(text)"
      ],
      "metadata": {
        "colab": {
          "base_uri": "https://localhost:8080/"
        },
        "id": "fXmTsPL8vfa9",
        "outputId": "2de94bf6-5c58-4f31-e08d-370a2f34cb48"
      },
      "id": "fXmTsPL8vfa9",
      "execution_count": 46,
      "outputs": [
        {
          "output_type": "stream",
          "name": "stdout",
          "text": [
            "\n",
            "Word Analysis:\n",
            "--------------------------------------------------\n",
            "\n",
            "Word: The\n",
            "Lemma: the\n",
            "Singular: The\n",
            "Plural: Thes\n",
            "\n",
            "Word: cameras\n",
            "Lemma: cameras\n",
            "Singular: camera\n",
            "Plural: cameras\n",
            "Definition: equipment for taking photographs (usually consisting of a lightproof box with a lens at one end and light-sensitive film at the other)\n",
            "\n",
            "Word: on\n",
            "Lemma: on\n",
            "Singular: on\n",
            "Plural: ons\n",
            "Definition: in operation or operational\n",
            "\n",
            "Word: these\n",
            "Lemma: these\n",
            "Singular: these\n",
            "Plural: theses\n",
            "\n",
            "Word: phones\n",
            "Lemma: phones\n",
            "Singular: phone\n",
            "Plural: phones\n",
            "Definition: electronic equipment that converts sound into electrical signals that can be transmitted over distances and then converts received signals back into sounds\n",
            "\n",
            "Word: are\n",
            "Lemma: are\n",
            "Singular: are\n",
            "Plural: ares\n",
            "Definition: a unit of surface area equal to 100 square meters\n",
            "\n",
            "Word: amazing\n",
            "Lemma: amazing\n",
            "Singular: amazing\n",
            "Plural: amazings\n",
            "Definition: affect with wonder\n",
            "\n",
            "Word: The\n",
            "Lemma: the\n",
            "Singular: The\n",
            "Plural: Thes\n",
            "\n",
            "Word: batteries\n",
            "Lemma: batteries\n",
            "Singular: batterie\n",
            "Plural: batteries\n",
            "Definition: group of guns or missile launchers operated together at one place\n",
            "\n",
            "Word: last\n",
            "Lemma: last\n",
            "Singular: last\n",
            "Plural: lasts\n",
            "Definition: the temporal end; the concluding time\n",
            "\n",
            "Word: longer\n",
            "Lemma: longer\n",
            "Singular: longer\n",
            "Plural: longers\n",
            "Definition: a person with a strong desire for something\n"
          ]
        }
      ]
    },
    {
      "cell_type": "code",
      "source": [
        "# Install and Import Libraries\n",
        "!pip install seaborn\n",
        "import matplotlib.pyplot as plt\n",
        "import seaborn as sns\n",
        "import numpy as np\n",
        "from collections import Counter\n",
        "from textblob import TextBlob\n",
        "sns.set_style(\"whitegrid\")"
      ],
      "metadata": {
        "colab": {
          "base_uri": "https://localhost:8080/"
        },
        "id": "wG12ejvkrheS",
        "outputId": "8b135de1-3c4a-4139-da57-a1a0dfe76f84"
      },
      "id": "wG12ejvkrheS",
      "execution_count": 31,
      "outputs": [
        {
          "output_type": "stream",
          "name": "stdout",
          "text": [
            "Requirement already satisfied: seaborn in /usr/local/lib/python3.11/dist-packages (0.13.2)\n",
            "Requirement already satisfied: numpy!=1.24.0,>=1.20 in /usr/local/lib/python3.11/dist-packages (from seaborn) (1.26.4)\n",
            "Requirement already satisfied: pandas>=1.2 in /usr/local/lib/python3.11/dist-packages (from seaborn) (2.2.2)\n",
            "Requirement already satisfied: matplotlib!=3.6.1,>=3.4 in /usr/local/lib/python3.11/dist-packages (from seaborn) (3.10.0)\n",
            "Requirement already satisfied: contourpy>=1.0.1 in /usr/local/lib/python3.11/dist-packages (from matplotlib!=3.6.1,>=3.4->seaborn) (1.3.1)\n",
            "Requirement already satisfied: cycler>=0.10 in /usr/local/lib/python3.11/dist-packages (from matplotlib!=3.6.1,>=3.4->seaborn) (0.12.1)\n",
            "Requirement already satisfied: fonttools>=4.22.0 in /usr/local/lib/python3.11/dist-packages (from matplotlib!=3.6.1,>=3.4->seaborn) (4.55.8)\n",
            "Requirement already satisfied: kiwisolver>=1.3.1 in /usr/local/lib/python3.11/dist-packages (from matplotlib!=3.6.1,>=3.4->seaborn) (1.4.8)\n",
            "Requirement already satisfied: packaging>=20.0 in /usr/local/lib/python3.11/dist-packages (from matplotlib!=3.6.1,>=3.4->seaborn) (24.2)\n",
            "Requirement already satisfied: pillow>=8 in /usr/local/lib/python3.11/dist-packages (from matplotlib!=3.6.1,>=3.4->seaborn) (11.1.0)\n",
            "Requirement already satisfied: pyparsing>=2.3.1 in /usr/local/lib/python3.11/dist-packages (from matplotlib!=3.6.1,>=3.4->seaborn) (3.2.1)\n",
            "Requirement already satisfied: python-dateutil>=2.7 in /usr/local/lib/python3.11/dist-packages (from matplotlib!=3.6.1,>=3.4->seaborn) (2.8.2)\n",
            "Requirement already satisfied: pytz>=2020.1 in /usr/local/lib/python3.11/dist-packages (from pandas>=1.2->seaborn) (2025.1)\n",
            "Requirement already satisfied: tzdata>=2022.7 in /usr/local/lib/python3.11/dist-packages (from pandas>=1.2->seaborn) (2025.1)\n",
            "Requirement already satisfied: six>=1.5 in /usr/local/lib/python3.11/dist-packages (from python-dateutil>=2.7->matplotlib!=3.6.1,>=3.4->seaborn) (1.17.0)\n"
          ]
        }
      ]
    },
    {
      "cell_type": "code",
      "source": [
        "# Import and Setup\n",
        "from textblob import Word\n",
        "import nltk\n",
        "nltk.download('wordnet')\n",
        "def word_info(word):\n",
        "    w = Word(word)\n",
        "    synsets = w.synsets\n",
        "    if synsets:\n",
        "        return {\n",
        "            'definition': synsets[0].definition(),\n",
        "            'examples': synsets[0].examples(),\n",
        "            'lemma': w.lemmatize()\n",
        "        }\n",
        "    return \"No information found\"\n",
        "\n",
        "# Usage\n",
        "print(word_info(\"phone\"))"
      ],
      "metadata": {
        "colab": {
          "base_uri": "https://localhost:8080/"
        },
        "id": "we7zgTxlwnpE",
        "outputId": "3b0ef8a3-9150-4802-9bab-6332574a1159"
      },
      "id": "we7zgTxlwnpE",
      "execution_count": 49,
      "outputs": [
        {
          "output_type": "stream",
          "name": "stdout",
          "text": [
            "{'definition': 'electronic equipment that converts sound into electrical signals that can be transmitted over distances and then converts received signals back into sounds', 'examples': ['I talked to him on the telephone'], 'lemma': 'phone'}\n"
          ]
        },
        {
          "output_type": "stream",
          "name": "stderr",
          "text": [
            "[nltk_data] Downloading package wordnet to /root/nltk_data...\n",
            "[nltk_data]   Package wordnet is already up-to-date!\n"
          ]
        }
      ]
    },
    {
      "cell_type": "code",
      "source": [
        "# we define Sentiment Analysis Plot Function\n",
        "def plot_sentiment_analysis(reviews):\n",
        "    polarities = []\n",
        "    subjectivities = []\n",
        "\n",
        "    for review, _ in reviews:\n",
        "        blob = TextBlob(review)\n",
        "        polarities.append(blob.sentiment.polarity)\n",
        "        subjectivities.append(blob.sentiment.subjectivity)\n",
        "\n",
        "    # we will create figure with two subplots\n",
        "    fig, (ax1, ax2) = plt.subplots(1, 2, figsize=(15, 6))\n",
        "\n",
        "    # Polarity Distribution\n",
        "    sns.histplot(data=polarities, bins=10, color='skyblue', ax=ax1)\n",
        "    ax1.set_title('Sentiment Polarity Distribution', pad=15)\n",
        "    ax1.set_xlabel('Polarity')\n",
        "    ax1.set_ylabel('Count')\n",
        "\n",
        "    # Subjectivity vs Polarity\n",
        "    scatter = ax2.scatter(polarities, subjectivities,\n",
        "                         alpha=0.6, c=polarities,\n",
        "                         cmap='RdYlBu', s=100)\n",
        "    ax2.set_title('Subjectivity vs Polarity', pad=15)\n",
        "    ax2.set_xlabel('Polarity')\n",
        "    ax2.set_ylabel('Subjectivity')\n",
        "    plt.colorbar(scatter, ax=ax2, label='Polarity')\n",
        "\n",
        "    plt.tight_layout()\n",
        "    plt.show()\n",
        "\n",
        "    # Print summary statistics\n",
        "    print(\"\\nSentiment Analysis Summary:\")\n",
        "    print(f\"Average Polarity: {np.mean(polarities):.2f}\")\n",
        "    print(f\"Average Subjectivity: {np.mean(subjectivities):.2f}\")\n",
        "    print(f\"Number of Reviews: {len(polarities)}\")"
      ],
      "metadata": {
        "id": "bBardH0ErmIf"
      },
      "id": "bBardH0ErmIf",
      "execution_count": 32,
      "outputs": []
    },
    {
      "cell_type": "code",
      "source": [
        "\n",
        "text = TextBlob(\"Artifical Intelligense\")\n",
        "print(f\"Original: {text}\")\n",
        "print(f\"Corrected: {text.correct()}\")\n",
        "\n",
        "# we move to spell check suggestions\n",
        "word = Word(\"speling\")\n",
        "print(f\"Suggestions for '{word}': {word.spellcheck()}\")"
      ],
      "metadata": {
        "colab": {
          "base_uri": "https://localhost:8080/"
        },
        "id": "OC2pDD9cxfqC",
        "outputId": "d4b0273e-93c2-4818-b4a3-91b5c0d57643"
      },
      "id": "OC2pDD9cxfqC",
      "execution_count": 51,
      "outputs": [
        {
          "output_type": "stream",
          "name": "stdout",
          "text": [
            "Original: Artifical Intelligense\n",
            "Corrected: Artificial Intelligence\n",
            "Suggestions for 'speling': [('spelling', 1.0)]\n"
          ]
        }
      ]
    },
    {
      "cell_type": "code",
      "source": [
        "# npw we define Word Frequencies Plot Function\n",
        "def plot_word_frequencies(reviews):\n",
        "    # Collect all words\n",
        "    words = []\n",
        "    for review, _ in reviews:\n",
        "        blob = TextBlob(review)\n",
        "        words.extend([word.lower() for word in blob.words\n",
        "                     if len(word) > 3 and word.isalpha()])\n",
        "\n",
        "    # to get word frequencies\n",
        "    word_freq = Counter(words).most_common(10)\n",
        "    words, frequencies = zip(*word_freq)\n",
        "\n",
        "    # we move on to Create bar plot\n",
        "    plt.figure(figsize=(12, 6))\n",
        "    sns.barplot(x=list(words), y=list(frequencies), palette='viridis')\n",
        "    plt.title('Top 10 Most Frequent Words in Reviews', pad=15)\n",
        "    plt.xlabel('Words')\n",
        "    plt.ylabel('Frequency')\n",
        "    plt.xticks(rotation=45)\n",
        "    plt.tight_layout()\n",
        "    plt.show()"
      ],
      "metadata": {
        "id": "9X5J49elrsHZ"
      },
      "id": "9X5J49elrsHZ",
      "execution_count": 62,
      "outputs": []
    },
    {
      "cell_type": "code",
      "source": [
        "\n",
        "from textblob import TextBlob\n",
        "import nltk\n",
        "nltk.download('punkt')\n",
        "\n",
        "def analyze_review_multilingual(review_text, translate_to='hi'):\n",
        "    \"\"\"Analyze review with translation and sentiment\"\"\"\n",
        "    blob = TextBlob(review_text)\n",
        "\n",
        "    analysis = {\n",
        "        'original': review_text,\n",
        "        'sentiment': blob.sentiment,\n",
        "        'translation': None,\n",
        "        'corrected': None\n",
        "    }\n",
        "\n",
        "    try:\n",
        "        # Spell correction\n",
        "        analysis['corrected'] = str(blob.correct())\n",
        "\n",
        "        # Translation\n",
        "        analysis['translation'] = str(blob.translate(to=translate_to))\n",
        "\n",
        "    except Exception as e:\n",
        "        analysis['error'] = str(e)\n",
        "\n",
        "    return analysis\n",
        "\n",
        "# now we apply to your reviews\n",
        "def analyze_reviews_batch(reviews):\n",
        "    for review, sentiment in reviews[:3]:  # Analyze first 3 reviews as example\n",
        "        print(\"Review Analysis\")\n",
        "\n",
        "        analysis = analyze_review_multilingual(review)\n",
        "\n",
        "        print(f\"Original: {analysis['original']}\")\n",
        "        print(f\"Sentiment: {analysis['sentiment']}\")\n",
        "\n",
        "        if analysis['corrected']:\n",
        "            print(f\"Corrected: {analysis['corrected']}\")\n",
        "\n",
        "        if analysis['translation']:\n",
        "            print(f\"Hindi Translation: {analysis['translation']}\")\n",
        "\n",
        "        if 'error' in analysis:\n",
        "            print(f\"Error: {analysis['error']}\")\n",
        "\n",
        "# Example usage with your existing reviews\n",
        "sample_reviews = [\n",
        "    (\"This phone is amazing, I love the camera!\", \"pos\"),\n",
        "    (\"Battery life is terrible, not recomended.\", \"neg\"),\n",
        "    (\"The display quality is excelent.\", \"pos\")\n",
        "]\n",
        "\n",
        "analyze_reviews_batch(sample_reviews)"
      ],
      "metadata": {
        "colab": {
          "base_uri": "https://localhost:8080/"
        },
        "id": "xUjHXOeByv6n",
        "outputId": "88284012-f4bf-4c9a-ee50-8cfba20c475e"
      },
      "id": "xUjHXOeByv6n",
      "execution_count": 54,
      "outputs": [
        {
          "output_type": "stream",
          "name": "stdout",
          "text": [
            "Review Analysis\n",
            "Original: This phone is amazing, I love the camera!\n",
            "Sentiment: Sentiment(polarity=0.6125, subjectivity=0.75)\n",
            "Corrected: His phone is amazing, I love the camera!\n",
            "Error: 'TextBlob' object has no attribute 'translate'\n",
            "Review Analysis\n",
            "Original: Battery life is terrible, not recomended.\n",
            "Sentiment: Sentiment(polarity=-1.0, subjectivity=1.0)\n",
            "Corrected: Battery life is terrible, not recommended.\n",
            "Error: 'TextBlob' object has no attribute 'translate'\n",
            "Review Analysis\n",
            "Original: The display quality is excelent.\n",
            "Sentiment: Sentiment(polarity=0.0, subjectivity=0.0)\n",
            "Corrected: The display quality is excellent.\n",
            "Error: 'TextBlob' object has no attribute 'translate'\n"
          ]
        },
        {
          "output_type": "stream",
          "name": "stderr",
          "text": [
            "[nltk_data] Downloading package punkt to /root/nltk_data...\n",
            "[nltk_data]   Package punkt is already up-to-date!\n"
          ]
        }
      ]
    },
    {
      "cell_type": "code",
      "source": [
        "# N-gram Analysis\n",
        "from textblob import TextBlob\n",
        "\n",
        "def analyze_ngrams(text, n=2):\n",
        "    \"\"\"Analyze n-grams in text\"\"\"\n",
        "    blob = TextBlob(text)\n",
        "\n",
        "    print(f\"\\nN-gram Analysis (n={n}):\")\n",
        "    print(\"-\" * 40)\n",
        "    print(f\"Text: {text}\")\n",
        "    print(f\"N-grams: {list(blob.ngrams(n))}\")\n",
        "\n",
        "# examples like\n",
        "text = \"The camera quality is excellent\"\n",
        "analyze_ngrams(text, n=2)  # bigrams\n",
        "analyze_ngrams(text, n=3)  # trigrams"
      ],
      "metadata": {
        "colab": {
          "base_uri": "https://localhost:8080/"
        },
        "id": "B8eVEe6qzqnl",
        "outputId": "86214111-ef57-41a2-f2d2-7aa1fc570246"
      },
      "id": "B8eVEe6qzqnl",
      "execution_count": 55,
      "outputs": [
        {
          "output_type": "stream",
          "name": "stdout",
          "text": [
            "\n",
            "N-gram Analysis (n=2):\n",
            "----------------------------------------\n",
            "Text: The camera quality is excellent\n",
            "N-grams: [WordList(['The', 'camera']), WordList(['camera', 'quality']), WordList(['quality', 'is']), WordList(['is', 'excellent'])]\n",
            "\n",
            "N-gram Analysis (n=3):\n",
            "----------------------------------------\n",
            "Text: The camera quality is excellent\n",
            "N-grams: [WordList(['The', 'camera', 'quality']), WordList(['camera', 'quality', 'is']), WordList(['quality', 'is', 'excellent'])]\n"
          ]
        }
      ]
    },
    {
      "cell_type": "code",
      "source": [
        "# classification with probabilities\n",
        "from textblob.classifiers import NaiveBayesClassifier\n",
        "cl = NaiveBayesClassifier(train)  # Assuming 'train' is your training data\n",
        "print(f\"Classification: {cl.classify('The camera is amazing')}\")  # Simple classification\n",
        "print(f\"Probabilities: {cl.prob_classify('The camera is amazing').prob('pos'):.2f} positive, {cl.prob_classify('The camera is amazing').prob('neg'):.2f} negative\")  # Probability distribution"
      ],
      "metadata": {
        "colab": {
          "base_uri": "https://localhost:8080/"
        },
        "id": "hr0Ftvva0Ydn",
        "outputId": "90abc507-9c84-4cf6-9b63-255ae6836cda"
      },
      "id": "hr0Ftvva0Ydn",
      "execution_count": 56,
      "outputs": [
        {
          "output_type": "stream",
          "name": "stdout",
          "text": [
            "Classification: pos\n",
            "Probabilities: 0.99 positive, 0.01 negative\n"
          ]
        }
      ]
    },
    {
      "cell_type": "code",
      "source": [
        "# thsi step involves Classification with probabilities\n",
        "from textblob.classifiers import NaiveBayesClassifier\n",
        "cl = NaiveBayesClassifier(train)\n",
        "print(f\"Classification: {cl.classify('The camera is amazing')}\")  # Simple classification\n",
        "print(f\"Probabilities: {cl.prob_classify('The camera is amazing').prob('pos'):.2f} positive, {cl.prob_classify('The camera is amazing').prob('neg'):.2f} negative\")  # Probability distribution"
      ],
      "metadata": {
        "colab": {
          "base_uri": "https://localhost:8080/"
        },
        "id": "Cgyr1F6L0vIT",
        "outputId": "4db3d50d-0308-4937-8e2e-95ffa9a8db20"
      },
      "id": "Cgyr1F6L0vIT",
      "execution_count": 57,
      "outputs": [
        {
          "output_type": "stream",
          "name": "stdout",
          "text": [
            "Classification: pos\n",
            "Probabilities: 0.99 positive, 0.01 negative\n"
          ]
        }
      ]
    },
    {
      "cell_type": "code",
      "source": [
        "# we go for detailed Evaluation\n",
        "# now aim is to train and evaluate\n",
        "cl = NaiveBayesClassifier(train)\n",
        "accuracy = cl.accuracy(test)\n",
        "\n",
        "# Printing our results\n",
        "print(f\"Model Accuracy: {accuracy:.2%}\")\n",
        "print(\"\\nMost Informative Features:\")\n",
        "cl.show_informative_features(10)  # shows top 10 features"
      ],
      "metadata": {
        "colab": {
          "base_uri": "https://localhost:8080/"
        },
        "id": "XiCESOWp1Gii",
        "outputId": "b831b811-f9f2-45e6-f4c6-4132c196b362"
      },
      "id": "XiCESOWp1Gii",
      "execution_count": 58,
      "outputs": [
        {
          "output_type": "stream",
          "name": "stdout",
          "text": [
            "Model Accuracy: 90.00%\n",
            "\n",
            "Most Informative Features:\n",
            "Most Informative Features\n",
            "           contains(and) = True              pos : neg    =      4.3 : 1.0\n",
            "           contains(The) = True              pos : neg    =      3.0 : 1.0\n",
            "         contains(phone) = True              pos : neg    =      2.6 : 1.0\n",
            "             contains(I) = True              pos : neg    =      2.3 : 1.0\n",
            "           contains(the) = True              pos : neg    =      2.3 : 1.0\n",
            "            contains(is) = True              pos : neg    =      2.3 : 1.0\n",
            "            contains(is) = False             neg : pos    =      1.8 : 1.0\n",
            "          contains(fast) = True              pos : neg    =      1.7 : 1.0\n",
            "          contains(this) = True              pos : neg    =      1.7 : 1.0\n",
            "          contains(very) = True              neg : pos    =      1.7 : 1.0\n"
          ]
        }
      ]
    },
    {
      "cell_type": "code",
      "source": [
        "# we go for Incremental Training and Accuracy\n",
        "from textblob.classifiers import NaiveBayesClassifier\n",
        "\n",
        "# Initial training\n",
        "cl = NaiveBayesClassifier(train)\n",
        "print(f\"Initial Accuracy: {cl.accuracy(test):.2f}\")\n",
        "\n",
        "# Update with new data and check accuracy\n",
        "new_data = [\n",
        "    (\"Amazing camera quality\", \"pos\"),\n",
        "    (\"Terrible battery life\", \"neg\"),\n",
        "    (\"Great display\", \"pos\")\n",
        "]\n",
        "cl.update(new_data)\n",
        "print(f\"Updated Accuracy: {cl.accuracy(test):.2f}\")"
      ],
      "metadata": {
        "colab": {
          "base_uri": "https://localhost:8080/"
        },
        "id": "-sgGfJ011jDh",
        "outputId": "d5eefe70-0ee6-4305-cdf3-5b5a94b517a8"
      },
      "id": "-sgGfJ011jDh",
      "execution_count": 59,
      "outputs": [
        {
          "output_type": "stream",
          "name": "stdout",
          "text": [
            "Initial Accuracy: 0.90\n",
            "Updated Accuracy: 0.80\n"
          ]
        }
      ]
    },
    {
      "cell_type": "code",
      "source": [
        "# we end Word Extraction\n",
        "from textblob import TextBlob\n",
        "\n",
        "def extract_end_words(text):\n",
        "    blob = TextBlob(text)\n",
        "    # now we get last word of each sentence\n",
        "    end_words = [sentence.words[-1] for sentence in blob.sentences]\n",
        "    return end_words\n",
        "\n",
        "# for example\n",
        "text = \"The camera is amazing. Battery life is terrible. Display looks great.\"\n",
        "print(f\"End words: {extract_end_words(text)}\")  # Output: ['amazing', 'terrible', 'great']"
      ],
      "metadata": {
        "colab": {
          "base_uri": "https://localhost:8080/"
        },
        "id": "wkN4Zfv_1_mU",
        "outputId": "ede18a3e-c3b4-4b53-8ce0-93d7fc616007"
      },
      "id": "wkN4Zfv_1_mU",
      "execution_count": 60,
      "outputs": [
        {
          "output_type": "stream",
          "name": "stdout",
          "text": [
            "End words: ['amazing', 'terrible', 'great']\n"
          ]
        }
      ]
    },
    {
      "cell_type": "code",
      "source": [
        "# we will define Sentiment by Category Plot Function\n",
        "def plot_sentiment_by_category(reviews):\n",
        "    categories = []\n",
        "    polarities = []\n",
        "\n",
        "    for review, category in reviews:\n",
        "        blob = TextBlob(review)\n",
        "        categories.append(category)\n",
        "        polarities.append(blob.sentiment.polarity)\n",
        "\n",
        "    plt.figure(figsize=(10, 6))\n",
        "    sns.boxplot(x=categories, y=polarities, palette='Set3')\n",
        "    plt.title('Sentiment Distribution by Category')\n",
        "    plt.xlabel('Review Category')\n",
        "    plt.ylabel('Polarity')\n",
        "    plt.tight_layout()\n",
        "    plt.show()"
      ],
      "metadata": {
        "id": "0A2pqGqQry7V"
      },
      "id": "0A2pqGqQry7V",
      "execution_count": 34,
      "outputs": []
    },
    {
      "cell_type": "code",
      "source": [
        "# now we define Phrase Analysis Function\n",
        "def analyze_phrases_by_sentiment(reviews):\n",
        "    positive_phrases = []\n",
        "    negative_phrases = []\n",
        "\n",
        "    for review, category in reviews:\n",
        "        blob = TextBlob(review)\n",
        "        if blob.sentiment.polarity > 0:\n",
        "            positive_phrases.extend(blob.noun_phrases)\n",
        "        else:\n",
        "            negative_phrases.extend(blob.noun_phrases)\n",
        "\n",
        "    print(\"\\nCommon Phrases Analysis:\")\n",
        "    print(\"\\nTop Positive Phrases:\")\n",
        "    for phrase, count in Counter(positive_phrases).most_common(5):\n",
        "        print(f\"- {phrase}: {count}\")\n",
        "\n",
        "    print(\"\\nTop Negative Phrases:\")\n",
        "    for phrase, count in Counter(negative_phrases).most_common(5):\n",
        "        print(f\"- {phrase}: {count}\")"
      ],
      "metadata": {
        "id": "APwo5ZTlr4oK"
      },
      "id": "APwo5ZTlr4oK",
      "execution_count": 35,
      "outputs": []
    },
    {
      "cell_type": "code",
      "source": [
        "# now we run All Analyses\n",
        "\n",
        "\n",
        "print(\" Sentiment Distribution and Correlation:\")\n",
        "plot_sentiment_analysis(train + test)\n",
        "\n",
        "print(\"Word Frequency Analysis:\")\n",
        "plot_word_frequencies(train + test)\n",
        "\n",
        "print(\"Sentiment Distribution by Category:\")\n",
        "plot_sentiment_by_category(train + test)\n",
        "\n",
        "print(\"Phrase Analysis:\")\n",
        "analyze_phrases_by_sentiment(train + test)"
      ],
      "metadata": {
        "colab": {
          "base_uri": "https://localhost:8080/",
          "height": 1000
        },
        "id": "PghzeLe2r95q",
        "outputId": "fb27a981-8c19-4472-bf1f-eef11e29bdc4"
      },
      "id": "PghzeLe2r95q",
      "execution_count": 61,
      "outputs": [
        {
          "output_type": "stream",
          "name": "stdout",
          "text": [
            " Sentiment Distribution and Correlation:\n"
          ]
        },
        {
          "output_type": "display_data",
          "data": {
            "text/plain": [
              "<Figure size 1500x600 with 3 Axes>"
            ],
            "image/png": "[encoded data removed]"
          },
          "metadata": {}
        },
        {
          "output_type": "stream",
          "name": "stdout",
          "text": [
            "\n",
            "Sentiment Analysis Summary:\n",
            "Average Polarity: 0.17\n",
            "Average Subjectivity: 0.57\n",
            "Number of Reviews: 53\n",
            "Word Frequency Analysis:\n"
          ]
        },
        {
          "output_type": "stream",
          "name": "stderr",
          "text": [
            "<ipython-input-33-7a4aeccd071e>:16: FutureWarning: \n",
            "\n",
            "Passing `palette` without assigning `hue` is deprecated and will be removed in v0.14.0. Assign the `x` variable to `hue` and set `legend=False` for the same effect.\n",
            "\n",
            "  sns.barplot(x=list(words), y=list(frequencies), palette='viridis')\n"
          ]
        },
        {
          "output_type": "display_data",
          "data": {
            "text/plain": [
              "<Figure size 1200x600 with 1 Axes>"
            ],
            "image/png": "[encoded data removed]"
          },
          "metadata": {}
        },
        {
          "output_type": "stream",
          "name": "stdout",
          "text": [
            "Sentiment Distribution by Category:\n"
          ]
        },
        {
          "output_type": "stream",
          "name": "stderr",
          "text": [
            "<ipython-input-34-38dca807d543>:12: FutureWarning: \n",
            "\n",
            "Passing `palette` without assigning `hue` is deprecated and will be removed in v0.14.0. Assign the `x` variable to `hue` and set `legend=False` for the same effect.\n",
            "\n",
            "  sns.boxplot(x=categories, y=polarities, palette='Set3')\n"
          ]
        },
        {
          "output_type": "display_data",
          "data": {
            "text/plain": [
              "<Figure size 1000x600 with 1 Axes>"
            ],
            "image/png": "[encoded data removed]"
          },
          "metadata": {}
        },
        {
          "output_type": "stream",
          "name": "stdout",
          "text": [
            "Phrase Analysis:\n",
            "\n",
            "Common Phrases Analysis:\n",
            "\n",
            "Top Positive Phrases:\n",
            "- battery: 2\n",
            "- camera quality: 2\n",
            "- display quality: 1\n",
            "- fast: 1\n",
            "- smooth performance: 1\n",
            "\n",
            "Top Negative Phrases:\n",
            "- too: 2\n",
            "- regret buying: 1\n",
            "- overheating: 1\n",
            "- camera quality: 1\n",
            "- low light: 1\n"
          ]
        }
      ]
    },
    {
      "cell_type": "code",
      "source": [
        "#here we perform Interactive Review Analysis\n",
        "def analyze_new_review():\n",
        "    review_text = input(\"Enter a review to analyze: \")\n",
        "\n",
        "    # Detailed analysis\n",
        "    analysis = analyze_review(review_text)\n",
        "\n",
        "    # Predict sentiment\n",
        "    prediction = cl.classify(review_text)\n",
        "    print(f\"\\nPredicted Sentiment: {prediction}\")\n",
        "\n",
        "# Uncomment to use interactive analysis:\n",
        "# analyze_new_review()"
      ],
      "metadata": {
        "id": "YmkQsRVkrCSf"
      },
      "id": "YmkQsRVkrCSf",
      "execution_count": 37,
      "outputs": []
    }
  ],
  "metadata": {
    "kernelspec": {
      "display_name": "Python 3 (ipykernel)",
      "language": "python",
      "name": "python3"
    },
    "language_info": {
      "codemirror_mode": {
        "name": "ipython",
        "version": 3
      },
      "file_extension": ".py",
      "mimetype": "text/x-python",
      "name": "python",
      "nbconvert_exporter": "python",
      "pygments_lexer": "ipython3",
      "version": "3.10.12"
    },
    "colab": {
      "provenance": []
    }
  },
  "nbformat": 4,
  "nbformat_minor": 5
}