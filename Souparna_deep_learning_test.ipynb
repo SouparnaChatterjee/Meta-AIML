{
  "nbformat": 4,
  "nbformat_minor": 0,
  "metadata": {
    "colab": {
      "provenance": [],
      "authorship_tag": "ABX9TyO9fImkeGHf8eU6XJzmSZyY"
    },
    "kernelspec": {
      "name": "python3",
      "display_name": "Python 3"
    },
    "language_info": {
      "name": "python"
    }
  },
  "cells": [
    {
      "cell_type": "markdown",
      "source": [
        "### 1. What does MLP stand for?\n",
        "\n",
        "a) Multi Linear Processing\n",
        "\n",
        "b) Multi Layer Perceptron\n",
        "\n",
        "c) Multi Layered Program\n",
        "\n",
        "d) Multi Logical Processing\n",
        "\n",
        "\n",
        "Ans:\n",
        "b) Multi Layer Perceptron"
      ],
      "metadata": {
        "id": "k3NdbPYY_qfR"
      }
    },
    {
      "cell_type": "markdown",
      "source": [
        "### 2. What type of neural network is an MLP?\n",
        "\n",
        "a) Convolutional Neural Network\n",
        "\n",
        "b) Feedforward Neural Network\n",
        "\n",
        "c) Recurrent Neural Network\n",
        "\n",
        "d) Radial Neural Network\n",
        "\n",
        "ans: b) Feedforward Neural Network"
      ],
      "metadata": {
        "id": "aaNO61Ke_7-4"
      }
    },
    {
      "cell_type": "markdown",
      "source": [
        "### 3. What is the purpose of the activation function in MLP?\n",
        "\n",
        "a) To initialize weights\n",
        "\n",
        "b) To introduce non-linearity\n",
        "\n",
        "c) To normalize the input\n",
        "\n",
        "d) To adjust biases\n",
        "\n",
        "Ans:b) To introduce non-linearity"
      ],
      "metadata": {
        "id": "8pYPYdNoAK4I"
      }
    },
    {
      "cell_type": "markdown",
      "source": [
        "#### 4. Which activation function is commonly used in MLP hidden layers?\n",
        "\n",
        "a) ReLU\n",
        "\n",
        "b) Softmax\n",
        "\n",
        "c) Sigmoid\n",
        "\n",
        "d) All of the above\n",
        "\n",
        "Ans: a) ReLU"
      ],
      "metadata": {
        "id": "AA6np0KfAbL9"
      }
    },
    {
      "cell_type": "markdown",
      "source": [
        "### 5. What does the input layer of an MLP do?\n",
        "\n",
        "a) Produces output predictions\n",
        "\n",
        "b) Processes data in loops\n",
        "\n",
        "c) Accepts raw input data\n",
        "\n",
        "d) Applies activation functions\n",
        "\n",
        "Ans: c) Accepts raw input data"
      ],
      "metadata": {
        "id": "x_dx2FjnAmah"
      }
    },
    {
      "cell_type": "markdown",
      "source": [
        "### 6. Which algorithm is typically used to train an MLP?\n",
        "\n",
        "a) Gradient Descent\n",
        "\n",
        "b) K-Means Clustering\n",
        "\n",
        "c) Monte Carlo Method\n",
        "\n",
        "d) Backpropagation\n",
        "\n",
        "Ans: d) Backpropagation"
      ],
      "metadata": {
        "id": "hdEV0eH_A6OZ"
      }
    },
    {
      "cell_type": "markdown",
      "source": [
        "### 7. What are the weights in an MLP?\n",
        "\n",
        "a) Inputs to the network\n",
        "\n",
        "b) Connections between neurons\n",
        "\n",
        "c) Output predictions\n",
        "\n",
        "d) Training algorithms\n",
        "\n",
        "Ans: b) Connections between neurons"
      ],
      "metadata": {
        "id": "-rf7I_DWBNvn"
      }
    },
    {
      "cell_type": "markdown",
      "source": [
        "### 8. What is the output layer of an MLP used for?\n",
        "\n",
        "a) Processing hidden units\n",
        "\n",
        "b) Normalizing the input\n",
        "\n",
        "c) Providing final predictions\n",
        "\n",
        "d) Introducing non-linearity\n",
        "\n",
        "Ans: c) Providing final predictions"
      ],
      "metadata": {
        "id": "_iyZz6nsBmBz"
      }
    },
    {
      "cell_type": "markdown",
      "source": [
        "### 9. What type of data does an MLP process?\n",
        "\n",
        "a) Sequential data\n",
        "\n",
        "b) Tabular data\n",
        "\n",
        "c) Image data\n",
        "\n",
        "d) All of the above\n",
        "\n",
        "Ans: d) All of the above"
      ],
      "metadata": {
        "id": "4EfCmeafBrco"
      }
    },
    {
      "cell_type": "markdown",
      "source": [
        "### 10. What is the main drawback of MLPs?\n",
        "\n",
        "a) Overfitting\n",
        "\n",
        "b) No learning capacity\n",
        "\n",
        "c) Limited scalability\n",
        "\n",
        "d) Lack of generalization\n",
        "\n",
        "Ans: a) Overfitting"
      ],
      "metadata": {
        "id": "uD2XsK_yB32D"
      }
    },
    {
      "cell_type": "markdown",
      "source": [
        "### 11. What is a neuron in an MLP?\n",
        "\n",
        "a) A single layer in the network\n",
        "\n",
        "b) A computational unit performing weighted sums and activation\n",
        "\n",
        "c) A type of input data\n",
        "\n",
        "d) An algorithm to train the model\n",
        "\n",
        "Ans: b) A computational unit performing weighted sums and activation"
      ],
      "metadata": {
        "id": "CSBovMwJCMe_"
      }
    },
    {
      "cell_type": "markdown",
      "source": [
        "### 12. How are the weights in an MLP initialized?\n",
        "\n",
        "a) Randomly\n",
        "\n",
        "b) With zeros\n",
        "\n",
        "c) Based on target output\n",
        "\n",
        "d) Using fixed values\n",
        "\n",
        "Ans: a) Randomly"
      ],
      "metadata": {
        "id": "QLYWqnjHCYIZ"
      }
    },
    {
      "cell_type": "markdown",
      "source": [
        "### 13. How is overfitting commonly prevented in MLPs?\n",
        "\n",
        "a) By using a large number of layers\n",
        "\n",
        "b) By reducing training data\n",
        "\n",
        "c) By applying regularization (e.g., dropout, L2 norm)\n",
        "\n",
        "d) By increasing learning rates\n",
        "\n",
        "Ans: c) By applying regularization (e.g., dropout, L2 norm)"
      ],
      "metadata": {
        "id": "8SqOghHaClyn"
      }
    },
    {
      "cell_type": "markdown",
      "source": [
        "### 14. What is the function of hidden layers in an MLP?\n",
        "\n",
        "a) To act as the input to the network\n",
        "\n",
        "b) To learn features from the input data\n",
        "\n",
        "c) To connect directly to the output\n",
        "\n",
        "d) To produce random predictions\n",
        "\n",
        "\n",
        "Ans: b) To learn features from the input data"
      ],
      "metadata": {
        "id": "Tqq1_AjXC2o4"
      }
    },
    {
      "cell_type": "markdown",
      "source": [
        "### 15. How does the ReLU activation function work?\n",
        "\n",
        "a) Outputs values between 0 and 1\n",
        "\n",
        "b) Outputs the same value as the input if it's positive; otherwise 0\n",
        "\n",
        "c) Outputs values only in negative range\n",
        "\n",
        "d) Divides the input by 2\n",
        "\n",
        "Ans: b) Outputs the same value as the input if it's positive; otherwise 0"
      ],
      "metadata": {
        "id": "0Nbut3RTDGsI"
      }
    },
    {
      "cell_type": "markdown",
      "source": [
        "### 16. What does the Softmax function output?\n",
        "\n",
        "a) Binary values\n",
        "\n",
        "b) Probabilities summing to 1\n",
        "\n",
        "c) Random weights\n",
        "\n",
        "d) Normalized input data\n",
        "\n",
        "Ans: b) Probabilities summing to 1"
      ],
      "metadata": {
        "id": "DL7ZGMnlDVMC"
      }
    },
    {
      "cell_type": "markdown",
      "source": [
        "### 17. What is the purpose of learning rate in MLP training?\n",
        "\n",
        "a) To determine the number of layers\n",
        "\n",
        "b) To adjust the step size for weight updates\n",
        "\n",
        "c) To initialize the model\n",
        "\n",
        "d) To reduce the size of the dataset\n",
        "\n",
        "Ans: b) To adjust the step size for weight updates"
      ],
      "metadata": {
        "id": "rLRKfNBfDw6t"
      }
    },
    {
      "cell_type": "markdown",
      "source": [
        "### 18. How is the loss function used in MLP training?\n",
        "\n",
        "a) It calculates the weight values\n",
        "\n",
        "b) It measures the difference between predicted and true outputs\n",
        "\n",
        "c) It determines the number of hidden layers\n",
        "\n",
        "d) It defines the learning rate\n",
        "\n",
        "Ans: b) It measures the difference between predicted and true outputs"
      ],
      "metadata": {
        "id": "NLHi0U6aEASV"
      }
    },
    {
      "cell_type": "markdown",
      "source": [
        "### 19. Which loss function is commonly used for classification problems in MLPs?\n",
        "\n",
        "a) Mean Squared Error (MSE)\n",
        "\n",
        "b) Cross-Entropy Loss\n",
        "\n",
        "c) Hinge Loss\n",
        "\n",
        "d) L1 Loss\n",
        "\n",
        "Ans: b) Cross-Entropy Loss"
      ],
      "metadata": {
        "id": "sf4kxWUuEYkx"
      }
    },
    {
      "cell_type": "markdown",
      "source": [
        "### 20. What is the main difference between MLP and a single-layer perceptron?\n",
        "\n",
        "a) MLP has multiple layers of neurons\n",
        "\n",
        "b) Single-layer perceptron uses backpropagation\n",
        "\n",
        "c) MLP cannot solve non-linear problems\n",
        "\n",
        "d) Single-layer perceptron uses ReLU\n",
        "\n",
        "Ans: a) MLP has multiple layers of neurons"
      ],
      "metadata": {
        "id": "m1BopxpTEnK0"
      }
    },
    {
      "cell_type": "code",
      "execution_count": 1,
      "metadata": {
        "id": "9ME3JsHN5oBR"
      },
      "outputs": [],
      "source": [
        "# Import necessary libraries\n",
        "import matplotlib.pyplot as plt  # For plotting graphs\n",
        "from keras.layers import Dense, Flatten  # For creating neural network layers\n",
        "from keras.models import Sequential  # For creating a sequential model\n",
        "from keras.datasets import mnist  # For importing the MNIST dataset\n",
        "import warnings  # For managing warnings\n",
        "warnings.filterwarnings('ignore')  # Ignore harmless warnings"
      ]
    },
    {
      "cell_type": "code",
      "source": [
        "\n",
        "# Load the MNIST dataset\n",
        "(x_train, y_train), (x_test, y_test) = mnist.load_data()  # Load data into training and testing se"
      ],
      "metadata": {
        "id": "qYNA4Lde5vgK"
      },
      "execution_count": 3,
      "outputs": []
    },
    {
      "cell_type": "code",
      "source": [
        "# Preprocess the data\n",
        "x_train = x_train.astype('float32') / 255.0  # Normalize training data to be between 0 and 1\n",
        "x_test = x_test.astype('float32') / 255.0  # Normalize testing data to be between 0 and 1\n",
        "x_train = x_train.reshape(-1, 28 * 28)  # Flatten the images into vectors (shape: (num_samples, 784))\n",
        "x_test = x_test.reshape(-1, 28 * 28)    # Flatten the test images similarly\n"
      ],
      "metadata": {
        "id": "b7tICNCl6NDB"
      },
      "execution_count": 4,
      "outputs": []
    },
    {
      "cell_type": "code",
      "source": [
        "# Define a Sequential model\n",
        "model = Sequential()"
      ],
      "metadata": {
        "id": "RHIQO__T6Rkh"
      },
      "execution_count": 5,
      "outputs": []
    },
    {
      "cell_type": "code",
      "source": [
        "# Add a Flatten layer to convert the 28x28 input images into a 1D array\n",
        "model.add(Flatten(input_shape=(28 * 28,)))  # The Flatten layer expects input shape (784,)\n",
        "\n",
        "# Add a Dense layer with 128 neurons and 'relu' activation function\n",
        "model.add(Dense(128, activation='relu'))\n",
        "\n",
        "# Add another Dense layer with 64 neurons and 'relu' activation function\n",
        "model.add(Dense(64, activation='relu'))\n",
        "\n",
        "# Add the output layer with 10 neurons (one for each digit class) and 'softmax' activation function\n",
        "model.add(Dense(10, activation='softmax'))\n"
      ],
      "metadata": {
        "id": "JycLeunH6bqp"
      },
      "execution_count": 7,
      "outputs": []
    },
    {
      "cell_type": "code",
      "source": [
        "# Compile the model\n",
        "model.compile(optimizer='adam', loss='sparse_categorical_crossentropy', metrics=['accuracy'])"
      ],
      "metadata": {
        "id": "82QjxO8f6pvn"
      },
      "execution_count": 8,
      "outputs": []
    },
    {
      "cell_type": "code",
      "source": [
        "# Fit the model on the training data\n",
        "# We train the model for 1 epoch and validate it using the test data\n",
        "historical = model.fit(x_train, y_train, epochs=1, validation_data=(x_test, y_test))"
      ],
      "metadata": {
        "colab": {
          "base_uri": "https://localhost:8080/"
        },
        "id": "9HTv-UTi6vz5",
        "outputId": "3a1f0d4e-e592-48d4-fe16-fd2272b5e39d"
      },
      "execution_count": 10,
      "outputs": [
        {
          "output_type": "stream",
          "name": "stdout",
          "text": [
            "\u001b[1m1875/1875\u001b[0m \u001b[32m━━━━━━━━━━━━━━━━━━━━\u001b[0m\u001b[37m\u001b[0m \u001b[1m7s\u001b[0m 4ms/step - accuracy: 0.9674 - loss: 0.1055 - val_accuracy: 0.9718 - val_loss: 0.0901\n"
          ]
        }
      ]
    },
    {
      "cell_type": "code",
      "source": [
        "# Display the model summary\n",
        "model.summary()  # This will print a summary of the model architecture"
      ],
      "metadata": {
        "colab": {
          "base_uri": "https://localhost:8080/",
          "height": 305
        },
        "id": "uVoHEYDQ671Z",
        "outputId": "12c9ee96-0a1d-4dc8-f57d-e62a27559075"
      },
      "execution_count": 11,
      "outputs": [
        {
          "output_type": "display_data",
          "data": {
            "text/plain": [
              "\u001b[1mModel: \"sequential\"\u001b[0m\n"
            ],
            "text/html": [
              "<pre style=\"white-space:pre;overflow-x:auto;line-height:normal;font-family:Menlo,'DejaVu Sans Mono',consolas,'Courier New',monospace\"><span style=\"font-weight: bold\">Model: \"sequential\"</span>\n",
              "</pre>\n"
            ]
          },
          "metadata": {}
        },
        {
          "output_type": "display_data",
          "data": {
            "text/plain": [
              "┏━━━━━━━━━━━━━━━━━━━━━━━━━━━━━━━━━━━━━━┳━━━━━━━━━━━━━━━━━━━━━━━━━━━━━┳━━━━━━━━━━━━━━━━━┓\n",
              "┃\u001b[1m \u001b[0m\u001b[1mLayer (type)                        \u001b[0m\u001b[1m \u001b[0m┃\u001b[1m \u001b[0m\u001b[1mOutput Shape               \u001b[0m\u001b[1m \u001b[0m┃\u001b[1m \u001b[0m\u001b[1m        Param #\u001b[0m\u001b[1m \u001b[0m┃\n",
              "┡━━━━━━━━━━━━━━━━━━━━━━━━━━━━━━━━━━━━━━╇━━━━━━━━━━━━━━━━━━━━━━━━━━━━━╇━━━━━━━━━━━━━━━━━┩\n",
              "│ flatten (\u001b[38;5;33mFlatten\u001b[0m)                    │ (\u001b[38;5;45mNone\u001b[0m, \u001b[38;5;34m784\u001b[0m)                 │               \u001b[38;5;34m0\u001b[0m │\n",
              "├──────────────────────────────────────┼─────────────────────────────┼─────────────────┤\n",
              "│ flatten_1 (\u001b[38;5;33mFlatten\u001b[0m)                  │ (\u001b[38;5;45mNone\u001b[0m, \u001b[38;5;34m784\u001b[0m)                 │               \u001b[38;5;34m0\u001b[0m │\n",
              "├──────────────────────────────────────┼─────────────────────────────┼─────────────────┤\n",
              "│ dense (\u001b[38;5;33mDense\u001b[0m)                        │ (\u001b[38;5;45mNone\u001b[0m, \u001b[38;5;34m128\u001b[0m)                 │         \u001b[38;5;34m100,480\u001b[0m │\n",
              "├──────────────────────────────────────┼─────────────────────────────┼─────────────────┤\n",
              "│ dense_1 (\u001b[38;5;33mDense\u001b[0m)                      │ (\u001b[38;5;45mNone\u001b[0m, \u001b[38;5;34m64\u001b[0m)                  │           \u001b[38;5;34m8,256\u001b[0m │\n",
              "├──────────────────────────────────────┼─────────────────────────────┼─────────────────┤\n",
              "│ dense_2 (\u001b[38;5;33mDense\u001b[0m)                      │ (\u001b[38;5;45mNone\u001b[0m, \u001b[38;5;34m10\u001b[0m)                  │             \u001b[38;5;34m650\u001b[0m │\n",
              "└──────────────────────────────────────┴─────────────────────────────┴─────────────────┘\n"
            ],
            "text/html": [
              "<pre style=\"white-space:pre;overflow-x:auto;line-height:normal;font-family:Menlo,'DejaVu Sans Mono',consolas,'Courier New',monospace\">┏━━━━━━━━━━━━━━━━━━━━━━━━━━━━━━━━━━━━━━┳━━━━━━━━━━━━━━━━━━━━━━━━━━━━━┳━━━━━━━━━━━━━━━━━┓\n",
              "┃<span style=\"font-weight: bold\"> Layer (type)                         </span>┃<span style=\"font-weight: bold\"> Output Shape                </span>┃<span style=\"font-weight: bold\">         Param # </span>┃\n",
              "┡━━━━━━━━━━━━━━━━━━━━━━━━━━━━━━━━━━━━━━╇━━━━━━━━━━━━━━━━━━━━━━━━━━━━━╇━━━━━━━━━━━━━━━━━┩\n",
              "│ flatten (<span style=\"color: #0087ff; text-decoration-color: #0087ff\">Flatten</span>)                    │ (<span style=\"color: #00d7ff; text-decoration-color: #00d7ff\">None</span>, <span style=\"color: #00af00; text-decoration-color: #00af00\">784</span>)                 │               <span style=\"color: #00af00; text-decoration-color: #00af00\">0</span> │\n",
              "├──────────────────────────────────────┼─────────────────────────────┼─────────────────┤\n",
              "│ flatten_1 (<span style=\"color: #0087ff; text-decoration-color: #0087ff\">Flatten</span>)                  │ (<span style=\"color: #00d7ff; text-decoration-color: #00d7ff\">None</span>, <span style=\"color: #00af00; text-decoration-color: #00af00\">784</span>)                 │               <span style=\"color: #00af00; text-decoration-color: #00af00\">0</span> │\n",
              "├──────────────────────────────────────┼─────────────────────────────┼─────────────────┤\n",
              "│ dense (<span style=\"color: #0087ff; text-decoration-color: #0087ff\">Dense</span>)                        │ (<span style=\"color: #00d7ff; text-decoration-color: #00d7ff\">None</span>, <span style=\"color: #00af00; text-decoration-color: #00af00\">128</span>)                 │         <span style=\"color: #00af00; text-decoration-color: #00af00\">100,480</span> │\n",
              "├──────────────────────────────────────┼─────────────────────────────┼─────────────────┤\n",
              "│ dense_1 (<span style=\"color: #0087ff; text-decoration-color: #0087ff\">Dense</span>)                      │ (<span style=\"color: #00d7ff; text-decoration-color: #00d7ff\">None</span>, <span style=\"color: #00af00; text-decoration-color: #00af00\">64</span>)                  │           <span style=\"color: #00af00; text-decoration-color: #00af00\">8,256</span> │\n",
              "├──────────────────────────────────────┼─────────────────────────────┼─────────────────┤\n",
              "│ dense_2 (<span style=\"color: #0087ff; text-decoration-color: #0087ff\">Dense</span>)                      │ (<span style=\"color: #00d7ff; text-decoration-color: #00d7ff\">None</span>, <span style=\"color: #00af00; text-decoration-color: #00af00\">10</span>)                  │             <span style=\"color: #00af00; text-decoration-color: #00af00\">650</span> │\n",
              "└──────────────────────────────────────┴─────────────────────────────┴─────────────────┘\n",
              "</pre>\n"
            ]
          },
          "metadata": {}
        },
        {
          "output_type": "display_data",
          "data": {
            "text/plain": [
              "\u001b[1m Total params: \u001b[0m\u001b[38;5;34m328,160\u001b[0m (1.25 MB)\n"
            ],
            "text/html": [
              "<pre style=\"white-space:pre;overflow-x:auto;line-height:normal;font-family:Menlo,'DejaVu Sans Mono',consolas,'Courier New',monospace\"><span style=\"font-weight: bold\"> Total params: </span><span style=\"color: #00af00; text-decoration-color: #00af00\">328,160</span> (1.25 MB)\n",
              "</pre>\n"
            ]
          },
          "metadata": {}
        },
        {
          "output_type": "display_data",
          "data": {
            "text/plain": [
              "\u001b[1m Trainable params: \u001b[0m\u001b[38;5;34m109,386\u001b[0m (427.29 KB)\n"
            ],
            "text/html": [
              "<pre style=\"white-space:pre;overflow-x:auto;line-height:normal;font-family:Menlo,'DejaVu Sans Mono',consolas,'Courier New',monospace\"><span style=\"font-weight: bold\"> Trainable params: </span><span style=\"color: #00af00; text-decoration-color: #00af00\">109,386</span> (427.29 KB)\n",
              "</pre>\n"
            ]
          },
          "metadata": {}
        },
        {
          "output_type": "display_data",
          "data": {
            "text/plain": [
              "\u001b[1m Non-trainable params: \u001b[0m\u001b[38;5;34m0\u001b[0m (0.00 B)\n"
            ],
            "text/html": [
              "<pre style=\"white-space:pre;overflow-x:auto;line-height:normal;font-family:Menlo,'DejaVu Sans Mono',consolas,'Courier New',monospace\"><span style=\"font-weight: bold\"> Non-trainable params: </span><span style=\"color: #00af00; text-decoration-color: #00af00\">0</span> (0.00 B)\n",
              "</pre>\n"
            ]
          },
          "metadata": {}
        },
        {
          "output_type": "display_data",
          "data": {
            "text/plain": [
              "\u001b[1m Optimizer params: \u001b[0m\u001b[38;5;34m218,774\u001b[0m (854.59 KB)\n"
            ],
            "text/html": [
              "<pre style=\"white-space:pre;overflow-x:auto;line-height:normal;font-family:Menlo,'DejaVu Sans Mono',consolas,'Courier New',monospace\"><span style=\"font-weight: bold\"> Optimizer params: </span><span style=\"color: #00af00; text-decoration-color: #00af00\">218,774</span> (854.59 KB)\n",
              "</pre>\n"
            ]
          },
          "metadata": {}
        }
      ]
    },
    {
      "cell_type": "code",
      "source": [
        "# Visualize the architecture of the model, displaying the shapes of each layer\n",
        "from keras.utils import plot_model  # Ensure you have the utilities imported for visualization\n",
        "plot_model(model, show_shapes=True, to_file='model_architecture.png')  # Save the model architecture as an image fi"
      ],
      "metadata": {
        "colab": {
          "base_uri": "https://localhost:8080/",
          "height": 1000
        },
        "id": "cWvyfiaf7AyT",
        "outputId": "9abb0f17-0186-482e-e681-5868949bc569"
      },
      "execution_count": 12,
      "outputs": [
        {
          "output_type": "execute_result",
          "data": {
            "image/png": "[encoded data removed]",
            "text/plain": [
              "<IPython.core.display.Image object>"
            ]
          },
          "metadata": {},
          "execution_count": 12
        }
      ]
    },
    {
      "cell_type": "code",
      "source": [
        "print(x_train.shape)  # Should output (num_samples, 784)\n",
        "print(x_test.shape)  # Should output (num_samples, 784)"
      ],
      "metadata": {
        "colab": {
          "base_uri": "https://localhost:8080/"
        },
        "id": "3wZREl4h7KSP",
        "outputId": "b727486a-a6a1-4fe2-c524-f179718214ce"
      },
      "execution_count": 14,
      "outputs": [
        {
          "output_type": "stream",
          "name": "stdout",
          "text": [
            "(60000, 784)\n",
            "(10000, 784)\n"
          ]
        }
      ]
    },
    {
      "cell_type": "code",
      "source": [
        "print(y_train.shape)\n",
        "print(y_test.shape)"
      ],
      "metadata": {
        "colab": {
          "base_uri": "https://localhost:8080/"
        },
        "id": "peXDo0ue7PqY",
        "outputId": "fbaa885e-a7f8-4ac7-8f6d-f7e62d718459"
      },
      "execution_count": 15,
      "outputs": [
        {
          "output_type": "stream",
          "name": "stdout",
          "text": [
            "(60000,)\n",
            "(10000,)\n"
          ]
        }
      ]
    },
    {
      "cell_type": "code",
      "source": [
        "# Saving the trained model to a file named 'mnist_models_scifers.h5'\n",
        "# This allows us to reuse the model later without retraining\n",
        "model.save('mnist_models_scifers.h5')"
      ],
      "metadata": {
        "colab": {
          "base_uri": "https://localhost:8080/"
        },
        "id": "M3q_k7I_7xgY",
        "outputId": "de4d7453-ae2d-4523-ef3b-8d7ffbbc7396"
      },
      "execution_count": 16,
      "outputs": [
        {
          "output_type": "stream",
          "name": "stderr",
          "text": [
            "WARNING:absl:You are saving your model as an HDF5 file via `model.save()` or `keras.saving.save_model(model)`. This file format is considered legacy. We recommend using instead the native Keras format, e.g. `model.save('my_model.keras')` or `keras.saving.save_model(model, 'my_model.keras')`. \n"
          ]
        }
      ]
    },
    {
      "cell_type": "code",
      "source": [
        "# Printing the training history containing the loss and accuracy metrics\n",
        "# This provides insights into how the model performed during training\n",
        "print(historical.history)  # Correcting to use the historical variable"
      ],
      "metadata": {
        "colab": {
          "base_uri": "https://localhost:8080/"
        },
        "id": "BT20rLKS732F",
        "outputId": "83d5d897-3667-44d7-c044-3ec05234e9d9"
      },
      "execution_count": 18,
      "outputs": [
        {
          "output_type": "stream",
          "name": "stdout",
          "text": [
            "{'accuracy': [0.9682166576385498], 'loss': [0.10412900894880295], 'val_accuracy': [0.9718000292778015], 'val_loss': [0.09014935046434402]}\n"
          ]
        }
      ]
    },
    {
      "cell_type": "code",
      "source": [
        "\n",
        "# Reload the Model\n",
        "# Load the pre-trained model from the file\n",
        "model = tf.keras.models.load_model('mnist_models_scifers.h5')"
      ],
      "metadata": {
        "colab": {
          "base_uri": "https://localhost:8080/"
        },
        "id": "qR5KMJh2--Br",
        "outputId": "2111067d-1b11-42f5-92c1-69eb50405195"
      },
      "execution_count": 34,
      "outputs": [
        {
          "output_type": "stream",
          "name": "stderr",
          "text": [
            "WARNING:absl:Compiled the loaded model, but the compiled metrics have yet to be built. `model.compile_metrics` will be empty until you train or evaluate the model.\n"
          ]
        }
      ]
    },
    {
      "cell_type": "code",
      "source": [
        "\n",
        "# Plotting the training loss curve\n",
        "plt.plot(historical.history['loss'], label='Train Loss')"
      ],
      "metadata": {
        "colab": {
          "base_uri": "https://localhost:8080/",
          "height": 447
        },
        "id": "nkt8mRHW8Qve",
        "outputId": "c0ef0254-c24d-4543-b94d-94f22e83f506"
      },
      "execution_count": 19,
      "outputs": [
        {
          "output_type": "execute_result",
          "data": {
            "text/plain": [
              "[<matplotlib.lines.Line2D at 0x781b42bee350>]"
            ]
          },
          "metadata": {},
          "execution_count": 19
        },
        {
          "output_type": "display_data",
          "data": {
            "text/plain": [
              "<Figure size 640x480 with 1 Axes>"
            ],
            "image/png": "[encoded data removed]"
          },
          "metadata": {}
        }
      ]
    },
    {
      "cell_type": "code",
      "source": [
        "# Plotting the validation loss curve\n",
        "plt.plot(historical.history['val_loss'], label='Validation Loss')"
      ],
      "metadata": {
        "colab": {
          "base_uri": "https://localhost:8080/",
          "height": 447
        },
        "id": "EUvZz_Re8ZdK",
        "outputId": "6d8471db-d54f-49d1-8a0b-23e1860138ff"
      },
      "execution_count": 20,
      "outputs": [
        {
          "output_type": "execute_result",
          "data": {
            "text/plain": [
              "[<matplotlib.lines.Line2D at 0x781b34dfbad0>]"
            ]
          },
          "metadata": {},
          "execution_count": 20
        },
        {
          "output_type": "display_data",
          "data": {
            "text/plain": [
              "<Figure size 640x480 with 1 Axes>"
            ],
            "image/png": "[encoded data removed]"
          },
          "metadata": {}
        }
      ]
    },
    {
      "cell_type": "code",
      "source": [
        " #Adding legend to the plot to differentiate between training and validation loss\n",
        "plt.legend()"
      ],
      "metadata": {
        "colab": {
          "base_uri": "https://localhost:8080/",
          "height": 452
        },
        "id": "WtWQUp7f8auI",
        "outputId": "9508ba9a-6b87-4769-fbe3-cc692c19aede"
      },
      "execution_count": 21,
      "outputs": [
        {
          "output_type": "execute_result",
          "data": {
            "text/plain": [
              "<matplotlib.legend.Legend at 0x781b34cdb1d0>"
            ]
          },
          "metadata": {},
          "execution_count": 21
        },
        {
          "output_type": "display_data",
          "data": {
            "text/plain": [
              "<Figure size 640x480 with 1 Axes>"
            ],
            "image/png": "[encoded data removed]"
          },
          "metadata": {}
        }
      ]
    },
    {
      "cell_type": "code",
      "source": [
        "# Adding labels and title for better understanding of the plot\n",
        "plt.title('Training and Validation Loss')\n",
        "plt.xlabel('Epochs')\n",
        "plt.ylabel('Loss')"
      ],
      "metadata": {
        "colab": {
          "base_uri": "https://localhost:8080/",
          "height": 489
        },
        "id": "LV7QUxWv8hcb",
        "outputId": "bae92a8f-931b-4dcf-ac2f-86242a696d19"
      },
      "execution_count": 22,
      "outputs": [
        {
          "output_type": "execute_result",
          "data": {
            "text/plain": [
              "Text(0, 0.5, 'Loss')"
            ]
          },
          "metadata": {},
          "execution_count": 22
        },
        {
          "output_type": "display_data",
          "data": {
            "text/plain": [
              "<Figure size 640x480 with 1 Axes>"
            ],
            "image/png": "[encoded data removed]"
          },
          "metadata": {}
        }
      ]
    },
    {
      "cell_type": "code",
      "source": [
        "#let us Show the plot\n",
        "plt.show()"
      ],
      "metadata": {
        "id": "WAJbanGT8nC4"
      },
      "execution_count": 23,
      "outputs": []
    },
    {
      "cell_type": "code",
      "source": [
        " #Importing TensorFlow library for model loading and predictions\n",
        "import tensorflow as tf"
      ],
      "metadata": {
        "id": "sw3Tvlea9JdL"
      },
      "execution_count": 24,
      "outputs": []
    },
    {
      "cell_type": "code",
      "source": [
        "# Loading the pre-trained model from the file 'mnist_models_scifers.h5'\n",
        "# This allows us to use the trained model for making predictions on new data\n",
        "model = tf.keras.models.load_model('mnist_models_scifers.h5')\n",
        "\n",
        "# Importing the NumPy library for numerical operations\n",
        "import numpy as np"
      ],
      "metadata": {
        "colab": {
          "base_uri": "https://localhost:8080/"
        },
        "id": "Pdo7c3uo9OrA",
        "outputId": "fcea68ac-dc24-4009-ba2a-6438d5837d91"
      },
      "execution_count": 25,
      "outputs": [
        {
          "output_type": "stream",
          "name": "stderr",
          "text": [
            "WARNING:absl:Compiled the loaded model, but the compiled metrics have yet to be built. `model.compile_metrics` will be empty until you train or evaluate the model.\n"
          ]
        }
      ]
    },
    {
      "cell_type": "code",
      "source": [
        "\n",
        "# Reshaping the first test image to match the model's input shape\n",
        "# The model expects input in the shape (1, 784) for a single image\n",
        "x = np.reshape(x_test[0], (1, 28 * 28))  # Flatten the image to (1, 784)"
      ],
      "metadata": {
        "id": "toZmV48a99xr"
      },
      "execution_count": 31,
      "outputs": []
    },
    {
      "cell_type": "code",
      "source": [
        "# Display the input image\n",
        "plt.imshow(x_test[0].reshape(28, 28), cmap='gray')  # Reshape for visualization\n",
        "plt.title(f'Predicted Class: {predicted_label}')  # Show the predicted class\n",
        "plt.axis('off')  # Hide axes\n",
        "plt.show()  # Display the image"
      ],
      "metadata": {
        "colab": {
          "base_uri": "https://localhost:8080/",
          "height": 428
        },
        "id": "-WPSKKtn_PHr",
        "outputId": "15c5ed7e-651b-45fc-f844-3d94a160d548"
      },
      "execution_count": 35,
      "outputs": [
        {
          "output_type": "display_data",
          "data": {
            "text/plain": [
              "<Figure size 640x480 with 1 Axes>"
            ],
            "image/png": "[encoded data removed]"
          },
          "metadata": {}
        }
      ]
    },
    {
      "cell_type": "code",
      "source": [
        "# Bonus: Visualize a few predictions\n",
        "num_images = 5  # Number of images to visualize\n",
        "predictions = model.predict(x_test[:num_images])  # Make predictions for the first few test images\n"
      ],
      "metadata": {
        "colab": {
          "base_uri": "https://localhost:8080/"
        },
        "id": "Iv1roOyP_UGi",
        "outputId": "2b690950-ae38-4adf-ba6a-870bfbd48650"
      },
      "execution_count": 36,
      "outputs": [
        {
          "output_type": "stream",
          "name": "stdout",
          "text": [
            "\u001b[1m1/1\u001b[0m \u001b[32m━━━━━━━━━━━━━━━━━━━━\u001b[0m\u001b[37m\u001b[0m \u001b[1m0s\u001b[0m 96ms/step\n"
          ]
        }
      ]
    },
    {
      "cell_type": "code",
      "source": [
        "plt.figure(figsize=(10, 5))  # Create a new figure for visualizing predictions\n",
        "for i in range(num_images):\n",
        "    plt.subplot(1, num_images, i + 1)  # Create a subplot for each image\n",
        "    plt.imshow(x_test[i].reshape(28, 28), cmap='gray')  # Display each image in grayscale\n",
        "    plt.title(f'Pred: {np.argmax(predictions[i])}')  # Show the predicted label\n",
        "    plt.axis('off')  # Hide axes\n",
        "plt.show()  # Display th"
      ],
      "metadata": {
        "colab": {
          "base_uri": "https://localhost:8080/",
          "height": 192
        },
        "id": "TdI1RjyC_cH2",
        "outputId": "03ea477a-4914-4e16-eca2-d2e2806247e5"
      },
      "execution_count": 37,
      "outputs": [
        {
          "output_type": "display_data",
          "data": {
            "text/plain": [
              "<Figure size 1000x500 with 5 Axes>"
            ],
            "image/png": "[encoded data removed]"
          },
          "metadata": {}
        }
      ]
    },
    {
      "cell_type": "code",
      "source": [
        "\n",
        "# Using the trained model to predict the class label for the input image\n",
        "# The model outputs probabilities for each class, and we take the class with the highest probability\n",
        "predicted_label = np.argmax(model.predict(x))"
      ],
      "metadata": {
        "colab": {
          "base_uri": "https://localhost:8080/"
        },
        "id": "5Y7Lw1A39-99",
        "outputId": "a70ebe22-03e7-47a7-da85-70207407fc61"
      },
      "execution_count": 38,
      "outputs": [
        {
          "output_type": "stream",
          "name": "stdout",
          "text": [
            "\u001b[1m1/1\u001b[0m \u001b[32m━━━━━━━━━━━━━━━━━━━━\u001b[0m\u001b[37m\u001b[0m \u001b[1m0s\u001b[0m 70ms/step\n"
          ]
        }
      ]
    },
    {
      "cell_type": "code",
      "source": [
        "\n",
        "# Printing the predicted class label\n",
        "# This shows the digit that the model predicts for the input image\n",
        "print(predicted_label)"
      ],
      "metadata": {
        "colab": {
          "base_uri": "https://localhost:8080/"
        },
        "id": "LPqAsxlm-Cot",
        "outputId": "76b13de3-5015-4256-bbbf-de41d79f9cb0"
      },
      "execution_count": 39,
      "outputs": [
        {
          "output_type": "stream",
          "name": "stdout",
          "text": [
            "7\n"
          ]
        }
      ]
    },
    {
      "cell_type": "markdown",
      "source": [
        "Load the MNIST Dataset: The dataset is loaded and preprocessed by normalizing pixel values and flattening the images.\n",
        "Build the Neural Network Model: A Sequential model is created with a Flatten layer, two Dense layers, and an output layer.\n",
        "Compile and Train the Model: The model is compiled with an optimizer and loss function, and then trained on the training set.\n",
        "Save the Model: The trained model is saved to a file.\n",
        "Reload the Model: The saved model is loaded from the file.\n",
        "Make Predictions: The model predicts the class of a sample from the test set, and the input image along with the predicted class is displayed.\n",
        "Bonus Visualization: A few predictions are visualized, showing the images and their predicted labels."
      ],
      "metadata": {
        "id": "QGrBCPlz_nNw"
      }
    }
  ]
}