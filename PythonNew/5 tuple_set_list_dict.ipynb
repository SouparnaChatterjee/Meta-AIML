{
  "nbformat": 4,
  "nbformat_minor": 0,
  "metadata": {
    "colab": {
      "provenance": [],
      "authorship_tag": "ABX9TyO0DxvBRuAIUaUPV6nsGNVN"
    },
    "kernelspec": {
      "name": "python3",
      "display_name": "Python 3"
    },
    "language_info": {
      "name": "python"
    }
  },
  "cells": [
    {
      "cell_type": "code",
      "execution_count": 1,
      "metadata": {
        "colab": {
          "base_uri": "https://localhost:8080/"
        },
        "id": "fDqhWYZAtiXS",
        "outputId": "4c89d920-8cdc-4b2b-abc7-18f074dc2374"
      },
      "outputs": [
        {
          "output_type": "execute_result",
          "data": {
            "text/plain": [
              "str"
            ]
          },
          "metadata": {},
          "execution_count": 1
        }
      ],
      "source": [
        "a=(\"square\")\n",
        "type(a)"
      ]
    },
    {
      "cell_type": "code",
      "source": [
        "friends=('sreeja','aparajita','aparna')\n",
        "friends"
      ],
      "metadata": {
        "colab": {
          "base_uri": "https://localhost:8080/"
        },
        "id": "XacD1M-utqV8",
        "outputId": "8d77b1e2-ecf6-4001-d9e5-3ed5a0936c72"
      },
      "execution_count": 8,
      "outputs": [
        {
          "output_type": "execute_result",
          "data": {
            "text/plain": [
              "('sreeja', 'aparajita', 'aparna')"
            ]
          },
          "metadata": {},
          "execution_count": 8
        }
      ]
    },
    {
      "cell_type": "code",
      "source": [
        "type(friends)"
      ],
      "metadata": {
        "colab": {
          "base_uri": "https://localhost:8080/"
        },
        "id": "O5m_HbyJt3lD",
        "outputId": "2e743d46-2008-42b2-d794-b990f5abf094"
      },
      "execution_count": 9,
      "outputs": [
        {
          "output_type": "execute_result",
          "data": {
            "text/plain": [
              "tuple"
            ]
          },
          "metadata": {},
          "execution_count": 9
        }
      ]
    },
    {
      "cell_type": "code",
      "source": [
        "friends.append('soumi')\n",
        "friends"
      ],
      "metadata": {
        "colab": {
          "base_uri": "https://localhost:8080/",
          "height": 158
        },
        "id": "hZI8hY4LuK4m",
        "outputId": "6ad0ee5f-7a96-4cdc-dc03-ee8c74f541a4"
      },
      "execution_count": 10,
      "outputs": [
        {
          "output_type": "error",
          "ename": "AttributeError",
          "evalue": "'tuple' object has no attribute 'append'",
          "traceback": [
            "\u001b[0;31m---------------------------------------------------------------------------\u001b[0m",
            "\u001b[0;31mAttributeError\u001b[0m                            Traceback (most recent call last)",
            "\u001b[0;32m<ipython-input-10-f2504c8be8dd>\u001b[0m in \u001b[0;36m<cell line: 1>\u001b[0;34m()\u001b[0m\n\u001b[0;32m----> 1\u001b[0;31m \u001b[0mfriends\u001b[0m\u001b[0;34m.\u001b[0m\u001b[0mappend\u001b[0m\u001b[0;34m(\u001b[0m\u001b[0;34m'soumi'\u001b[0m\u001b[0;34m)\u001b[0m\u001b[0;34m\u001b[0m\u001b[0;34m\u001b[0m\u001b[0m\n\u001b[0m\u001b[1;32m      2\u001b[0m \u001b[0mfriends\u001b[0m\u001b[0;34m\u001b[0m\u001b[0;34m\u001b[0m\u001b[0m\n",
            "\u001b[0;31mAttributeError\u001b[0m: 'tuple' object has no attribute 'append'"
          ]
        }
      ]
    },
    {
      "cell_type": "code",
      "source": [
        "friends=list(friends)"
      ],
      "metadata": {
        "id": "OAlG5Rf1ubMZ"
      },
      "execution_count": 11,
      "outputs": []
    },
    {
      "cell_type": "code",
      "source": [
        "friends.append('soumi')"
      ],
      "metadata": {
        "id": "2MbpfJYnuhpH"
      },
      "execution_count": 12,
      "outputs": []
    },
    {
      "cell_type": "code",
      "source": [
        "friends\n",
        "len(friends)"
      ],
      "metadata": {
        "colab": {
          "base_uri": "https://localhost:8080/"
        },
        "id": "858sSRnCugAX",
        "outputId": "0445ee67-0d9d-40a4-d42d-00a8079a9af1"
      },
      "execution_count": 13,
      "outputs": [
        {
          "output_type": "execute_result",
          "data": {
            "text/plain": [
              "4"
            ]
          },
          "metadata": {},
          "execution_count": 13
        }
      ]
    },
    {
      "cell_type": "code",
      "source": [
        "friends[1]"
      ],
      "metadata": {
        "colab": {
          "base_uri": "https://localhost:8080/",
          "height": 36
        },
        "id": "wJfoc1eIut8t",
        "outputId": "ea03fb93-9064-4d85-8750-0d6b5b37b034"
      },
      "execution_count": 14,
      "outputs": [
        {
          "output_type": "execute_result",
          "data": {
            "text/plain": [
              "'aparajita'"
            ],
            "application/vnd.google.colaboratory.intrinsic+json": {
              "type": "string"
            }
          },
          "metadata": {},
          "execution_count": 14
        }
      ]
    },
    {
      "cell_type": "code",
      "source": [
        "friends[0]"
      ],
      "metadata": {
        "colab": {
          "base_uri": "https://localhost:8080/",
          "height": 36
        },
        "id": "uPsVev7qu2j7",
        "outputId": "d3acff09-590b-4581-dd9b-ffdc96691c45"
      },
      "execution_count": 15,
      "outputs": [
        {
          "output_type": "execute_result",
          "data": {
            "text/plain": [
              "'sreeja'"
            ],
            "application/vnd.google.colaboratory.intrinsic+json": {
              "type": "string"
            }
          },
          "metadata": {},
          "execution_count": 15
        }
      ]
    },
    {
      "cell_type": "code",
      "source": [
        "friends[-2]"
      ],
      "metadata": {
        "colab": {
          "base_uri": "https://localhost:8080/",
          "height": 36
        },
        "id": "h7A_bHwJu5EV",
        "outputId": "6805b471-486f-4290-db30-c9caa5a50a16"
      },
      "execution_count": 16,
      "outputs": [
        {
          "output_type": "execute_result",
          "data": {
            "text/plain": [
              "'aparna'"
            ],
            "application/vnd.google.colaboratory.intrinsic+json": {
              "type": "string"
            }
          },
          "metadata": {},
          "execution_count": 16
        }
      ]
    },
    {
      "cell_type": "code",
      "source": [
        "#-1 prints the last one\n",
        "friends[-1]"
      ],
      "metadata": {
        "colab": {
          "base_uri": "https://localhost:8080/",
          "height": 36
        },
        "id": "JbEMkdgxvDzH",
        "outputId": "cdf45584-ca6f-4ebf-a297-77412ca9c1ec"
      },
      "execution_count": 18,
      "outputs": [
        {
          "output_type": "execute_result",
          "data": {
            "text/plain": [
              "'soumi'"
            ],
            "application/vnd.google.colaboratory.intrinsic+json": {
              "type": "string"
            }
          },
          "metadata": {},
          "execution_count": 18
        }
      ]
    },
    {
      "cell_type": "code",
      "source": [
        "nums=(1,2,3,77,99,88,77,99,45,67,98,67,87)\n",
        "nums.count(99)"
      ],
      "metadata": {
        "colab": {
          "base_uri": "https://localhost:8080/"
        },
        "id": "aV3ESgPhvIfP",
        "outputId": "95f2ca11-516f-4607-d696-608c858119e8"
      },
      "execution_count": 19,
      "outputs": [
        {
          "output_type": "execute_result",
          "data": {
            "text/plain": [
              "2"
            ]
          },
          "metadata": {},
          "execution_count": 19
        }
      ]
    },
    {
      "cell_type": "markdown",
      "source": [
        "we can use set to get a list of unique entities"
      ],
      "metadata": {
        "id": "gTE12MgTvzs6"
      }
    },
    {
      "cell_type": "code",
      "source": [
        "rollcall=set()\n",
        "type(rollcall)\n",
        "rollcall.add(3)\n",
        "rollcall"
      ],
      "metadata": {
        "colab": {
          "base_uri": "https://localhost:8080/"
        },
        "id": "8Z8hhXvTvqCs",
        "outputId": "d80d5db8-7ee1-449a-b9df-fbe8e293446a"
      },
      "execution_count": 21,
      "outputs": [
        {
          "output_type": "execute_result",
          "data": {
            "text/plain": [
              "{3}"
            ]
          },
          "metadata": {},
          "execution_count": 21
        }
      ]
    },
    {
      "cell_type": "code",
      "source": [
        "num_list=[1,99,78,89,99,77,67,56,98,76,45,3,28,78]\n",
        "rem_dup=set(num_list)\n",
        "rem_dup"
      ],
      "metadata": {
        "colab": {
          "base_uri": "https://localhost:8080/"
        },
        "id": "KFkAgOJqwQSU",
        "outputId": "5722f81a-4bd8-49af-858c-c89df5c7d21f"
      },
      "execution_count": 22,
      "outputs": [
        {
          "output_type": "execute_result",
          "data": {
            "text/plain": [
              "{1, 3, 28, 45, 56, 67, 76, 77, 78, 89, 98, 99}"
            ]
          },
          "metadata": {},
          "execution_count": 22
        }
      ]
    },
    {
      "cell_type": "code",
      "source": [
        "make_list=list(rem_dup)\n",
        "make_list"
      ],
      "metadata": {
        "colab": {
          "base_uri": "https://localhost:8080/"
        },
        "id": "V9Iui7fzwvAK",
        "outputId": "f53038b9-608b-44f4-f264-aacad9978019"
      },
      "execution_count": 23,
      "outputs": [
        {
          "output_type": "execute_result",
          "data": {
            "text/plain": [
              "[1, 98, 99, 67, 3, 76, 77, 78, 45, 56, 89, 28]"
            ]
          },
          "metadata": {},
          "execution_count": 23
        }
      ]
    },
    {
      "cell_type": "code",
      "source": [
        "rollsubdict={'Roll1':'Ayushi','sub':'[physics,chemistry,maths,biology]','score':[98,96,98,100]}\n",
        "rollsubdict"
      ],
      "metadata": {
        "colab": {
          "base_uri": "https://localhost:8080/"
        },
        "id": "2HodjNcaw5xw",
        "outputId": "995846f6-bb09-4109-8d27-4e9aecc6568e"
      },
      "execution_count": 29,
      "outputs": [
        {
          "output_type": "execute_result",
          "data": {
            "text/plain": [
              "{'Roll1': 'Ayushi',\n",
              " 'sub': '[physics,chemistry,maths,biology]',\n",
              " 'score': [98, 96, 98, 100]}"
            ]
          },
          "metadata": {},
          "execution_count": 29
        }
      ]
    },
    {
      "cell_type": "code",
      "source": [
        "rollsubdict['score'][0]-=2\n",
        "rollsubdict"
      ],
      "metadata": {
        "colab": {
          "base_uri": "https://localhost:8080/"
        },
        "id": "o9LO-0Whxs-_",
        "outputId": "9fa2d940-6ace-47e9-93cb-866d26971dad"
      },
      "execution_count": 30,
      "outputs": [
        {
          "output_type": "execute_result",
          "data": {
            "text/plain": [
              "{'Roll1': 'Ayushi',\n",
              " 'sub': '[physics,chemistry,maths,biology]',\n",
              " 'score': [96, 96, 98, 100]}"
            ]
          },
          "metadata": {},
          "execution_count": 30
        }
      ]
    },
    {
      "cell_type": "code",
      "source": [
        "rollsubdict['passout']=2022\n",
        "rollsubdict"
      ],
      "metadata": {
        "colab": {
          "base_uri": "https://localhost:8080/"
        },
        "id": "MEHfCUcPyXXx",
        "outputId": "739df542-c57c-4621-d2a9-f6bc61c5b67f"
      },
      "execution_count": 32,
      "outputs": [
        {
          "output_type": "execute_result",
          "data": {
            "text/plain": [
              "{'Roll1': 'Ayushi',\n",
              " 'sub': '[physics,chemistry,maths,biology]',\n",
              " 'score': [96, 96, 98, 100],\n",
              " 'passout': 2022}"
            ]
          },
          "metadata": {},
          "execution_count": 32
        }
      ]
    },
    {
      "cell_type": "code",
      "source": [
        "rollsubdict.update({'Roll1':'Souparna'})\n",
        "rollsubdict"
      ],
      "metadata": {
        "colab": {
          "base_uri": "https://localhost:8080/"
        },
        "id": "gu113iMuyjMo",
        "outputId": "14b1a3b6-3210-4281-95df-fdfe9c2f01a1"
      },
      "execution_count": 35,
      "outputs": [
        {
          "output_type": "execute_result",
          "data": {
            "text/plain": [
              "{'Roll1': 'Souparna',\n",
              " 'sub': '[physics,chemistry,maths,biology]',\n",
              " 'score': [96, 96, 98, 100],\n",
              " 'passout': 2022}"
            ]
          },
          "metadata": {},
          "execution_count": 35
        }
      ]
    }
  ]
}
