{
  "cells": [
    {
      "cell_type": "markdown",
      "id": "7cb41d5f",
      "metadata": {
        "id": "7cb41d5f"
      },
      "source": []
    },
    {
      "cell_type": "code",
      "execution_count": null,
      "id": "05e301b9",
      "metadata": {
        "id": "05e301b9"
      },
      "outputs": [],
      "source": []
    },
    {
      "cell_type": "code",
      "execution_count": null,
      "id": "b9c0d2b7",
      "metadata": {
        "id": "b9c0d2b7"
      },
      "outputs": [],
      "source": []
    },
    {
      "cell_type": "code",
      "execution_count": null,
      "id": "701614cb",
      "metadata": {
        "id": "701614cb"
      },
      "outputs": [],
      "source": []
    },
    {
      "cell_type": "markdown",
      "id": "865ce599",
      "metadata": {
        "id": "865ce599"
      },
      "source": [
        "## MLflow"
      ]
    },
    {
      "cell_type": "markdown",
      "id": "ebf9f395",
      "metadata": {
        "id": "ebf9f395"
      },
      "source": [
        "##### What is MLflow primarily used for?\n",
        "\n",
        "    - a) Data preprocessing\n",
        "    - b) Model training\n",
        "    - c) Machine learning lifecycle management\n",
        "    - d) Web development\n",
        "\n",
        "    Ans: c) Machine learning lifecycle management"
      ]
    },
    {
      "cell_type": "markdown",
      "id": "682da4f7",
      "metadata": {
        "id": "682da4f7"
      },
      "source": [
        "##### Which component of MLflow is used to track experiments?\n",
        "    - a) MLflow Tracking\n",
        "    - b) MLflow Projects\n",
        "    - c) MLflow Models\n",
        "    - d) MLflow Registry\n",
        "\n",
        "Ans: a) MLflow Tracking"
      ]
    },
    {
      "cell_type": "markdown",
      "id": "2ac846e6",
      "metadata": {
        "id": "2ac846e6"
      },
      "source": [
        "###### How can MLflow be integrated with popular ML frameworks?\n",
        "    a) Through APIs and autologging\n",
        "    b) Using SQL queries\n",
        "    c) Only through manual logging\n",
        "    d) By writing custom scripts\n",
        "\n",
        "    Ans: (a) Through APIs and autologging."
      ]
    },
    {
      "cell_type": "markdown",
      "id": "7021bd3b",
      "metadata": {
        "id": "7021bd3b"
      },
      "source": [
        "###### MLflow allows logging which of the following?\n",
        "    a) Metrics\n",
        "    b) Parameters\n",
        "    c) Artifacts\n",
        "    d) All of the above\n",
        "\n",
        "    Ans: d) All of the above\n"
      ]
    },
    {
      "cell_type": "markdown",
      "id": "22b187d5",
      "metadata": {
        "id": "22b187d5"
      },
      "source": [
        "###### Which command is used to start the MLflow UI?\n",
        "    a) mlflow start-ui\n",
        "    b) mlflow ui\n",
        "    c) mlflow launch-ui\n",
        "    d) mlflow dashboard\n",
        "\n",
        "    Ans: b) mlflow ui"
      ]
    },
    {
      "cell_type": "markdown",
      "id": "ff9516eb",
      "metadata": {
        "id": "ff9516eb"
      },
      "source": [
        "###### What file format does MLflow use to store model metadata?\n",
        "    a) JSON\n",
        "    b) YAML\n",
        "    c) CSV\n",
        "    d) XML\n",
        "\n",
        "\n",
        "    Ans: b) YAML"
      ]
    },
    {
      "cell_type": "markdown",
      "id": "ac5d05b9",
      "metadata": {
        "id": "ac5d05b9"
      },
      "source": [
        "## TensorBoard"
      ]
    },
    {
      "cell_type": "markdown",
      "id": "2d71b63f",
      "metadata": {
        "id": "2d71b63f"
      },
      "source": [
        "###### TensorBoard is mainly used for:\n",
        "    a) Model deployment\n",
        "    b) Experiment visualization\n",
        "    c) Data collection\n",
        "    d) Image processing\n",
        "\n",
        "\n",
        "    Ans: b) Experiment visualization"
      ]
    },
    {
      "cell_type": "markdown",
      "id": "319c23c4",
      "metadata": {
        "id": "319c23c4"
      },
      "source": [
        "###### What types of data can TensorBoard visualize?\n",
        "    a) Scalars\n",
        "    b) Images\n",
        "    c) Histograms\n",
        "    d) All of the above\n",
        "\n",
        "    Ans: d) All of the above"
      ]
    },
    {
      "cell_type": "markdown",
      "id": "0bcf25d1",
      "metadata": {
        "id": "0bcf25d1"
      },
      "source": [
        "###### Which command is used to launch TensorBoard?\n",
        "    a) tensorboard --logdir=<path>\n",
        "    b) tensorboard start\n",
        "    c) tensorboard run\n",
        "    d) tensorboard launch\n",
        "\n",
        "    Ans: a) tensorboard --logdir="
      ]
    },
    {
      "cell_type": "markdown",
      "id": "8b112205",
      "metadata": {
        "id": "8b112205"
      },
      "source": [
        "###### TensorBoard logs data in which directory format?\n",
        "    a) .tensorboard\n",
        "    b) ./logs/\n",
        "    c) .logdir\n",
        "    d) ./output/\n",
        "\n",
        "    Ans: b) ./logs/"
      ]
    },
    {
      "cell_type": "markdown",
      "id": "5ba4e65f",
      "metadata": {
        "id": "5ba4e65f"
      },
      "source": [
        "###### In TensorBoard, how are logs typically stored?\n",
        "    a) SQL Database\n",
        "    b) Event files\n",
        "    c) JSON files\n",
        "    d) CSV files\n",
        "\n",
        "  Ans: b) Event files"
      ]
    },
    {
      "cell_type": "markdown",
      "id": "076ed854",
      "metadata": {
        "id": "076ed854"
      },
      "source": [
        "##### Which ML framework primarily integrates with TensorBoard?\n",
        "    a) PyTorch\n",
        "    b) TensorFlow\n",
        "    c) Scikit-learn\n",
        "    d) XGBoost\n",
        "\n",
        "    Ans: b) TensorFlow"
      ]
    },
    {
      "cell_type": "markdown",
      "id": "b98001b4",
      "metadata": {
        "id": "b98001b4"
      },
      "source": [
        "## TensorBoard"
      ]
    },
    {
      "cell_type": "markdown",
      "id": "d5aaba23",
      "metadata": {
        "id": "d5aaba23"
      },
      "source": [
        "###### What is cloud computing?\n",
        "    a) A programming language\n",
        "    b) A storage device\n",
        "    c) On-demand delivery of computing services over the internet\n",
        "    d) A networking protocol\n",
        "\n",
        "    Ans: c) On-demand delivery of computing services over the internet"
      ]
    },
    {
      "cell_type": "markdown",
      "id": "a9e89eb2",
      "metadata": {
        "id": "a9e89eb2"
      },
      "source": [
        "###### Which of the following is not a cloud computing model?\n",
        "    a) IaaS\n",
        "    b) PaaS\n",
        "    c) SaaS\n",
        "    d) HTTP\n",
        "\n",
        "    Ans: d) HTTP"
      ]
    },
    {
      "cell_type": "markdown",
      "id": "3d5a3b37",
      "metadata": {
        "id": "3d5a3b37"
      },
      "source": [
        "###### AWS, Google Cloud, and Azure provide which type of cloud service?\n",
        "    a) Private cloud\n",
        "    b) Public cloud\n",
        "    c) Hybrid cloud\n",
        "    d) On-premises cloud\n",
        "\n",
        "    Ans: b) Public cloud"
      ]
    },
    {
      "cell_type": "markdown",
      "id": "bfa02e6a",
      "metadata": {
        "id": "bfa02e6a"
      },
      "source": [
        "##### Which cloud computing model provides the highest level of user control?\n",
        "    a) SaaS\n",
        "    b) PaaS\n",
        "    c) IaaS\n",
        "    d) FaaS\n",
        "\n",
        "    Ans: c) IaaS (Infrastructure as a Service)"
      ]
    },
    {
      "cell_type": "markdown",
      "id": "9205dd2b",
      "metadata": {
        "id": "9205dd2b"
      },
      "source": [
        "##### Which cloud service provider offers Lambda for serverless computing?\n",
        "    a) Google Cloud\n",
        "    b) AWS\n",
        "    c) Azure\n",
        "    d) IBM Cloud\n",
        "\n",
        "    Ans: b) AWS (Amazon Web Services)"
      ]
    },
    {
      "cell_type": "markdown",
      "id": "5d047a86",
      "metadata": {
        "id": "5d047a86"
      },
      "source": [
        "###### What does \"elasticity\" in cloud computing refer to?\n",
        "    a) Automatic scaling of resources\n",
        "    b) Data compression\n",
        "    c) Network security\n",
        "    d) Storage encryption\n",
        "\n",
        "    Ans: a) Automatic scaling of resources"
      ]
    },
    {
      "cell_type": "markdown",
      "id": "6d6fc5cc",
      "metadata": {
        "id": "6d6fc5cc"
      },
      "source": [
        "## Flask"
      ]
    },
    {
      "cell_type": "markdown",
      "id": "ca62acc7",
      "metadata": {
        "id": "ca62acc7"
      },
      "source": [
        "##### Flask is a framework for which programming language?\n",
        "    a) Java\n",
        "    b) Python\n",
        "    c) C++\n",
        "    d) JavaScript\n",
        "\n",
        "    Ans: b) Python"
      ]
    },
    {
      "cell_type": "markdown",
      "id": "3b0c3fce",
      "metadata": {
        "id": "3b0c3fce"
      },
      "source": [
        "##### Which function is used to define a route in Flask?\n",
        "    a) flask.route()\n",
        "    b) app.route()\n",
        "    c) route.app()\n",
        "    d) flask.define_route()\n",
        "\n",
        "    Ans: b) app.route()\n",
        "\n"
      ]
    },
    {
      "cell_type": "markdown",
      "id": "e166949c",
      "metadata": {
        "id": "e166949c"
      },
      "source": [
        "##### What is the default port for Flask applications?\n",
        "    a) 5000\n",
        "    b) 8000\n",
        "    c) 8080\n",
        "    d) 3000\n",
        "\n",
        "    Ans: a) 5000"
      ]
    },
    {
      "cell_type": "markdown",
      "id": "7ce1187d",
      "metadata": {
        "id": "7ce1187d"
      },
      "source": [
        "##### How do you run a Flask application?\n",
        "    a) python app.py\n",
        "    b) flask run\n",
        "    c) python -m flask run\n",
        "    d) All of the above\n",
        "\n",
        "    Ans: d) All of the above\n",
        "\n"
      ]
    },
    {
      "cell_type": "markdown",
      "id": "f12b3af6",
      "metadata": {
        "id": "f12b3af6"
      },
      "source": [
        "##### What is the purpose of Flask-SQLAlchemy?\n",
        "    a) Web scraping\n",
        "    b) ORM for Flask applications\n",
        "    c) Flask UI development\n",
        "    d) API testing\n",
        "\n",
        "    Ans: b) ORM for Flask applications"
      ]
    },
    {
      "cell_type": "markdown",
      "id": "813b0c55",
      "metadata": {
        "id": "813b0c55"
      },
      "source": [
        "##### How do you return a JSON response in Flask?\n",
        "    a) return jsonify(data)\n",
        "    b) return json(data)\n",
        "    c) return as_json(data)\n",
        "    d) return to_json(data)\n",
        "\n",
        "    Ans: b) ORM for Flask applications"
      ]
    },
    {
      "cell_type": "markdown",
      "id": "f29d9c34",
      "metadata": {
        "id": "f29d9c34"
      },
      "source": [
        "## Reinforcement Learning"
      ]
    },
    {
      "cell_type": "markdown",
      "id": "d225edbd",
      "metadata": {
        "id": "d225edbd"
      },
      "source": [
        "###### In reinforcement learning, what is an \"agent\"?\n",
        "    a) A dataset\n",
        "    b) A learning algorithm\n",
        "    c) An entity that interacts with the environment\n",
        "    d) A loss function\n",
        "\n",
        "    Ans: c) An entity that interacts with the environment"
      ]
    },
    {
      "cell_type": "markdown",
      "id": "8f82b162",
      "metadata": {
        "id": "8f82b162"
      },
      "source": [
        "##### What does \"reward\" in reinforcement learning represent?\n",
        "    a) A measure of performance\n",
        "    b) An optimization function\n",
        "    c) A dataset\n",
        "    d) A probability distribution\n",
        "\n",
        "    Ans: a) A measure of performance"
      ]
    },
    {
      "cell_type": "markdown",
      "id": "f71abb84",
      "metadata": {
        "id": "f71abb84"
      },
      "source": [
        "##### Which algorithm is commonly used in reinforcement learning?\n",
        "    a) Q-learning\n",
        "    b) Linear regression\n",
        "    c) K-means clustering\n",
        "    d) Naïve Bayes\n",
        "\n",
        "    Ans: a) Q-learning"
      ]
    },
    {
      "cell_type": "markdown",
      "id": "9ec6fa49",
      "metadata": {
        "id": "9ec6fa49"
      },
      "source": [
        "##### What is an \"episode\" in reinforcement learning?\n",
        "    a) A complete sequence of states, actions, and rewards\n",
        "    b) A single step in learning\n",
        "    c) A specific loss function\n",
        "    d) A random decision\n",
        "\n",
        "    Ans: a) A complete sequence of states, actions, and rewards"
      ]
    },
    {
      "cell_type": "markdown",
      "id": "df941db4",
      "metadata": {
        "id": "df941db4"
      },
      "source": [
        "##### What is the exploration-exploitation tradeoff in RL?\n",
        "    a) Balancing between learning new things and maximizing rewards\n",
        "    b) Choosing between two actions randomly\n",
        "    c) Running two different algorithms\n",
        "    d) Ignoring rewards\n",
        "\n",
        "    Ans: a) Balancing between learning new things and maximizing rewards"
      ]
    },
    {
      "cell_type": "markdown",
      "id": "ab89a1f4",
      "metadata": {
        "id": "ab89a1f4"
      },
      "source": [
        "##### What is \"policy\" in reinforcement learning?\n",
        "    a) A function mapping states to actions\n",
        "    b) A loss function\n",
        "    c) A reward function\n",
        "    d) A dataset\n",
        "\n",
        "Ans: a) A function mapping states to actions\n"
      ]
    },
    {
      "cell_type": "markdown",
      "id": "fff823af",
      "metadata": {
        "id": "fff823af"
      },
      "source": [
        "## Unit Testing"
      ]
    },
    {
      "cell_type": "markdown",
      "id": "e6ce4ab2",
      "metadata": {
        "id": "e6ce4ab2"
      },
      "source": [
        "##### Which library is commonly used for unit testing in Python?\n",
        "    a) pytest\n",
        "    b) unittest\n",
        "    c) Both a and b\n",
        "    d) None of the above\n",
        "\n",
        "    Ans: c) Both a and b"
      ]
    },
    {
      "cell_type": "markdown",
      "id": "cb4b5581",
      "metadata": {
        "id": "cb4b5581"
      },
      "source": [
        "##### What is the main purpose of unit testing?\n",
        "    a) Test entire application at once\n",
        "    b) Validate individual components of a program\n",
        "    c) Check database connectivity\n",
        "    d) Monitor real-time logs\n",
        "\n",
        "    Ans: b) Validate individual components of a program"
      ]
    },
    {
      "cell_type": "markdown",
      "id": "db48f2dc",
      "metadata": {
        "id": "db48f2dc"
      },
      "source": [
        "## Pylint"
      ]
    },
    {
      "cell_type": "markdown",
      "id": "f25f66bc",
      "metadata": {
        "id": "f25f66bc"
      },
      "source": [
        "##### What is the purpose of Pylint?\n",
        "    a) Debugging\n",
        "    b) Checking code quality\n",
        "    c) Writing documentation\n",
        "    d) Performance testing\n",
        "\n",
        "    Ans: b) Checking code quality"
      ]
    },
    {
      "cell_type": "markdown",
      "id": "929b7bc6",
      "metadata": {
        "id": "929b7bc6"
      },
      "source": [
        "## Apache Spark"
      ]
    },
    {
      "cell_type": "markdown",
      "id": "9afa080b",
      "metadata": {
        "id": "9afa080b"
      },
      "source": [
        "##### Apache Spark is primarily used for:\n",
        "    a) Web development\n",
        "    b) Distributed data processing\n",
        "    c) Image processing\n",
        "    d) Mobile application development\n",
        "\n",
        "    Ans: b) Distributed data processing\n"
      ]
    },
    {
      "cell_type": "markdown",
      "id": "85b032b4",
      "metadata": {
        "id": "85b032b4"
      },
      "source": [
        "## Unit Testing"
      ]
    },
    {
      "cell_type": "markdown",
      "id": "544719c4",
      "metadata": {
        "id": "544719c4"
      },
      "source": [
        "###### Which of the following is a benefit of unit testing?\n",
        "    a) Reduces debugging time\n",
        "    b) Improves code quality\n",
        "    c) Helps catch errors early\n",
        "    d) All of the above\n",
        "\n",
        "    Ans: d) All of the above"
      ]
    },
    {
      "cell_type": "markdown",
      "id": "859278f3",
      "metadata": {
        "id": "859278f3"
      },
      "source": [
        "###### In unittest, which method is used to check if two values are equal?\n",
        "    a) assertEqual()\n",
        "    b) assertTrue()\n",
        "    c) assertIs()\n",
        "    d) assertNotEqual()\n",
        "\n",
        "    Ans: a) assertEqual()"
      ]
    },
    {
      "cell_type": "markdown",
      "id": "55e6afc1",
      "metadata": {
        "id": "55e6afc1"
      },
      "source": [
        "##### What does pytest use to automatically discover test files?\n",
        "    a) Files starting with test_\n",
        "    b) Files ending with _test.py\n",
        "    c) Both a and b\n",
        "    d) None of the above\n",
        "\n",
        "    Ans: c) Both a and b"
      ]
    },
    {
      "cell_type": "markdown",
      "id": "05bd815b",
      "metadata": {
        "id": "05bd815b"
      },
      "source": [
        "###### How do you run all test cases in pytest?\n",
        "    a) pytest run all\n",
        "    b) pytest\n",
        "    c) pytest test.py\n",
        "    d) python -m pytest\n",
        "\n",
        "    Ans: b) pytest"
      ]
    },
    {
      "cell_type": "markdown",
      "id": "cacc22a9",
      "metadata": {
        "id": "cacc22a9"
      },
      "source": [
        "## Pylint"
      ]
    },
    {
      "cell_type": "markdown",
      "id": "fcfd6e59",
      "metadata": {
        "id": "fcfd6e59"
      },
      "source": [
        "##### What is Pylint used for in Python?\n",
        "    a) Detecting syntax errors\n",
        "    b) Enforcing coding standards\n",
        "    c) Both a and b\n",
        "    d) Running performance tests\n",
        "\n",
        "    Ans: c) Both a and b"
      ]
    },
    {
      "cell_type": "markdown",
      "id": "6410f401",
      "metadata": {
        "id": "6410f401"
      },
      "source": [
        "###### Which command runs Pylint on a Python file?\n",
        "    a) pylint filename.py\n",
        "    b) python -m pylint filename.py\n",
        "    c) Both a and b\n",
        "    d) pylint run filename.py\n",
        "\n",
        "    Ans: c) Both a and b"
      ]
    },
    {
      "cell_type": "markdown",
      "id": "1ec85c9a",
      "metadata": {
        "id": "1ec85c9a"
      },
      "source": [
        "##### Pylint scores code quality on a scale of:\n",
        "    a) 0 to 5\n",
        "    b) 0 to 10\n",
        "    c) -10 to 10\n",
        "    d) 0 to 100\n",
        "\n",
        "    Ans: d) 0 to 100"
      ]
    },
    {
      "cell_type": "markdown",
      "id": "a969fd3b",
      "metadata": {
        "id": "a969fd3b"
      },
      "source": [
        "###### Which of the following is NOT checked by Pylint?\n",
        "    a) Code formatting\n",
        "    b) Logic errors\n",
        "    c) Variable naming conventions\n",
        "    d) Run-time performance\n",
        "\n",
        "\n",
        "Ans: d) Run-time performance\n"
      ]
    },
    {
      "cell_type": "markdown",
      "id": "0c455fb2",
      "metadata": {
        "id": "0c455fb2"
      },
      "source": [
        "##### Pylint can be configured using which file format?\n",
        "    a) JSON\n",
        "    b) .pylintrc\n",
        "    c) YAML\n",
        "    d) XML\n",
        "\n",
        "    Ans: b) .pylintrc"
      ]
    },
    {
      "cell_type": "markdown",
      "id": "10d9fa43",
      "metadata": {
        "id": "10d9fa43"
      },
      "source": [
        "## Apache Spark"
      ]
    },
    {
      "cell_type": "markdown",
      "id": "f68d9327",
      "metadata": {
        "id": "f68d9327"
      },
      "source": [
        "##### Apache Spark is written in which programming language?\n",
        "    a) Python\n",
        "    b) Java\n",
        "    c) Scala\n",
        "    d) C++\n",
        "\n",
        "Ans: c) Scala"
      ]
    },
    {
      "cell_type": "markdown",
      "id": "adf25718",
      "metadata": {
        "id": "adf25718"
      },
      "source": [
        "##### Which component of Apache Spark is used for real-time data processing?\n",
        "    a) Spark SQL\n",
        "    b) Spark Streaming\n",
        "    c) MLlib\n",
        "    d) GraphX\n",
        "\n",
        "Ans: b) Spark Streaming\n"
      ]
    },
    {
      "cell_type": "markdown",
      "id": "e85cef9b",
      "metadata": {
        "id": "e85cef9b"
      },
      "source": [
        "###### What is the default cluster manager for Apache Spark?\n",
        "    a) Kubernetes\n",
        "    b) Hadoop YARN\n",
        "    c) Spark Standalone\n",
        "    d) Apache Mesos\n",
        "\n",
        "    Ans: c) Spark Standalone"
      ]
    },
    {
      "cell_type": "markdown",
      "id": "41af954e",
      "metadata": {
        "id": "41af954e"
      },
      "source": [
        "###### Which API in Apache Spark is used for batch processing?\n",
        "    a) RDD\n",
        "    b) Spark SQL\n",
        "    c) Spark Streaming\n",
        "    d) MLlib\n",
        "\n",
        "    Ans: a) RDD"
      ]
    },
    {
      "cell_type": "markdown",
      "id": "245a7ee1",
      "metadata": {
        "id": "245a7ee1"
      },
      "source": [
        "##### What is the primary abstraction in Spark?\n",
        "    a) DataFrame\n",
        "    b) Dataset\n",
        "    c) RDD\n",
        "    d) Table\n",
        "\n",
        "  Ans: c) RDD"
      ]
    },
    {
      "cell_type": "markdown",
      "id": "10e2b4af",
      "metadata": {
        "id": "10e2b4af"
      },
      "source": [
        "###### What is a DataFrame in Spark?\n",
        "    a) A distributed collection of data organized into named columns\n",
        "    b) A type of database\n",
        "    c) A visualization tool\n",
        "    d) A low-level API for cluster computing\n",
        "\n",
        "    Ans:a) A distributed collection of data organized into named columns.\n",
        "\n"
      ]
    },
    {
      "cell_type": "code",
      "execution_count": null,
      "id": "85ec0385",
      "metadata": {
        "id": "85ec0385"
      },
      "outputs": [],
      "source": []
    },
    {
      "cell_type": "code",
      "execution_count": null,
      "id": "5603ebed",
      "metadata": {
        "id": "5603ebed"
      },
      "outputs": [],
      "source": []
    },
    {
      "cell_type": "markdown",
      "id": "9b9e19e7",
      "metadata": {
        "id": "9b9e19e7"
      },
      "source": [
        "# Apache Spark - Classification Model Assignment\n",
        "\n",
        "## Question: You are required to generate a dataset using Apache Spark's StructType and StructField. The dataset should contain at least 1000 rows and have the following features:\n",
        "\n",
        "    age (Integer)\n",
        "    salary (Float)\n",
        "    experience (Integer)\n",
        "    education_level (String: [\"High School\", \"Bachelor\", \"Master\", \"PhD\"])\n",
        "    job_role (String: [\"Engineer\", \"Manager\", \"Analyst\", \"Clerk\"])\n",
        "    hired (Label - Integer: 1 if hired, 0 if not hired)\n",
        "\n",
        "\n",
        "\n",
        "    Tasks:\n",
        "    Generate a synthetic dataset using Apache Spark with the above schema.\n",
        "    Use VectorAssembler to convert features into a format suitable for MLlib.\n",
        "    Split the dataset into training (80%) and testing (20%) sets.\n",
        "    Train a classification model (Logistic Regression, Decision Tree, or Random Forest).\n",
        "    Evaluate the model using accuracy and F1-score.\n",
        "    Display the predictions on the test dataset."
      ]
    },
    {
      "cell_type": "markdown",
      "id": "d74dbd5c",
      "metadata": {
        "id": "d74dbd5c"
      },
      "source": [
        "## Example Code for Dataset Generation & Model Training"
      ]
    },
    {
      "cell_type": "raw",
      "id": "e5617dd9",
      "metadata": {
        "id": "e5617dd9"
      },
      "source": [
        "from pyspark.sql import SparkSession\n",
        "from pyspark.sql.types import StructType, StructField, IntegerType, FloatType, StringType\n",
        "from pyspark.ml.feature import StringIndexer, VectorAssembler\n",
        "from pyspark.ml.classification import LogisticRegression\n",
        "from pyspark.ml.evaluation import MulticlassClassificationEvaluator\n",
        "import random\n",
        "\n",
        "# Initialize Spark Session\n",
        "spark = SparkSession.builder.appName(\"SparkClassification\").getOrCreate()\n",
        "\n",
        "# Define schema\n",
        "schema = StructType([\n",
        "    StructField(\"age\", IntegerType(), True),\n",
        "    StructField(\"salary\", FloatType(), True),\n",
        "    StructField(\"experience\", IntegerType(), True),\n",
        "    StructField(\"education_level\", StringType(), True),\n",
        "    StructField(\"job_role\", StringType(), True),\n",
        "    StructField(\"hired\", IntegerType(), True)\n",
        "])\n",
        "\n",
        "# Generate synthetic data\n",
        "data = []\n",
        "education_levels = [\"High School\", \"Bachelor\", \"Master\", \"PhD\"]\n",
        "job_roles = [\"Engineer\", \"Manager\", \"Analyst\", \"Clerk\"]\n",
        "\n",
        "for _ in range(1000):\n",
        "    age = random.randint(22, 60)\n",
        "    salary = round(random.uniform(30000, 120000), 2)\n",
        "    experience = random.randint(0, 30)\n",
        "    education_level = random.choice(education_levels)\n",
        "    job_role = random.choice(job_roles)\n",
        "    hired = 1 if (experience > 5 and salary > 50000) else 0\n",
        "    data.append((age, salary, experience, education_level, job_role, hired))\n",
        "\n",
        "# Create DataFrame\n",
        "df = spark.createDataFrame(data, schema=schema)\n",
        "\n",
        "# Convert categorical columns to numerical\n",
        "indexers = [\n",
        "    StringIndexer(inputCol=\"education_level\", outputCol=\"education_level_index\").fit(df),\n",
        "    StringIndexer(inputCol=\"job_role\", outputCol=\"job_role_index\").fit(df)\n",
        "]\n",
        "\n",
        "for indexer in indexers:\n",
        "    df = indexer.transform(df)\n",
        "\n",
        "# Assemble feature columns\n",
        "feature_cols = [\"age\", \"salary\", \"experience\", \"education_level_index\", \"job_role_index\"]\n",
        "assembler = VectorAssembler(inputCols=feature_cols, outputCol=\"features\")\n",
        "df = assembler.transform(df).select(\"features\", \"hired\")\n",
        "\n",
        "# Split data\n",
        "train_data, test_data = df.randomSplit([0.8, 0.2], seed=42)\n",
        "\n",
        "# Train model\n",
        "lr = LogisticRegression(labelCol=\"hired\", featuresCol=\"features\")\n",
        "model = lr.fit(train_data)\n",
        "\n",
        "# Predictions\n",
        "predictions = model.transform(test_data)\n",
        "\n",
        "# Evaluate model\n",
        "evaluator = MulticlassClassificationEvaluator(labelCol=\"hired\", metricName=\"accuracy\")\n",
        "accuracy = evaluator.evaluate(predictions)\n",
        "print(f\"Model Accuracy: {accuracy}\")\n",
        "\n",
        "# Show predictions\n",
        "predictions.select(\"features\", \"hired\", \"prediction\").show(10)\n",
        "\n",
        "spark.stop()\n"
      ]
    },
    {
      "cell_type": "code",
      "execution_count": 4,
      "id": "15cbc897",
      "metadata": {
        "colab": {
          "base_uri": "https://localhost:8080/"
        },
        "id": "15cbc897",
        "outputId": "073322a9-0bfe-4c45-98e9-a683ed0c2584"
      },
      "outputs": [
        {
          "output_type": "stream",
          "name": "stdout",
          "text": [
            "Requirement already satisfied: pyspark in /usr/local/lib/python3.11/dist-packages (3.5.4)\n",
            "Requirement already satisfied: py4j==0.10.9.7 in /usr/local/lib/python3.11/dist-packages (from pyspark) (0.10.9.7)\n"
          ]
        }
      ],
      "source": [
        "# Install PySpark (as I am working in google colab)\n",
        "!pip install pyspark\n",
        "\n",
        "# Import necessary libraries\n",
        "from pyspark.sql import SparkSession\n",
        "from pyspark.sql.types import *  # For data types\n",
        "from pyspark.sql.functions import *  # For SQL functions\n",
        "from pyspark.ml.feature import VectorAssembler, StringIndexer  # For feature engineering\n",
        "from pyspark.ml.classification import RandomForestClassifier\n",
        "from pyspark.ml.evaluation import MulticlassClassificationEvaluator\n",
        "import random"
      ]
    },
    {
      "cell_type": "code",
      "source": [
        "# Now we will Initialize Spark Session\n",
        "spark = SparkSession.builder \\\n",
        "    .appName(\"Hiring Classification\") \\\n",
        "    .getOrCreate()"
      ],
      "metadata": {
        "id": "I9PqQ34iBbfe"
      },
      "id": "I9PqQ34iBbfe",
      "execution_count": 5,
      "outputs": []
    },
    {
      "cell_type": "code",
      "source": [
        "# Defining the structure of our dataset\n",
        "schema = StructType([\n",
        "    StructField(\"age\", IntegerType(), False),\n",
        "    StructField(\"salary\", FloatType(), False),\n",
        "    StructField(\"experience\", IntegerType(), False),\n",
        "    StructField(\"education_level\", StringType(), False),\n",
        "    StructField(\"job_role\", StringType(), False),\n",
        "    StructField(\"hired\", IntegerType(), False)\n",
        "])"
      ],
      "metadata": {
        "id": "RLgLBsbYBp0A"
      },
      "id": "RLgLBsbYBp0A",
      "execution_count": 6,
      "outputs": []
    },
    {
      "cell_type": "code",
      "source": [
        "#data generation function\n",
        "def generate_data(num_rows):\n",
        "    data = []\n",
        "    education_levels = [\"High School\", \"Bachelor\", \"Master\", \"PhD\"]\n",
        "    job_roles = [\"Engineer\", \"Manager\", \"Analyst\", \"Clerk\"]\n",
        "\n",
        "    for _ in range(num_rows):\n",
        "        # Generate basic features\n",
        "        age = random.randint(22, 60)\n",
        "        experience = random.randint(0, age - 22)\n",
        "        education_level = random.choice(education_levels)\n",
        "        job_role = random.choice(job_roles)\n",
        "\n",
        "        # Calculate salary\n",
        "        base_salary = 30000\n",
        "        edu_multiplier = education_levels.index(education_level) + 1\n",
        "        salary = base_salary + (experience * 2000) + \\\n",
        "                (edu_multiplier * 10000) + random.uniform(-5000, 5000)\n",
        "\n",
        "        # Calculate hiring probability\n",
        "        hire_probability = 0.3\n",
        "        hire_probability += 0.1 if experience > 5 else 0\n",
        "        hire_probability += 0.1 if education_level in [\"Master\", \"PhD\"] else 0\n",
        "        hire_probability += 0.1 if job_role in [\"Engineer\", \"Manager\"] else 0\n",
        "\n",
        "        hired = 1 if random.random() < hire_probability else 0\n",
        "\n",
        "        data.append((age, float(salary), experience,\n",
        "                    education_level, job_role, hired))\n",
        "\n",
        "    return data"
      ],
      "metadata": {
        "id": "tDpt_TrkCCUR"
      },
      "id": "tDpt_TrkCCUR",
      "execution_count": 7,
      "outputs": []
    },
    {
      "cell_type": "code",
      "source": [
        "# Generate 1000 rows of data\n",
        "data = generate_data(1000)\n",
        "\n",
        "# Create DataFrame\n",
        "df = spark.createDataFrame(data, schema)\n",
        "\n",
        "# Display first 5 rows\n",
        "print(\"Initial DataFrame:\")\n",
        "df.show(5)"
      ],
      "metadata": {
        "colab": {
          "base_uri": "https://localhost:8080/"
        },
        "id": "1aEsQIpXCN1m",
        "outputId": "b18ec092-0c2a-4783-bd21-4c37ba2f4782"
      },
      "id": "1aEsQIpXCN1m",
      "execution_count": 8,
      "outputs": [
        {
          "output_type": "stream",
          "name": "stdout",
          "text": [
            "Initial DataFrame:\n",
            "+---+--------+----------+---------------+--------+-----+\n",
            "|age|  salary|experience|education_level|job_role|hired|\n",
            "+---+--------+----------+---------------+--------+-----+\n",
            "| 33|43914.48|         3|    High School| Manager|    1|\n",
            "| 47|99920.25|        24|       Bachelor| Analyst|    1|\n",
            "| 46|67229.03|         6|         Master|Engineer|    1|\n",
            "| 35|79141.48|        11|         Master|Engineer|    1|\n",
            "| 52|89397.36|        23|    High School|Engineer|    0|\n",
            "+---+--------+----------+---------------+--------+-----+\n",
            "only showing top 5 rows\n",
            "\n"
          ]
        }
      ]
    },
    {
      "cell_type": "code",
      "source": [
        "# Convert categorical variables to numeric\n",
        "# Create indexers\n",
        "education_indexer = StringIndexer(\n",
        "    inputCol=\"education_level\",\n",
        "    outputCol=\"education_index\"\n",
        ")\n",
        "job_role_indexer = StringIndexer(\n",
        "    inputCol=\"job_role\",\n",
        "    outputCol=\"job_role_index\"\n",
        ")\n",
        "\n",
        "# Apply indexers\n",
        "df = education_indexer.fit(df).transform(df)\n",
        "df = job_role_indexer.fit(df).transform(df)\n",
        "\n",
        "# Combine features into a single vector\n",
        "assembler = VectorAssembler(\n",
        "    inputCols=[\"age\", \"salary\", \"experience\",\n",
        "              \"education_index\", \"job_role_index\"],\n",
        "    outputCol=\"features\"\n",
        ")\n",
        "df_vector = assembler.transform(df)\n",
        "\n",
        "print(\"\\nDataFrame with feature vector:\")\n",
        "df_vector.show(5)"
      ],
      "metadata": {
        "colab": {
          "base_uri": "https://localhost:8080/"
        },
        "id": "SxPLNhNACbrG",
        "outputId": "24a23776-4413-4c07-b2a4-f0562c93a7b3"
      },
      "id": "SxPLNhNACbrG",
      "execution_count": 9,
      "outputs": [
        {
          "output_type": "stream",
          "name": "stdout",
          "text": [
            "\n",
            "DataFrame with feature vector:\n",
            "+---+--------+----------+---------------+--------+-----+---------------+--------------+--------------------+\n",
            "|age|  salary|experience|education_level|job_role|hired|education_index|job_role_index|            features|\n",
            "+---+--------+----------+---------------+--------+-----+---------------+--------------+--------------------+\n",
            "| 33|43914.48|         3|    High School| Manager|    1|            3.0|           0.0|[33.0,43914.48046...|\n",
            "| 47|99920.25|        24|       Bachelor| Analyst|    1|            2.0|           2.0|[47.0,99920.25,24...|\n",
            "| 46|67229.03|         6|         Master|Engineer|    1|            0.0|           1.0|[46.0,67229.03125...|\n",
            "| 35|79141.48|        11|         Master|Engineer|    1|            0.0|           1.0|[35.0,79141.47656...|\n",
            "| 52|89397.36|        23|    High School|Engineer|    0|            3.0|           1.0|[52.0,89397.35937...|\n",
            "+---+--------+----------+---------------+--------+-----+---------------+--------------+--------------------+\n",
            "only showing top 5 rows\n",
            "\n"
          ]
        }
      ]
    },
    {
      "cell_type": "code",
      "source": [
        "# Split into training (80%) and test (20%) sets\n",
        "(training_data, test_data) = df_vector.randomSplit([0.8, 0.2], seed=42)\n",
        "\n",
        "print(f\"Training Data Count: {training_data.count()}\")\n",
        "print(f\"Test Data Count: {test_data.count()}\")"
      ],
      "metadata": {
        "colab": {
          "base_uri": "https://localhost:8080/"
        },
        "id": "dGh1wYIFCjyW",
        "outputId": "895facbd-7aa5-4e80-ec05-7012d30a9209"
      },
      "id": "dGh1wYIFCjyW",
      "execution_count": 11,
      "outputs": [
        {
          "output_type": "stream",
          "name": "stdout",
          "text": [
            "Training Data Count: 818\n",
            "Test Data Count: 182\n"
          ]
        }
      ]
    },
    {
      "cell_type": "code",
      "source": [
        "# Initialize and train Random Forest model\n",
        "rf = RandomForestClassifier(\n",
        "    labelCol=\"hired\",\n",
        "    featuresCol=\"features\",\n",
        "    numTrees=10\n",
        ")\n",
        "rf_model = rf.fit(training_data)"
      ],
      "metadata": {
        "id": "BA1xpVfXCqdy"
      },
      "id": "BA1xpVfXCqdy",
      "execution_count": 12,
      "outputs": []
    },
    {
      "cell_type": "code",
      "source": [
        "# Make predictions on test data\n",
        "predictions = rf_model.transform(test_data)\n",
        "\n",
        "# Create evaluators for accuracy and F1 score\n",
        "evaluator = MulticlassClassificationEvaluator(\n",
        "    labelCol=\"hired\",\n",
        "    predictionCol=\"prediction\",\n",
        "    metricName=\"accuracy\"\n",
        ")\n",
        "\n",
        "f1_evaluator = MulticlassClassificationEvaluator(\n",
        "    labelCol=\"hired\",\n",
        "    predictionCol=\"prediction\",\n",
        "    metricName=\"f1\"\n",
        ")\n",
        "\n",
        "# Calculate metrics\n",
        "accuracy = evaluator.evaluate(predictions)\n",
        "f1_score = f1_evaluator.evaluate(predictions)\n",
        "\n",
        "# Print results\n",
        "print(f\"Model Accuracy: {accuracy:.4f}\")\n",
        "print(f\"Model F1 Score: {f1_score:.4f}\")\n",
        "\n",
        "# Display sample predictions\n",
        "print(\"\\nSample Predictions:\")\n",
        "predictions.select(\"age\", \"salary\", \"experience\",\n",
        "                  \"education_level\", \"job_role\",\n",
        "                  \"hired\", \"prediction\").show(10)"
      ],
      "metadata": {
        "colab": {
          "base_uri": "https://localhost:8080/"
        },
        "id": "UGiGp8seCzjj",
        "outputId": "c17e7e25-3876-4205-8b9b-a4aa61f96c3d"
      },
      "id": "UGiGp8seCzjj",
      "execution_count": 13,
      "outputs": [
        {
          "output_type": "stream",
          "name": "stdout",
          "text": [
            "Model Accuracy: 0.4945\n",
            "Model F1 Score: 0.4928\n",
            "\n",
            "Sample Predictions:\n",
            "+---+---------+----------+---------------+--------+-----+----------+\n",
            "|age|   salary|experience|education_level|job_role|hired|prediction|\n",
            "+---+---------+----------+---------------+--------+-----+----------+\n",
            "| 22|43504.727|         0|    High School| Manager|    1|       0.0|\n",
            "| 22| 58533.86|         0|         Master|   Clerk|    1|       1.0|\n",
            "| 22| 65255.38|         0|            PhD|   Clerk|    1|       1.0|\n",
            "| 23|41647.605|         0|    High School| Analyst|    1|       0.0|\n",
            "| 23|52893.324|         0|       Bachelor| Analyst|    1|       0.0|\n",
            "| 23|56072.793|         0|         Master| Manager|    0|       0.0|\n",
            "| 24| 49627.46|         1|       Bachelor|   Clerk|    0|       0.0|\n",
            "| 24|73165.016|         1|            PhD| Manager|    1|       0.0|\n",
            "| 25| 51115.36|         0|       Bachelor| Analyst|    0|       0.0|\n",
            "| 25|54110.156|         2|       Bachelor|Engineer|    0|       0.0|\n",
            "+---+---------+----------+---------------+--------+-----+----------+\n",
            "only showing top 10 rows\n",
            "\n"
          ]
        }
      ]
    },
    {
      "cell_type": "code",
      "source": [
        "# Save the model\n",
        "model_path = \"random_forest_model\"\n",
        "rf_model.save(model_path)\n",
        "print(f\"Model saved to {model_path}\")"
      ],
      "metadata": {
        "colab": {
          "base_uri": "https://localhost:8080/"
        },
        "id": "nZbnbAhGC8DN",
        "outputId": "3946871c-4646-4a2a-e663-8547b81c7025"
      },
      "id": "nZbnbAhGC8DN",
      "execution_count": 14,
      "outputs": [
        {
          "output_type": "stream",
          "name": "stdout",
          "text": [
            "Model saved to random_forest_model\n"
          ]
        }
      ]
    },
    {
      "cell_type": "code",
      "source": [
        "# Stop Spark session\n",
        "spark.stop()"
      ],
      "metadata": {
        "id": "3cucsKzPDA1X"
      },
      "id": "3cucsKzPDA1X",
      "execution_count": 15,
      "outputs": []
    },
    {
      "cell_type": "code",
      "source": [
        "# Testing data generation\n",
        "test_data = generate_data(5)\n",
        "for row in test_data:\n",
        "    print(row)\n",
        "\n",
        "# Checking model performance\n",
        "print(f\"Accuracy: {accuracy}\")\n",
        "print(f\"F1 Score: {f1_score}\")"
      ],
      "metadata": {
        "colab": {
          "base_uri": "https://localhost:8080/"
        },
        "id": "GoQRN5JDDQsm",
        "outputId": "9edf2e73-7fef-4011-ccc5-40bdd749b2ce"
      },
      "id": "GoQRN5JDDQsm",
      "execution_count": 16,
      "outputs": [
        {
          "output_type": "stream",
          "name": "stdout",
          "text": [
            "(44, 89935.74299340694, 9, 'PhD', 'Manager', 1)\n",
            "(31, 80452.77874066128, 7, 'PhD', 'Clerk', 1)\n",
            "(43, 77379.80377313275, 3, 'PhD', 'Engineer', 0)\n",
            "(42, 62979.22459343795, 4, 'Bachelor', 'Engineer', 0)\n",
            "(57, 66472.43220289722, 13, 'High School', 'Analyst', 1)\n",
            "Accuracy: 0.4945054945054945\n",
            "F1 Score: 0.49278612543918665\n"
          ]
        }
      ]
    },
    {
      "cell_type": "code",
      "source": [
        "# Import necessary libraries\n",
        "from pyspark.sql import SparkSession\n",
        "from pyspark.sql.types import *\n",
        "from pyspark.sql.functions import *\n",
        "from pyspark.ml.feature import VectorAssembler, StringIndexer\n",
        "from pyspark.ml.classification import RandomForestClassifier\n",
        "from pyspark.ml.evaluation import MulticlassClassificationEvaluator\n",
        "import random\n",
        "\n",
        "# Initialize Spark Session\n",
        "spark = SparkSession.builder \\\n",
        "    .appName(\"Hiring Classification\") \\\n",
        "    .getOrCreate()"
      ],
      "metadata": {
        "id": "-YgYacfMHYLa"
      },
      "id": "-YgYacfMHYLa",
      "execution_count": 17,
      "outputs": []
    },
    {
      "cell_type": "code",
      "source": [
        "# Define the structure of our dataset\n",
        "schema = StructType([\n",
        "    StructField(\"age\", IntegerType(), False),\n",
        "    StructField(\"salary\", FloatType(), False),\n",
        "    StructField(\"experience\", IntegerType(), False),\n",
        "    StructField(\"education_level\", StringType(), False),\n",
        "    StructField(\"job_role\", StringType(), False),\n",
        "    StructField(\"hired\", IntegerType(), False)\n",
        "])"
      ],
      "metadata": {
        "id": "BuzImlkcHbCB"
      },
      "id": "BuzImlkcHbCB",
      "execution_count": 18,
      "outputs": []
    },
    {
      "cell_type": "code",
      "source": [
        "def generate_data(num_rows):\n",
        "    data = []\n",
        "    education_levels = [\"High School\", \"Bachelor\", \"Master\", \"PhD\"]\n",
        "    job_roles = [\"Engineer\", \"Manager\", \"Analyst\", \"Clerk\"]\n",
        "\n",
        "    for _ in range(num_rows):\n",
        "        # Generate basic features\n",
        "        age = random.randint(22, 60)\n",
        "        experience = random.randint(0, age - 22)\n",
        "        education_level = random.choice(education_levels)\n",
        "        job_role = random.choice(job_roles)\n",
        "\n",
        "        # Calculate salary\n",
        "        base_salary = 30000\n",
        "        edu_multiplier = education_levels.index(education_level) + 1\n",
        "        salary = base_salary + (experience * 2000) + \\\n",
        "                (edu_multiplier * 10000) + random.uniform(-5000, 5000)\n",
        "\n",
        "        # Calculate hiring probability\n",
        "        hire_probability = 0.3\n",
        "        hire_probability += 0.1 if experience > 5 else 0\n",
        "        hire_probability += 0.1 if education_level in [\"Master\", \"PhD\"] else 0\n",
        "        hire_probability += 0.1 if job_role in [\"Engineer\", \"Manager\"] else 0\n",
        "\n",
        "        hired = 1 if random.random() < hire_probability else 0\n",
        "\n",
        "        data.append((age, float(salary), experience,\n",
        "                    education_level, job_role, hired))\n",
        "\n",
        "    return data"
      ],
      "metadata": {
        "id": "REfNSNwlHhQ5"
      },
      "id": "REfNSNwlHhQ5",
      "execution_count": 19,
      "outputs": []
    },
    {
      "cell_type": "code",
      "source": [
        "# Generate 1000 rows of data\n",
        "data = generate_data(1000)\n",
        "\n",
        "# Create DataFrame with our schema\n",
        "df = spark.createDataFrame(data, schema)\n",
        "\n",
        "# Display first few rows\n",
        "print(\"Initial DataFrame:\")\n",
        "df.show(5)"
      ],
      "metadata": {
        "colab": {
          "base_uri": "https://localhost:8080/"
        },
        "id": "7IuQg8HKHlfq",
        "outputId": "8f20615f-0901-4059-a4fb-16df6231387a"
      },
      "id": "7IuQg8HKHlfq",
      "execution_count": 20,
      "outputs": [
        {
          "output_type": "stream",
          "name": "stdout",
          "text": [
            "Initial DataFrame:\n",
            "+---+--------+----------+---------------+--------+-----+\n",
            "|age|  salary|experience|education_level|job_role|hired|\n",
            "+---+--------+----------+---------------+--------+-----+\n",
            "| 27|71839.33|         1|            PhD| Manager|    1|\n",
            "| 42|69456.56|         0|            PhD| Analyst|    0|\n",
            "| 54|75472.28|        12|       Bachelor| Analyst|    1|\n",
            "| 57|81663.38|        10|         Master| Manager|    1|\n",
            "| 59|96507.57|        26|    High School| Analyst|    1|\n",
            "+---+--------+----------+---------------+--------+-----+\n",
            "only showing top 5 rows\n",
            "\n"
          ]
        }
      ]
    },
    {
      "cell_type": "code",
      "source": [
        "# Convert categorical variables to numeric\n",
        "education_indexer = StringIndexer(\n",
        "    inputCol=\"education_level\",\n",
        "    outputCol=\"education_index\"\n",
        ")\n",
        "job_role_indexer = StringIndexer(\n",
        "    inputCol=\"job_role\",\n",
        "    outputCol=\"job_role_index\"\n",
        ")\n",
        "\n",
        "# Apply the indexers\n",
        "df = education_indexer.fit(df).transform(df)\n",
        "df = job_role_indexer.fit(df).transform(df)\n",
        "\n",
        "# Combine features into a single vector\n",
        "assembler = VectorAssembler(\n",
        "    inputCols=[\"age\", \"salary\", \"experience\",\n",
        "              \"education_index\", \"job_role_index\"],\n",
        "    outputCol=\"features\"\n",
        ")\n",
        "df_vector = assembler.transform(df)"
      ],
      "metadata": {
        "id": "hd1z77dFHs-c"
      },
      "id": "hd1z77dFHs-c",
      "execution_count": 21,
      "outputs": []
    },
    {
      "cell_type": "code",
      "source": [
        "# Split into training (80%) and test (20%) sets\n",
        "(training_data, test_data) = df_vector.randomSplit([0.8, 0.2], seed=42)\n",
        "\n",
        "# Create and train Random Forest model\n",
        "rf = RandomForestClassifier(\n",
        "    labelCol=\"hired\",\n",
        "    featuresCol=\"features\",\n",
        "    numTrees=10\n",
        ")\n",
        "rf_model = rf.fit(training_data)\n",
        "\n",
        "# Make predictions on test data\n",
        "predictions = rf_model.transform(test_data)"
      ],
      "metadata": {
        "id": "_6jB3fZ7HvE-"
      },
      "id": "_6jB3fZ7HvE-",
      "execution_count": 22,
      "outputs": []
    },
    {
      "cell_type": "code",
      "source": [
        "from pyspark.ml.evaluation import BinaryClassificationEvaluator\n",
        "from pyspark.sql.functions import col, when, avg, count\n",
        "\n",
        "def evaluate_binary_model(predictions):\n",
        "    print(\"\\nModel Performance Metrics:\")\n",
        "\n",
        "    # Area Under ROC\n",
        "    evaluator_roc = BinaryClassificationEvaluator(\n",
        "        labelCol=\"hired\",\n",
        "        rawPredictionCol=\"rawPrediction\",\n",
        "        metricName=\"areaUnderROC\"\n",
        "    )\n",
        "    roc_auc = evaluator_roc.evaluate(predictions)\n",
        "\n",
        "    # Area Under PR\n",
        "    evaluator_pr = BinaryClassificationEvaluator(\n",
        "        labelCol=\"hired\",\n",
        "        rawPredictionCol=\"rawPrediction\",\n",
        "        metricName=\"areaUnderPR\"\n",
        "    )\n",
        "    pr_auc = evaluator_pr.evaluate(predictions)\n",
        "\n",
        "    # we will Calculate accuracy manually\n",
        "    accuracy = predictions.filter(col(\"prediction\") == col(\"hired\")).count() / predictions.count()\n",
        "\n",
        "    # Print metrics\n",
        "    print(f\"Area Under ROC: {roc_auc:.4f}\")\n",
        "    print(f\"Area Under PR: {pr_auc:.4f}\")\n",
        "    print(f\"Accuracy: {accuracy:.4f}\")\n",
        "\n",
        "    # plot Confusion Matrix\n",
        "    print(\"\\nConfusion Matrix:\")\n",
        "    confusion_matrix = predictions.groupBy(\"prediction\", \"hired\").count().orderBy(\"prediction\", \"hired\")\n",
        "    confusion_matrix.show()\n",
        "\n",
        "    # 5. Calculate additional metrics manually\n",
        "    tp = predictions.filter((col(\"prediction\") == 1) & (col(\"hired\") == 1)).count()\n",
        "    fp = predictions.filter((col(\"prediction\") == 1) & (col(\"hired\") == 0)).count()\n",
        "    tn = predictions.filter((col(\"prediction\") == 0) & (col(\"hired\") == 0)).count()\n",
        "    fn = predictions.filter((col(\"prediction\") == 0) & (col(\"hired\") == 1)).count()\n",
        "\n",
        "    precision = tp / (tp + fp) if (tp + fp) > 0 else 0\n",
        "    recall = tp / (tp + fn) if (tp + fn) > 0 else 0\n",
        "    f1 = 2 * (precision * recall) / (precision + recall) if (precision + recall) > 0 else 0\n",
        "\n",
        "    print(\"\\nAdditional Metrics:\")\n",
        "    print(f\"Precision: {precision:.4f}\")\n",
        "    print(f\"Recall: {recall:.4f}\")\n",
        "    print(f\"F1 Score: {f1:.4f}\")\n",
        "\n",
        "    #Prediction Distribution\n",
        "    print(\"\\nPrediction Distribution:\")\n",
        "    predictions.groupBy(\"prediction\").count().orderBy(\"prediction\").show()\n",
        "\n",
        "    return {\n",
        "        'roc_auc': roc_auc,\n",
        "        'pr_auc': pr_auc,\n",
        "        'accuracy': accuracy,\n",
        "        'precision': precision,\n",
        "        'recall': recall,\n",
        "        'f1': f1\n",
        "    }\n",
        "\n",
        "# Call the evaluation function\n",
        "metrics = evaluate_binary_model(predictions)\n",
        "\n",
        "# Show sample predictions\n",
        "print(\"\\nSample Predictions:\")\n",
        "predictions.select(\n",
        "    \"age\",\n",
        "    \"salary\",\n",
        "    \"experience\",\n",
        "    \"education_level\",\n",
        "    \"job_role\",\n",
        "    \"hired\",\n",
        "    \"prediction\",\n",
        "    \"probability\"\n",
        ").show(10)\n",
        "\n",
        "# Error Analysis\n",
        "print(\"\\nMisclassified Cases:\")\n",
        "errors = predictions.filter(col(\"prediction\") != col(\"hired\"))\n",
        "errors.select(\n",
        "    \"age\",\n",
        "    \"salary\",\n",
        "    \"experience\",\n",
        "    \"education_level\",\n",
        "    \"job_role\",\n",
        "    \"hired\",\n",
        "    \"prediction\"\n",
        ").show(5)\n",
        "\n",
        "# Feature Analysis for Errors\n",
        "print(\"\\nError Analysis by Education Level:\")\n",
        "errors.groupBy(\"education_level\").count().orderBy(col(\"count\").desc()).show()\n",
        "\n",
        "print(\"\\nError Analysis by Job Role:\")\n",
        "errors.groupBy(\"job_role\").count().orderBy(col(\"count\").desc()).show()"
      ],
      "metadata": {
        "colab": {
          "base_uri": "https://localhost:8080/"
        },
        "id": "6x5YhrMcISx3",
        "outputId": "ad4cd249-22a7-4dad-8af0-338f89408462"
      },
      "id": "6x5YhrMcISx3",
      "execution_count": null,
      "outputs": [
        {
          "output_type": "stream",
          "name": "stdout",
          "text": [
            "\n",
            "Model Performance Metrics:\n",
            "Area Under ROC: 0.5661\n",
            "Area Under PR: 0.5707\n",
            "Accuracy: 0.5220\n",
            "\n",
            "Confusion Matrix:\n",
            "+----------+-----+-----+\n",
            "|prediction|hired|count|\n",
            "+----------+-----+-----+\n",
            "|       0.0|    0|   61|\n",
            "|       0.0|    1|   64|\n",
            "|       1.0|    0|   23|\n",
            "|       1.0|    1|   34|\n",
            "+----------+-----+-----+\n",
            "\n",
            "\n",
            "Additional Metrics:\n",
            "Precision: 0.5965\n",
            "Recall: 0.3469\n",
            "F1 Score: 0.4387\n",
            "\n",
            "Prediction Distribution:\n",
            "+----------+-----+\n",
            "|prediction|count|\n",
            "+----------+-----+\n",
            "|       0.0|  125|\n",
            "|       1.0|   57|\n",
            "+----------+-----+\n",
            "\n",
            "\n",
            "Sample Predictions:\n",
            "+---+---------+----------+---------------+--------+-----+----------+--------------------+\n",
            "|age|   salary|experience|education_level|job_role|hired|prediction|         probability|\n",
            "+---+---------+----------+---------------+--------+-----+----------+--------------------+\n",
            "| 22|36514.812|         0|    High School|Engineer|    0|       1.0|[0.32462510448934...|\n",
            "| 22|49734.992|         0|       Bachelor| Analyst|    1|       1.0|[0.45300448722267...|\n",
            "| 22|57015.746|         0|         Master|   Clerk|    0|       1.0|[0.48695608034535...|\n",
            "| 23|49918.793|         1|       Bachelor|   Clerk|    1|       0.0|[0.66038823645081...|\n",
            "| 23| 63273.26|         1|         Master|Engineer|    1|       1.0|[0.46998288090340...|\n",
            "| 23| 73934.57|         1|            PhD| Manager|    1|       1.0|[0.39551330866536...|\n",
            "| 24| 52657.92|         0|       Bachelor|   Clerk|    0|       1.0|[0.47158135263612...|\n",
            "| 24|76718.336|         1|            PhD| Analyst|    0|       0.0|[0.51574753117675...|\n",
            "| 25|62099.977|         0|         Master|Engineer|    1|       1.0|[0.38425272217324...|\n",
            "| 25| 72475.45|         1|            PhD| Manager|    1|       0.0|[0.65129431641730...|\n",
            "+---+---------+----------+---------------+--------+-----+----------+--------------------+\n",
            "only showing top 10 rows\n",
            "\n",
            "\n",
            "Misclassified Cases:\n",
            "+---+---------+----------+---------------+--------+-----+----------+\n",
            "|age|   salary|experience|education_level|job_role|hired|prediction|\n",
            "+---+---------+----------+---------------+--------+-----+----------+\n",
            "| 22|36514.812|         0|    High School|Engineer|    0|       1.0|\n",
            "| 22|57015.746|         0|         Master|   Clerk|    0|       1.0|\n",
            "| 23|49918.793|         1|       Bachelor|   Clerk|    1|       0.0|\n",
            "| 24| 52657.92|         0|       Bachelor|   Clerk|    0|       1.0|\n",
            "| 25| 72475.45|         1|            PhD| Manager|    1|       0.0|\n",
            "+---+---------+----------+---------------+--------+-----+----------+\n",
            "only showing top 5 rows\n",
            "\n",
            "\n",
            "Error Analysis by Education Level:\n",
            "+---------------+-----+\n",
            "|education_level|count|\n",
            "+---------------+-----+\n",
            "|       Bachelor|   30|\n",
            "|         Master|   21|\n",
            "|    High School|   20|\n",
            "|            PhD|   16|\n",
            "+---------------+-----+\n",
            "\n",
            "\n",
            "Error Analysis by Job Role:\n",
            "+--------+-----+\n",
            "|job_role|count|\n",
            "+--------+-----+\n",
            "| Analyst|   25|\n",
            "| Manager|   22|\n",
            "|   Clerk|   21|\n",
            "|Engineer|   19|\n",
            "+--------+-----+\n",
            "\n"
          ]
        }
      ]
    },
    {
      "cell_type": "code",
      "source": [
        "# Try different model parameters\n",
        "rf_improved = RandomForestClassifier(\n",
        "    labelCol=\"hired\",\n",
        "    featuresCol=\"features\",\n",
        "    numTrees=20,          # Increased number of trees\n",
        "    maxDepth=10,          # Control tree depth\n",
        "    seed=42\n",
        ")\n",
        "\n",
        "# Train and evaluate improved model\n",
        "rf_model_improved = rf_improved.fit(training_data)\n",
        "predictions_improved = rf_model_improved.transform(test_data)\n",
        "metrics_improved = evaluate_binary_model(predictions_improved)"
      ],
      "metadata": {
        "colab": {
          "base_uri": "https://localhost:8080/"
        },
        "id": "4veoEaj9IxR7",
        "outputId": "11a0baf7-b221-4b0e-b629-1a156f79e2d1"
      },
      "id": "4veoEaj9IxR7",
      "execution_count": null,
      "outputs": [
        {
          "output_type": "stream",
          "name": "stdout",
          "text": [
            "\n",
            "Model Performance Metrics:\n",
            "Area Under ROC: 0.5349\n",
            "Area Under PR: 0.5777\n",
            "Accuracy: 0.5000\n",
            "\n",
            "Confusion Matrix:\n",
            "+----------+-----+-----+\n",
            "|prediction|hired|count|\n",
            "+----------+-----+-----+\n",
            "|       0.0|    0|   52|\n",
            "|       0.0|    1|   59|\n",
            "|       1.0|    0|   32|\n",
            "|       1.0|    1|   39|\n",
            "+----------+-----+-----+\n",
            "\n",
            "\n",
            "Additional Metrics:\n",
            "Precision: 0.5493\n",
            "Recall: 0.3980\n",
            "F1 Score: 0.4615\n",
            "\n",
            "Prediction Distribution:\n",
            "+----------+-----+\n",
            "|prediction|count|\n",
            "+----------+-----+\n",
            "|       0.0|  111|\n",
            "|       1.0|   71|\n",
            "+----------+-----+\n",
            "\n"
          ]
        }
      ]
    },
    {
      "cell_type": "code",
      "source": [
        "# Import required libraries\n",
        "import pandas as pd\n",
        "import matplotlib.pyplot as plt\n",
        "\n",
        "# Analyze feature importance\n",
        "feature_cols = [\"age\", \"salary\", \"experience\", \"education_index\", \"job_role_index\"]\n",
        "feature_importance = pd.DataFrame(\n",
        "    list(zip(feature_cols, rf_model.featureImportances)),\n",
        "    columns=[\"feature\", \"importance\"]\n",
        ").sort_values(\"importance\", ascending=False)\n",
        "\n",
        "# Print feature importance\n",
        "print(\"\\nFeature Importance:\")\n",
        "print(feature_importance)\n",
        "\n",
        "# Visualize feature importance\n",
        "plt.figure(figsize=(10, 6))\n",
        "plt.bar(feature_importance['feature'], feature_importance['importance'])\n",
        "plt.title('Feature Importance in Hiring Decision')\n",
        "plt.xlabel('Features')\n",
        "plt.ylabel('Importance')\n",
        "plt.xticks(rotation=45)\n",
        "plt.tight_layout()\n",
        "plt.show()\n",
        "\n",
        "# Detailed analysis of each feature\n",
        "print(\"\\nDetailed Feature Analysis:\")\n",
        "for feature in feature_cols:\n",
        "    print(f\"\\nAnalysis for {feature}:\")\n",
        "    if feature in [\"age\", \"salary\", \"experience\"]:\n",
        "        # Numerical feature analysis\n",
        "        stats = df.select(feature).summary().toPandas()\n",
        "        print(f\"Statistics for {feature}:\")\n",
        "        print(stats)\n",
        "    else:\n",
        "        # Categorical feature analysis\n",
        "        print(f\"Distribution of {feature}:\")\n",
        "        df.groupBy(feature).count().orderBy(\"count\", ascending=False).show()"
      ],
      "metadata": {
        "colab": {
          "base_uri": "https://localhost:8080/",
          "height": 1000
        },
        "id": "tjQ23PMcI4BR",
        "outputId": "a7c7d8a2-3362-4bf8-eecd-3b5251c14160"
      },
      "id": "tjQ23PMcI4BR",
      "execution_count": null,
      "outputs": [
        {
          "output_type": "stream",
          "name": "stdout",
          "text": [
            "\n",
            "Feature Importance:\n",
            "           feature  importance\n",
            "1           salary    0.296540\n",
            "0              age    0.233611\n",
            "2       experience    0.213345\n",
            "4   job_role_index    0.138083\n",
            "3  education_index    0.118421\n"
          ]
        },
        {
          "output_type": "display_data",
          "data": {
            "text/plain": [
              "<Figure size 1000x600 with 1 Axes>"
            ],
            "image/png": "[encoded data removed]"
          },
          "metadata": {}
        },
        {
          "output_type": "stream",
          "name": "stdout",
          "text": [
            "\n",
            "Detailed Feature Analysis:\n",
            "\n",
            "Analysis for age:\n",
            "Statistics for age:\n",
            "  summary                 age\n",
            "0   count                1000\n",
            "1    mean              41.296\n",
            "2  stddev  11.274550966646052\n",
            "3     min                  22\n",
            "4     25%                  32\n",
            "5     50%                  41\n",
            "6     75%                  51\n",
            "7     max                  60\n",
            "\n",
            "Analysis for salary:\n",
            "Statistics for salary:\n",
            "  summary              salary\n",
            "0   count                1000\n",
            "1    mean   74070.29480859375\n",
            "2  stddev  21112.341325367794\n",
            "3     min           35091.785\n",
            "4     25%            57995.68\n",
            "5     50%            71964.53\n",
            "6     75%           87238.484\n",
            "7     max           146880.56\n",
            "\n",
            "Analysis for experience:\n",
            "Statistics for experience:\n",
            "  summary         experience\n",
            "0   count               1000\n",
            "1    mean              9.644\n",
            "2  stddev  8.765734544355203\n",
            "3     min                  0\n",
            "4     25%                  2\n",
            "5     50%                  7\n",
            "6     75%                 15\n",
            "7     max                 38\n",
            "\n",
            "Analysis for education_index:\n",
            "Distribution of education_index:\n",
            "+---------------+-----+\n",
            "|education_index|count|\n",
            "+---------------+-----+\n",
            "|            0.0|  268|\n",
            "|            1.0|  262|\n",
            "|            2.0|  241|\n",
            "|            3.0|  229|\n",
            "+---------------+-----+\n",
            "\n",
            "\n",
            "Analysis for job_role_index:\n",
            "Distribution of job_role_index:\n",
            "+--------------+-----+\n",
            "|job_role_index|count|\n",
            "+--------------+-----+\n",
            "|           0.0|  258|\n",
            "|           1.0|  258|\n",
            "|           3.0|  242|\n",
            "|           2.0|  242|\n",
            "+--------------+-----+\n",
            "\n"
          ]
        }
      ]
    },
    {
      "cell_type": "code",
      "source": [
        "from pyspark.ml.tuning import CrossValidator, ParamGridBuilder\n",
        "\n",
        "# Create parameter grid\n",
        "paramGrid = ParamGridBuilder() \\\n",
        "    .addGrid(rf.numTrees, [10, 20, 30]) \\\n",
        "    .addGrid(rf.maxDepth, [5, 10, 15]) \\\n",
        "    .build()\n",
        "\n",
        "# Create cross validator\n",
        "crossval = CrossValidator(\n",
        "    estimator=rf,\n",
        "    estimatorParamMaps=paramGrid,\n",
        "    evaluator=BinaryClassificationEvaluator(\n",
        "        labelCol=\"hired\",\n",
        "        rawPredictionCol=\"rawPrediction\"\n",
        "    ),\n",
        "    numFolds=3\n",
        ")\n",
        "\n",
        "# Run cross validation\n",
        "cv_model = crossval.fit(training_data)"
      ],
      "metadata": {
        "id": "fxsbzLowJW5k"
      },
      "id": "fxsbzLowJW5k",
      "execution_count": null,
      "outputs": []
    },
    {
      "cell_type": "code",
      "source": [
        "# Save the model\n",
        "model_path = \"random_forest_hiring_model\"\n",
        "rf_model.save(model_path)\n",
        "\n",
        "# Save predictions to CSV\n",
        "predictions.toPandas().to_csv('hiring_predictions.csv', index=False)"
      ],
      "metadata": {
        "id": "5DllYCvJJyxQ"
      },
      "id": "5DllYCvJJyxQ",
      "execution_count": null,
      "outputs": []
    },
    {
      "cell_type": "code",
      "source": [
        "# First we create fresh DataFrame\n",
        "data = generate_data(1000)  # Generate new data\n",
        "df = spark.createDataFrame(data, schema)\n",
        "\n",
        "# then we Convert categorical variables to numeric with unique names\n",
        "education_indexer = StringIndexer(\n",
        "    inputCol=\"education_level\",\n",
        "    outputCol=\"education_index_new\"  # Changed name\n",
        ")\n",
        "job_role_indexer = StringIndexer(\n",
        "    inputCol=\"job_role\",\n",
        "    outputCol=\"job_role_index_new\"   # Changed name\n",
        ")\n",
        "\n",
        "# Applying the indexers\n",
        "df = education_indexer.fit(df).transform(df)\n",
        "df = job_role_indexer.fit(df).transform(df)\n",
        "\n",
        "# Combining features into a single vector\n",
        "assembler = VectorAssembler(\n",
        "    inputCols=[\"age\", \"salary\", \"experience\",\n",
        "              \"education_index_new\", \"job_role_index_new\"],  # Updated names\n",
        "    outputCol=\"features\"\n",
        ")\n",
        "df_vector = assembler.transform(df)\n",
        "\n",
        "# Verify the transformation\n",
        "print(\"Transformed DataFrame Schema:\")\n",
        "df_vector.printSchema()\n",
        "print(\"\\nSample of transformed data:\")\n",
        "df_vector.select(\"age\", \"salary\", \"experience\",\n",
        "                \"education_index_new\", \"job_role_index_new\",\n",
        "                \"features\").show(5)"
      ],
      "metadata": {
        "colab": {
          "base_uri": "https://localhost:8080/"
        },
        "id": "qiWbVWNALCgZ",
        "outputId": "7d2d2983-3c9c-4b66-f670-a08e71da88c0"
      },
      "id": "qiWbVWNALCgZ",
      "execution_count": null,
      "outputs": [
        {
          "output_type": "stream",
          "name": "stdout",
          "text": [
            "Transformed DataFrame Schema:\n",
            "root\n",
            " |-- age: integer (nullable = false)\n",
            " |-- salary: float (nullable = false)\n",
            " |-- experience: integer (nullable = false)\n",
            " |-- education_level: string (nullable = false)\n",
            " |-- job_role: string (nullable = false)\n",
            " |-- hired: integer (nullable = false)\n",
            " |-- education_index_new: double (nullable = false)\n",
            " |-- job_role_index_new: double (nullable = false)\n",
            " |-- features: vector (nullable = true)\n",
            "\n",
            "\n",
            "Sample of transformed data:\n",
            "+---+---------+----------+-------------------+------------------+--------------------+\n",
            "|age|   salary|experience|education_index_new|job_role_index_new|            features|\n",
            "+---+---------+----------+-------------------+------------------+--------------------+\n",
            "| 26|45581.566|         0|                0.0|               2.0|[26.0,45581.56640...|\n",
            "| 25|62326.883|         2|                1.0|               3.0|[25.0,62326.88281...|\n",
            "| 44|53116.375|         2|                0.0|               3.0|[44.0,53116.375,2...|\n",
            "| 25|  73264.0|         1|                2.0|               0.0|[25.0,73264.0,1.0...|\n",
            "| 41|53989.793|         6|                3.0|               1.0|[41.0,53989.79296...|\n",
            "+---+---------+----------+-------------------+------------------+--------------------+\n",
            "only showing top 5 rows\n",
            "\n"
          ]
        }
      ]
    },
    {
      "cell_type": "code",
      "source": [
        "def print_model_improvements():\n",
        "    print(\"\\nModel Improvement Suggestions:\")\n",
        "    print(\"1. Feature Engineering:\")\n",
        "    print(\"   - Create interaction features\")\n",
        "    print(\"   - Normalize numerical features\")\n",
        "    print(\"   - Create binary flags for specific conditions\")\n",
        "\n",
        "    print(\"\\n2. Hyperparameter Tuning:\")\n",
        "    print(\"   - Try different numbers of trees\")\n",
        "    print(\"   - Adjust max depth\")\n",
        "    print(\"   - Modify min instances per node\")\n",
        "\n",
        "    print(\"\\n3. Data Quality:\")\n",
        "    print(\"   - Check for class imbalance\")\n",
        "    print(\"   - Analyze feature distributions\")\n",
        "    print(\"   - Handle outliers\")\n",
        "\n",
        "print_model_improvements()"
      ],
      "metadata": {
        "colab": {
          "base_uri": "https://localhost:8080/"
        },
        "id": "gCACmfogLw2I",
        "outputId": "a5940504-cbb9-4c30-f8c5-655591929f66"
      },
      "id": "gCACmfogLw2I",
      "execution_count": null,
      "outputs": [
        {
          "output_type": "stream",
          "name": "stdout",
          "text": [
            "\n",
            "Model Improvement Suggestions:\n",
            "1. Feature Engineering:\n",
            "   - Create interaction features\n",
            "   - Normalize numerical features\n",
            "   - Create binary flags for specific conditions\n",
            "\n",
            "2. Hyperparameter Tuning:\n",
            "   - Try different numbers of trees\n",
            "   - Adjust max depth\n",
            "   - Modify min instances per node\n",
            "\n",
            "3. Data Quality:\n",
            "   - Check for class imbalance\n",
            "   - Analyze feature distributions\n",
            "   - Handle outliers\n"
          ]
        }
      ]
    },
    {
      "cell_type": "code",
      "source": [
        "# Analyze numerical feature distributions\n",
        "numerical_features = ['age', 'salary', 'experience']\n",
        "for feature in numerical_features:\n",
        "    print(f\"\\nDistribution of {feature}:\")\n",
        "    df.select(feature).summary().show()\n",
        "\n",
        "# Analyze categorical feature distributions\n",
        "categorical_features = ['education_level', 'job_role']\n",
        "for feature in categorical_features:\n",
        "    print(f\"\\nDistribution of {feature}:\")\n",
        "    df.groupBy(feature).count().show()"
      ],
      "metadata": {
        "colab": {
          "base_uri": "https://localhost:8080/"
        },
        "id": "FEQ4CvgsL04m",
        "outputId": "09f76480-9887-43ab-8135-b045c25f4a7b"
      },
      "id": "FEQ4CvgsL04m",
      "execution_count": null,
      "outputs": [
        {
          "output_type": "stream",
          "name": "stdout",
          "text": [
            "\n",
            "Distribution of age:\n",
            "+-------+------------------+\n",
            "|summary|               age|\n",
            "+-------+------------------+\n",
            "|  count|              1000|\n",
            "|   mean|            40.477|\n",
            "| stddev|11.420854035793766|\n",
            "|    min|                22|\n",
            "|    25%|                30|\n",
            "|    50%|                40|\n",
            "|    75%|                50|\n",
            "|    max|                60|\n",
            "+-------+------------------+\n",
            "\n",
            "\n",
            "Distribution of salary:\n",
            "+-------+------------------+\n",
            "|summary|            salary|\n",
            "+-------+------------------+\n",
            "|  count|              1000|\n",
            "|   mean| 73722.50823828125|\n",
            "| stddev|21597.961007390724|\n",
            "|    min|         35610.594|\n",
            "|    25%|         57189.664|\n",
            "|    50%|         70720.695|\n",
            "|    75%|          85925.05|\n",
            "|    max|          148138.6|\n",
            "+-------+------------------+\n",
            "\n",
            "\n",
            "Distribution of experience:\n",
            "+-------+-----------------+\n",
            "|summary|       experience|\n",
            "+-------+-----------------+\n",
            "|  count|             1000|\n",
            "|   mean|             9.38|\n",
            "| stddev|8.835930832327382|\n",
            "|    min|                0|\n",
            "|    25%|                2|\n",
            "|    50%|                7|\n",
            "|    75%|               14|\n",
            "|    max|               37|\n",
            "+-------+-----------------+\n",
            "\n",
            "\n",
            "Distribution of education_level:\n",
            "+---------------+-----+\n",
            "|education_level|count|\n",
            "+---------------+-----+\n",
            "|    High School|  234|\n",
            "|            PhD|  244|\n",
            "|         Master|  259|\n",
            "|       Bachelor|  263|\n",
            "+---------------+-----+\n",
            "\n",
            "\n",
            "Distribution of job_role:\n",
            "+--------+-----+\n",
            "|job_role|count|\n",
            "+--------+-----+\n",
            "| Analyst|  244|\n",
            "|   Clerk|  250|\n",
            "|Engineer|  233|\n",
            "| Manager|  273|\n",
            "+--------+-----+\n",
            "\n"
          ]
        }
      ]
    },
    {
      "cell_type": "code",
      "source": [
        "# Basic Numerical and Categorical Distributions\n",
        "print(\"=== Basic Feature Distributions ===\")\n",
        "\n",
        "# Numerical features\n",
        "numerical_features = ['age', 'salary', 'experience']\n",
        "for feature in numerical_features:\n",
        "    print(f\"\\nDistribution of {feature}:\")\n",
        "    df.select(feature).summary().show()\n",
        "\n",
        "# Categorical features\n",
        "categorical_features = ['education_level', 'job_role']\n",
        "for feature in categorical_features:\n",
        "    print(f\"\\nDistribution of {feature}:\")\n",
        "    df.groupBy(feature).count().orderBy('count', ascending=False).show()\n",
        "\n",
        "# 2. Hiring Rate Analysis\n",
        "print(\"\\n=== Hiring Rate Analysis ===\")\n",
        "print(\"\\nOverall Hiring Rate:\")\n",
        "df.groupBy(\"hired\").count().show()\n",
        "\n",
        "#  Hiring Rate by Education Level\n",
        "print(\"\\nHiring Rate by Education Level:\")\n",
        "df.groupBy(\"education_level\")\\\n",
        "  .agg(\n",
        "      count(\"*\").alias(\"total_count\"),\n",
        "      avg(\"hired\").alias(\"hiring_rate\")\n",
        "  )\\\n",
        "  .orderBy(\"hiring_rate\", ascending=False)\\\n",
        "  .show()\n",
        "\n",
        "# Hiring Rate by Job Role\n",
        "print(\"\\nHiring Rate by Job Role:\")\n",
        "df.groupBy(\"job_role\")\\\n",
        "  .agg(\n",
        "      count(\"*\").alias(\"total_count\"),\n",
        "      avg(\"hired\").alias(\"hiring_rate\")\n",
        "  )\\\n",
        "  .orderBy(\"hiring_rate\", ascending=False)\\\n",
        "  .show()\n",
        "\n",
        "# Basic Statistics by Hiring Decision\n",
        "print(\"\\n=== Statistics by Hiring Decision ===\")\n",
        "for feature in numerical_features:\n",
        "    print(f\"\\n{feature} Statistics by Hiring Decision:\")\n",
        "    df.groupBy(\"hired\")\\\n",
        "      .agg(\n",
        "          avg(feature).alias(\"mean\"),\n",
        "          min(feature).alias(\"min\"),\n",
        "          max(feature).alias(\"max\")\n",
        "      ).show()"
      ],
      "metadata": {
        "colab": {
          "base_uri": "https://localhost:8080/"
        },
        "id": "O298dMc9MALi",
        "outputId": "0bb9fca0-1582-4f4e-f6ad-36b7fbb57f2b"
      },
      "id": "O298dMc9MALi",
      "execution_count": null,
      "outputs": [
        {
          "output_type": "stream",
          "name": "stdout",
          "text": [
            "=== Basic Feature Distributions ===\n",
            "\n",
            "Distribution of age:\n",
            "+-------+------------------+\n",
            "|summary|               age|\n",
            "+-------+------------------+\n",
            "|  count|              1000|\n",
            "|   mean|            40.477|\n",
            "| stddev|11.420854035793766|\n",
            "|    min|                22|\n",
            "|    25%|                30|\n",
            "|    50%|                40|\n",
            "|    75%|                50|\n",
            "|    max|                60|\n",
            "+-------+------------------+\n",
            "\n",
            "\n",
            "Distribution of salary:\n",
            "+-------+------------------+\n",
            "|summary|            salary|\n",
            "+-------+------------------+\n",
            "|  count|              1000|\n",
            "|   mean| 73722.50823828125|\n",
            "| stddev|21597.961007390724|\n",
            "|    min|         35610.594|\n",
            "|    25%|         57189.664|\n",
            "|    50%|         70720.695|\n",
            "|    75%|          85925.05|\n",
            "|    max|          148138.6|\n",
            "+-------+------------------+\n",
            "\n",
            "\n",
            "Distribution of experience:\n",
            "+-------+-----------------+\n",
            "|summary|       experience|\n",
            "+-------+-----------------+\n",
            "|  count|             1000|\n",
            "|   mean|             9.38|\n",
            "| stddev|8.835930832327382|\n",
            "|    min|                0|\n",
            "|    25%|                2|\n",
            "|    50%|                7|\n",
            "|    75%|               14|\n",
            "|    max|               37|\n",
            "+-------+-----------------+\n",
            "\n",
            "\n",
            "Distribution of education_level:\n",
            "+---------------+-----+\n",
            "|education_level|count|\n",
            "+---------------+-----+\n",
            "|       Bachelor|  263|\n",
            "|         Master|  259|\n",
            "|            PhD|  244|\n",
            "|    High School|  234|\n",
            "+---------------+-----+\n",
            "\n",
            "\n",
            "Distribution of job_role:\n",
            "+--------+-----+\n",
            "|job_role|count|\n",
            "+--------+-----+\n",
            "| Manager|  273|\n",
            "|   Clerk|  250|\n",
            "| Analyst|  244|\n",
            "|Engineer|  233|\n",
            "+--------+-----+\n",
            "\n",
            "\n",
            "=== Hiring Rate Analysis ===\n",
            "\n",
            "Overall Hiring Rate:\n",
            "+-----+-----+\n",
            "|hired|count|\n",
            "+-----+-----+\n",
            "|    1|  462|\n",
            "|    0|  538|\n",
            "+-----+-----+\n",
            "\n",
            "\n",
            "Hiring Rate by Education Level:\n",
            "+---------------+-----------+-------------------+\n",
            "|education_level|total_count|        hiring_rate|\n",
            "+---------------+-----------+-------------------+\n",
            "|         Master|        259|  0.528957528957529|\n",
            "|            PhD|        244| 0.4959016393442623|\n",
            "|       Bachelor|        263| 0.4524714828897338|\n",
            "|    High School|        234|0.36324786324786323|\n",
            "+---------------+-----------+-------------------+\n",
            "\n",
            "\n",
            "Hiring Rate by Job Role:\n",
            "+--------+-----------+-------------------+\n",
            "|job_role|total_count|        hiring_rate|\n",
            "+--------+-----------+-------------------+\n",
            "| Analyst|        244|0.48360655737704916|\n",
            "|Engineer|        233|0.47639484978540775|\n",
            "| Manager|        273| 0.4725274725274725|\n",
            "|   Clerk|        250|              0.416|\n",
            "+--------+-----------+-------------------+\n",
            "\n",
            "\n",
            "=== Statistics by Hiring Decision ===\n",
            "\n",
            "age Statistics by Hiring Decision:\n",
            "+-----+------------------+---+---+\n",
            "|hired|              mean|min|max|\n",
            "+-----+------------------+---+---+\n",
            "|    1|41.357142857142854| 22| 60|\n",
            "|    0|39.721189591078065| 22| 60|\n",
            "+-----+------------------+---+---+\n",
            "\n",
            "\n",
            "salary Statistics by Hiring Decision:\n",
            "+-----+-----------------+---------+---------+\n",
            "|hired|             mean|      min|      max|\n",
            "+-----+-----------------+---------+---------+\n",
            "|    1|75653.79597876083| 35660.38|139281.95|\n",
            "|    0|72064.04181430065|35610.594| 148138.6|\n",
            "+-----+-----------------+---------+---------+\n",
            "\n",
            "\n",
            "experience Statistics by Hiring Decision:\n",
            "+-----+-----------------+---+---+\n",
            "|hired|             mean|min|max|\n",
            "+-----+-----------------+---+---+\n",
            "|    1|9.785714285714286|  0| 36|\n",
            "|    0|9.031598513011152|  0| 37|\n",
            "+-----+-----------------+---+---+\n",
            "\n"
          ]
        }
      ]
    }
  ],
  "metadata": {
    "kernelspec": {
      "display_name": "Python 3 (ipykernel)",
      "language": "python",
      "name": "python3"
    },
    "language_info": {
      "codemirror_mode": {
        "name": "ipython",
        "version": 3
      },
      "file_extension": ".py",
      "mimetype": "text/x-python",
      "name": "python",
      "nbconvert_exporter": "python",
      "pygments_lexer": "ipython3",
      "version": "3.10.12"
    },
    "colab": {
      "provenance": []
    }
  },
  "nbformat": 4,
  "nbformat_minor": 5
}