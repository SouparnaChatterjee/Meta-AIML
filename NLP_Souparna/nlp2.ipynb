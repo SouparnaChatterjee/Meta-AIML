{
  "nbformat": 4,
  "nbformat_minor": 0,
  "metadata": {
    "colab": {
      "provenance": [],
      "authorship_tag": "ABX9TyO0AjiS/vRf9MJwtu1bb35m"
    },
    "kernelspec": {
      "name": "python3",
      "display_name": "Python 3"
    },
    "language_info": {
      "name": "python"
    }
  },
  "cells": [
    {
      "cell_type": "code",
      "execution_count": 3,
      "metadata": {
        "colab": {
          "base_uri": "https://localhost:8080/"
        },
        "id": "UJbI23l9OKvO",
        "outputId": "030767c0-4e8c-4b60-9a77-7ee91d628cb0"
      },
      "outputs": [
        {
          "output_type": "stream",
          "name": "stdout",
          "text": [
            "Souparna\n"
          ]
        }
      ],
      "source": [
        "#passing my name as a string and printing it\n",
        "\n",
        "name=\"Souparna\"\n",
        "print(name)"
      ]
    },
    {
      "cell_type": "code",
      "source": [
        "#get indexing position\n",
        "name=\"Souparna\"\n",
        "print(name[3])"
      ],
      "metadata": {
        "colab": {
          "base_uri": "https://localhost:8080/"
        },
        "id": "SiM6Y_yKPSEG",
        "outputId": "e7189990-1177-4d96-9790-3b115250156f"
      },
      "execution_count": 4,
      "outputs": [
        {
          "output_type": "stream",
          "name": "stdout",
          "text": [
            "p\n"
          ]
        }
      ]
    },
    {
      "cell_type": "code",
      "source": [
        "name=\"Souparna\"\n",
        "print(name[3:6])\n",
        "\n",
        "print(\"-\"*50)\n",
        "\n",
        "print(name[2:6:2])"
      ],
      "metadata": {
        "colab": {
          "base_uri": "https://localhost:8080/"
        },
        "id": "fxxlVRy0O-aq",
        "outputId": "c758b139-42a1-4bfc-faaa-5d775eb0d5fc"
      },
      "execution_count": 5,
      "outputs": [
        {
          "output_type": "stream",
          "name": "stdout",
          "text": [
            "par\n",
            "--------------------------------------------------\n",
            "ua\n"
          ]
        }
      ]
    },
    {
      "cell_type": "code",
      "source": [
        "name=\"Souparna chatterjee\"\n",
        "print(name.split())\n",
        "\n",
        "#splits based on spaces"
      ],
      "metadata": {
        "colab": {
          "base_uri": "https://localhost:8080/"
        },
        "id": "1hseS80WPuEt",
        "outputId": "8e1ebc0c-01df-4d83-e5c6-8f794eaa31de"
      },
      "execution_count": 7,
      "outputs": [
        {
          "output_type": "stream",
          "name": "stdout",
          "text": [
            "['Souparna', 'chatterjee']\n"
          ]
        }
      ]
    },
    {
      "cell_type": "code",
      "source": [
        "print(name.upper())\n",
        "\n",
        "print(name.lower())\n",
        "\n",
        "#we print in ujpper and lower cases"
      ],
      "metadata": {
        "colab": {
          "base_uri": "https://localhost:8080/"
        },
        "id": "kgLZMX7jQAmz",
        "outputId": "7af009bd-9439-4242-9a32-21784a1f0fc6"
      },
      "execution_count": 8,
      "outputs": [
        {
          "output_type": "stream",
          "name": "stdout",
          "text": [
            "SOUPARNA CHATTERJEE\n",
            "souparna chatterjee\n"
          ]
        }
      ]
    },
    {
      "cell_type": "code",
      "source": [
        "name=\"Souparna \"\n",
        "print(name.replace(\"Sou\",\"A\"))"
      ],
      "metadata": {
        "colab": {
          "base_uri": "https://localhost:8080/"
        },
        "id": "64W9DlpvQLs3",
        "outputId": "dadb7fe3-9f54-4a0a-9122-b940fe349031"
      },
      "execution_count": 9,
      "outputs": [
        {
          "output_type": "stream",
          "name": "stdout",
          "text": [
            "Aparna \n"
          ]
        }
      ]
    },
    {
      "cell_type": "code",
      "source": [
        "a=\"Souparna is\"\n",
        "b=\"a girl\"\n",
        "print(a+\" \"+b)"
      ],
      "metadata": {
        "colab": {
          "base_uri": "https://localhost:8080/"
        },
        "id": "y2scni9GQcVD",
        "outputId": "5263aed3-8dbe-4450-cbf6-7c1898522d23"
      },
      "execution_count": 10,
      "outputs": [
        {
          "output_type": "stream",
          "name": "stdout",
          "text": [
            "Souparna is a girl\n"
          ]
        }
      ]
    },
    {
      "cell_type": "code",
      "source": [
        "file=open(\"dataset.txt\",\"w+\")"
      ],
      "metadata": {
        "id": "eeZhsaw3Q5vR"
      },
      "execution_count": 11,
      "outputs": []
    },
    {
      "cell_type": "code",
      "source": [
        "for i in range(5):\n",
        "  file.write(\"line number is %d\\r\\n\" % (i+1))"
      ],
      "metadata": {
        "id": "ROerY1ncQoiS"
      },
      "execution_count": 13,
      "outputs": []
    },
    {
      "cell_type": "code",
      "source": [],
      "metadata": {
        "id": "-6f2Od2ERD0d"
      },
      "execution_count": null,
      "outputs": []
    }
  ]
}
